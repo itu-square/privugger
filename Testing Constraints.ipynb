{
 "cells": [
  {
   "cell_type": "code",
   "execution_count": 16,
   "id": "44da936c",
   "metadata": {},
   "outputs": [],
   "source": [
    "import pymc3 as pm\n",
    "import numpy as np"
   ]
  },
  {
   "cell_type": "code",
   "execution_count": 29,
   "id": "242b59d8",
   "metadata": {},
   "outputs": [
    {
     "name": "stderr",
     "output_type": "stream",
     "text": [
      "<ipython-input-29-5bc485c90198>:7: FutureWarning: In v4.0, pm.sample will return an `arviz.InferenceData` object instead of a `MultiTrace` by default. You can pass return_inferencedata=True or return_inferencedata=False to be safe and silence this warning.\n",
      "  trace = pm.sample(1000)\n",
      "Auto-assigning NUTS sampler...\n",
      "Initializing NUTS using jitter+adapt_diag...\n",
      "Multiprocess sampling (2 chains in 2 jobs)\n",
      "NUTS: [age]\n"
     ]
    },
    {
     "data": {
      "text/html": [
       "\n",
       "    <div>\n",
       "        <style>\n",
       "            /* Turns off some styling */\n",
       "            progress {\n",
       "                /* gets rid of default border in Firefox and Opera. */\n",
       "                border: none;\n",
       "                /* Needs to be in here for Safari polyfill so background images work as expected. */\n",
       "                background-size: auto;\n",
       "            }\n",
       "            .progress-bar-interrupted, .progress-bar-interrupted::-webkit-progress-bar {\n",
       "                background: #F44336;\n",
       "            }\n",
       "        </style>\n",
       "      <progress value='4000' class='' max='4000' style='width:300px; height:20px; vertical-align: middle;'></progress>\n",
       "      100.00% [4000/4000 00:03<00:00 Sampling 2 chains, 2,000 divergences]\n",
       "    </div>\n",
       "    "
      ],
      "text/plain": [
       "<IPython.core.display.HTML object>"
      ]
     },
     "metadata": {},
     "output_type": "display_data"
    },
    {
     "name": "stderr",
     "output_type": "stream",
     "text": [
      "Sampling 2 chains for 1_000 tune and 1_000 draw iterations (2_000 + 2_000 draws total) took 13 seconds.\n",
      "The chain contains only diverging samples. The model is probably misspecified.\n",
      "The acceptance probability does not match the target. It is 0.8865981441674066, but should be close to 0.8. Try to increase the number of tuning steps.\n",
      "The chain contains only diverging samples. The model is probably misspecified.\n",
      "The acceptance probability does not match the target. It is 0.8811252967541561, but should be close to 0.8. Try to increase the number of tuning steps.\n",
      "The rhat statistic is larger than 1.05 for some parameters. This indicates slight problems during sampling.\n",
      "The estimated number of effective samples is smaller than 200 for some parameters.\n"
     ]
    }
   ],
   "source": [
    "with pm.Model() as model:\n",
    "    age = pm.Normal(\"age\", 10, 2, shape=10)\n",
    "    output = pm.Deterministic(\"output\", pm.math.sum(age)/10)\n",
    "    cons = pm.Deterministic(\"cons\", output)\n",
    "    observation = pm.Bernoulli(\"observation\", 1*((output > 11.)), observed=1)\n",
    "    observation2 = pm.Bernoulli(\"observation2\", 1*(12 > observation), observed=1)\n",
    "    trace = pm.sample(1000)"
   ]
  },
  {
   "cell_type": "code",
   "execution_count": 28,
   "id": "39850965",
   "metadata": {},
   "outputs": [
    {
     "data": {
      "text/plain": [
       "array([11.35612944, 11.55641948, 11.43567917, ..., 11.0106898 ,\n",
       "       11.0926528 , 11.0926528 ])"
      ]
     },
     "execution_count": 28,
     "metadata": {},
     "output_type": "execute_result"
    }
   ],
   "source": [
    "trace[\"output\"]"
   ]
  },
  {
   "cell_type": "code",
   "execution_count": 2,
   "id": "45379cbf",
   "metadata": {},
   "outputs": [
    {
     "data": {
      "text/plain": [
       "'s<10'"
      ]
     },
     "execution_count": 2,
     "metadata": {},
     "output_type": "execute_result"
    }
   ],
   "source": [
    "cons = \"s>10\"\n",
    "cons.replace(\">\",\"<\")"
   ]
  },
  {
   "cell_type": "code",
   "execution_count": 3,
   "id": "9b968154",
   "metadata": {},
   "outputs": [
    {
     "data": {
      "text/plain": [
       "'s>10'"
      ]
     },
     "execution_count": 3,
     "metadata": {},
     "output_type": "execute_result"
    }
   ],
   "source": [
    "cons"
   ]
  },
  {
   "cell_type": "code",
   "execution_count": 8,
   "id": "ebcf3a7f",
   "metadata": {},
   "outputs": [],
   "source": [
    "test = lambda a,b: None"
   ]
  },
  {
   "cell_type": "code",
   "execution_count": 9,
   "id": "4c4831ee",
   "metadata": {},
   "outputs": [
    {
     "name": "stdout",
     "output_type": "stream",
     "text": [
      "hello\n"
     ]
    }
   ],
   "source": [
    "test(1,2)\n",
    "print(\"hello\")"
   ]
  },
  {
   "cell_type": "code",
   "execution_count": 10,
   "id": "aed25c7e",
   "metadata": {},
   "outputs": [],
   "source": [
    "l = [1,2,3,4,5]"
   ]
  },
  {
   "cell_type": "code",
   "execution_count": 11,
   "id": "3fb47a77",
   "metadata": {},
   "outputs": [
    {
     "data": {
      "text/plain": [
       "1"
      ]
     },
     "execution_count": 11,
     "metadata": {},
     "output_type": "execute_result"
    }
   ],
   "source": [
    "l.index(2)"
   ]
  },
  {
   "cell_type": "code",
   "execution_count": 12,
   "id": "f39b9d41",
   "metadata": {},
   "outputs": [
    {
     "name": "stderr",
     "output_type": "stream",
     "text": [
      "WARNING (theano.tensor.blas): Using NumPy C-API based implementation for BLAS functions.\n"
     ]
    },
    {
     "name": "stdout",
     "output_type": "stream",
     "text": [
      "[age ~ Normal]\n",
      "HERE!\n"
     ]
    },
    {
     "name": "stderr",
     "output_type": "stream",
     "text": [
      "C:\\Users\\Mathias\\Documents\\dev\\privugger\\privugger\\transformer\\method.py:164: FutureWarning: In v4.0, pm.sample will return an `arviz.InferenceData` object instead of a `MultiTrace` by default. You can pass return_inferencedata=True or return_inferencedata=False to be safe and silence this warning.\n",
      "  trace = pm.sample(draws=draws, chains=chains, cores=cores)\n",
      "Auto-assigning NUTS sampler...\n",
      "Initializing NUTS using jitter+adapt_diag...\n",
      "Initializing NUTS failed. Falling back to elementwise auto-assignment.\n",
      "Multiprocess sampling (2 chains in 2 jobs)\n",
      "Slice: [age]\n",
      "Could not pickle model, sampling singlethreaded.\n",
      "Sequential sampling (2 chains in 1 job)\n",
      "Slice: [age]\n"
     ]
    },
    {
     "data": {
      "text/html": [
       "\n",
       "    <div>\n",
       "        <style>\n",
       "            /* Turns off some styling */\n",
       "            progress {\n",
       "                /* gets rid of default border in Firefox and Opera. */\n",
       "                border: none;\n",
       "                /* Needs to be in here for Safari polyfill so background images work as expected. */\n",
       "                background-size: auto;\n",
       "            }\n",
       "            .progress-bar-interrupted, .progress-bar-interrupted::-webkit-progress-bar {\n",
       "                background: #F44336;\n",
       "            }\n",
       "        </style>\n",
       "      <progress value='2000' class='' max='2000' style='width:300px; height:20px; vertical-align: middle;'></progress>\n",
       "      100.00% [2000/2000 00:05<00:00 Sampling chain 0, 0 divergences]\n",
       "    </div>\n",
       "    "
      ],
      "text/plain": [
       "<IPython.core.display.HTML object>"
      ]
     },
     "metadata": {},
     "output_type": "display_data"
    },
    {
     "data": {
      "text/html": [
       "\n",
       "    <div>\n",
       "        <style>\n",
       "            /* Turns off some styling */\n",
       "            progress {\n",
       "                /* gets rid of default border in Firefox and Opera. */\n",
       "                border: none;\n",
       "                /* Needs to be in here for Safari polyfill so background images work as expected. */\n",
       "                background-size: auto;\n",
       "            }\n",
       "            .progress-bar-interrupted, .progress-bar-interrupted::-webkit-progress-bar {\n",
       "                background: #F44336;\n",
       "            }\n",
       "        </style>\n",
       "      <progress value='2000' class='' max='2000' style='width:300px; height:20px; vertical-align: middle;'></progress>\n",
       "      100.00% [2000/2000 00:05<00:00 Sampling chain 1, 0 divergences]\n",
       "    </div>\n",
       "    "
      ],
      "text/plain": [
       "<IPython.core.display.HTML object>"
      ]
     },
     "metadata": {},
     "output_type": "display_data"
    },
    {
     "name": "stderr",
     "output_type": "stream",
     "text": [
      "Sampling 2 chains for 1_000 tune and 1_000 draw iterations (2_000 + 2_000 draws total) took 11 seconds.\n"
     ]
    }
   ],
   "source": [
    "import privugger as pv\n",
    "import numpy as np\n",
    "\n",
    "def alpha(age):\n",
    "    return (age.sum()) / (age.size)\n",
    "\n",
    "#################\n",
    "## AGE EXAMPLE ##\n",
    "#################\n",
    "\n",
    "# Database size\n",
    "N    = 10\n",
    "\n",
    "# Specify distributions\n",
    "age  = pv.Normal(mu=55.2, std=3.5, num_elements=N)\n",
    "\n",
    "# Create dataset. Refer to \"age_alice\" as \"age1\" in the trace and \"age\" as \"age2\" in the trace. This is the general naming convention. \n",
    "ds   = pv.Dataset(input_specs = [age],\n",
    "                  var_names   = [\"age\"])\n",
    "\n",
    "# For now output type can be: Int, Float, List(Float), List(Int)\n",
    "program = pv.Program(dataset=ds, output_type=pv.Float, method=alpha)\n",
    "\n",
    "# Add observations\n",
    "program.add_observation(\"output>56\")\n",
    "\n",
    "# Call infer and specify program output\n",
    "trace = pv.infer(program, cores=2, draws=1000)"
   ]
  },
  {
   "cell_type": "code",
   "execution_count": 13,
   "id": "ec4db518",
   "metadata": {},
   "outputs": [
    {
     "data": {
      "text/plain": [
       "array([55.66616392, 55.47249759, 55.05359007, ..., 54.26840019,\n",
       "       55.97257268, 54.34751812])"
      ]
     },
     "execution_count": 13,
     "metadata": {},
     "output_type": "execute_result"
    }
   ],
   "source": [
    "trace[\"output\"]"
   ]
  },
  {
   "cell_type": "code",
   "execution_count": 15,
   "id": "864acb32",
   "metadata": {},
   "outputs": [
    {
     "name": "stdout",
     "output_type": "stream",
     "text": [
      "True\n"
     ]
    }
   ],
   "source": [
    "print(all(np.array(trace[\"output\"] < 56).flatten()))"
   ]
  },
  {
   "cell_type": "code",
   "execution_count": null,
   "id": "c6bd3014",
   "metadata": {},
   "outputs": [],
   "source": []
  }
 ],
 "metadata": {
  "kernelspec": {
   "display_name": "Python 3",
   "language": "python",
   "name": "python3"
  },
  "language_info": {
   "codemirror_mode": {
    "name": "ipython",
    "version": 3
   },
   "file_extension": ".py",
   "mimetype": "text/x-python",
   "name": "python",
   "nbconvert_exporter": "python",
   "pygments_lexer": "ipython3",
   "version": "3.8.5"
  }
 },
 "nbformat": 4,
 "nbformat_minor": 5
}
