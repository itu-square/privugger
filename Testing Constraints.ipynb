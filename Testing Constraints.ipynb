{
 "cells": [
  {
   "cell_type": "code",
   "execution_count": 6,
   "id": "44da936c",
   "metadata": {},
   "outputs": [],
   "source": [
    "import pymc3 as pm\n",
    "import numpy as np"
   ]
  },
  {
   "cell_type": "code",
   "execution_count": 20,
   "id": "32426e17",
   "metadata": {},
   "outputs": [
    {
     "name": "stderr",
     "output_type": "stream",
     "text": [
      "<ipython-input-20-7f919869279e>:5: FutureWarning: In v4.0, pm.sample will return an `arviz.InferenceData` object instead of a `MultiTrace` by default. You can pass return_inferencedata=True or return_inferencedata=False to be safe and silence this warning.\n",
      "  trace = pm.sample(100, tune=5000)\n",
      "Only 100 samples in chain.\n",
      "Auto-assigning NUTS sampler...\n",
      "Initializing NUTS using jitter+adapt_diag...\n",
      "Multiprocess sampling (2 chains in 2 jobs)\n",
      "NUTS: [age]\n"
     ]
    },
    {
     "data": {
      "text/html": [
       "\n",
       "    <div>\n",
       "        <style>\n",
       "            /* Turns off some styling */\n",
       "            progress {\n",
       "                /* gets rid of default border in Firefox and Opera. */\n",
       "                border: none;\n",
       "                /* Needs to be in here for Safari polyfill so background images work as expected. */\n",
       "                background-size: auto;\n",
       "            }\n",
       "            .progress-bar-interrupted, .progress-bar-interrupted::-webkit-progress-bar {\n",
       "                background: #F44336;\n",
       "            }\n",
       "        </style>\n",
       "      <progress value='10200' class='' max='10200' style='width:300px; height:20px; vertical-align: middle;'></progress>\n",
       "      100.00% [10200/10200 00:05<00:00 Sampling 2 chains, 200 divergences]\n",
       "    </div>\n",
       "    "
      ],
      "text/plain": [
       "<IPython.core.display.HTML object>"
      ]
     },
     "metadata": {},
     "output_type": "display_data"
    },
    {
     "name": "stderr",
     "output_type": "stream",
     "text": [
      "Sampling 2 chains for 5_000 tune and 100 draw iterations (10_000 + 200 draws total) took 15 seconds.\n",
      "The chain contains only diverging samples. The model is probably misspecified.\n",
      "The chain contains only diverging samples. The model is probably misspecified.\n",
      "The acceptance probability does not match the target. It is 0.6596535989339029, but should be close to 0.8. Try to increase the number of tuning steps.\n",
      "The rhat statistic is larger than 1.4 for some parameters. The sampler did not converge.\n",
      "The number of effective samples is smaller than 10% for some parameters.\n"
     ]
    }
   ],
   "source": [
    "with pm.Model() as model:\n",
    "    age = pm.Normal(\"age\", 10, 100, shape=10)\n",
    "    output = pm.Deterministic(\"output\", pm.math.sum(age)/10)\n",
    "    observation = pm.Normal(\"observation\", age > 50, 0.00001, observed=1)\n",
    "    trace = pm.sample(100, tune=5000)"
   ]
  },
  {
   "cell_type": "code",
   "execution_count": 21,
   "id": "268e9b3f",
   "metadata": {},
   "outputs": [
    {
     "data": {
      "text/plain": [
       "array([ -10.48333097,  -10.20042317,  -10.04898343,  -10.04898343,\n",
       "        -10.04898343,  -10.04898343,  -12.26671775,  -12.26671775,\n",
       "        -10.73541399,  -10.73541399,   -8.93309019,   -7.21501862,\n",
       "        -12.79587408,  -16.0695367 ,  -14.95515897,  -14.79959219,\n",
       "        -14.79959219,  -14.79959219,  -14.79959219,  -14.79959219,\n",
       "        -15.06967704,  -14.11379727,  -21.21875102,  -16.9844834 ,\n",
       "        -18.16323097,  -17.73614971,  -25.07880967,  -30.55094371,\n",
       "        -37.07322185,  -26.86909509,  -26.86909509,  -26.16596046,\n",
       "        -26.51225941,  -36.31567529,  -48.26793051,  -41.79815921,\n",
       "        -83.73173997,  -75.3799204 ,  -70.62039583,  -70.44900881,\n",
       "        -57.69934993,  -55.33623019,  -67.555549  ,  -61.93765903,\n",
       "        -55.18243275,  -56.18056238,  -63.0451804 ,  -60.29362752,\n",
       "        -67.40056182,  -79.7811195 ,  -69.07876539,  -69.47398295,\n",
       "        -69.36254872,  -79.68176249,  -71.73847771,  -73.14641453,\n",
       "        -69.35292689,  -66.92383651,  -68.01063022,  -77.52437788,\n",
       "        -70.13657492,  -65.02716025,  -59.54397219,  -67.62506557,\n",
       "        -69.99685098,  -64.65180929,  -60.77598516,  -58.4717866 ,\n",
       "        -92.20239966,  -97.41691516, -104.60545354,  -99.85363595,\n",
       "        -94.14125711,  -91.31457544,  -82.99357157,  -79.15392694,\n",
       "        -79.15392694,  -79.15392694,  -79.15392694,  -74.83984771,\n",
       "        -78.16981526,  -75.12818204,  -70.39204633,  -71.20825992,\n",
       "        -69.31442435,  -70.67476442,  -62.57395213,  -63.98920107,\n",
       "        -58.95219119,  -58.62040306,  -60.03025279,  -62.0725255 ,\n",
       "        -41.25678853,  -39.6367258 ,  -48.83842915,  -53.22421198,\n",
       "        -52.19705551,  -53.69938766,  -49.28802441,  -48.79277502,\n",
       "        -24.15142113,  -28.20086765,  -26.67586821,  -23.75537198,\n",
       "        -18.54857775,  -18.54857775,  -20.37930095,  -14.25308681,\n",
       "        -13.99479611,  -12.30965477,   -9.2888231 ,   -9.2888231 ,\n",
       "         -7.36002515,  -12.30477029,  -12.30477029,  -15.85453561,\n",
       "        -19.28721123,  -15.59860462,  -15.59860462,  -15.59860462,\n",
       "        -16.08676823,  -16.08676823,  -16.08676823,  -17.5709233 ,\n",
       "        -28.6351692 ,  -28.6351692 ,  -27.9720939 ,  -29.07753102,\n",
       "        -26.29998705,  -25.21027294,  -24.15508648,  -26.19265779,\n",
       "        -26.19265779,  -26.19265779,  -20.71134293,  -24.84262582,\n",
       "        -19.78175789,  -19.78175789,  -19.78175789,  -21.05821561,\n",
       "        -21.05821561,  -21.05821561,  -21.05821561,  -17.08046551,\n",
       "        -18.65061521,  -18.62290119,  -18.62290119,  -35.87226398,\n",
       "        -35.87226398,  -35.87226398,  -35.87226398,  -33.24293043,\n",
       "        -33.24293043,  -35.66380818,  -35.66380818,  -35.66380818,\n",
       "        -41.04802415,  -41.04802415,  -38.44004296,  -38.84308621,\n",
       "        -36.81068939,  -37.07388636,  -37.07388636,  -37.07388636,\n",
       "        -34.90076724,  -35.82545976,  -35.82545976,  -35.82545976,\n",
       "        -42.4926472 ,  -48.33985889,  -58.83797013,  -62.36280285,\n",
       "        -62.83121475,  -62.83121475,  -65.31007238,  -65.31007238,\n",
       "        -61.76749583,  -54.27575551,  -56.53720698,  -49.9387543 ,\n",
       "        -43.65158178,  -35.61494615,  -33.78422033,  -27.73759947,\n",
       "        -28.03075793,  -25.11484962,  -18.17062135,  -29.96185113,\n",
       "        -29.96185113,  -34.88522301,  -34.88522301,  -30.39470464,\n",
       "        -29.88096848,  -29.88096848,  -29.88096848,  -41.89129837,\n",
       "        -39.69803613,  -31.88890962,  -35.8632155 ,  -36.08466565])"
      ]
     },
     "execution_count": 21,
     "metadata": {},
     "output_type": "execute_result"
    }
   ],
   "source": [
    "trace[\"output\"]"
   ]
  },
  {
   "cell_type": "code",
   "execution_count": 23,
   "id": "242b59d8",
   "metadata": {},
   "outputs": [
    {
     "name": "stderr",
     "output_type": "stream",
     "text": [
      "<ipython-input-23-6c182117d8fd>:8: FutureWarning: In v4.0, pm.sample will return an `arviz.InferenceData` object instead of a `MultiTrace` by default. You can pass return_inferencedata=True or return_inferencedata=False to be safe and silence this warning.\n",
      "  trace = pm.sample(1000)\n",
      "Auto-assigning NUTS sampler...\n",
      "Initializing NUTS using jitter+adapt_diag...\n",
      "Multiprocess sampling (2 chains in 2 jobs)\n",
      "NUTS: [age]\n"
     ]
    },
    {
     "data": {
      "text/html": [
       "\n",
       "    <div>\n",
       "        <style>\n",
       "            /* Turns off some styling */\n",
       "            progress {\n",
       "                /* gets rid of default border in Firefox and Opera. */\n",
       "                border: none;\n",
       "                /* Needs to be in here for Safari polyfill so background images work as expected. */\n",
       "                background-size: auto;\n",
       "            }\n",
       "            .progress-bar-interrupted, .progress-bar-interrupted::-webkit-progress-bar {\n",
       "                background: #F44336;\n",
       "            }\n",
       "        </style>\n",
       "      <progress value='4000' class='' max='4000' style='width:300px; height:20px; vertical-align: middle;'></progress>\n",
       "      100.00% [4000/4000 00:03<00:00 Sampling 2 chains, 1,999 divergences]\n",
       "    </div>\n",
       "    "
      ],
      "text/plain": [
       "<IPython.core.display.HTML object>"
      ]
     },
     "metadata": {},
     "output_type": "display_data"
    },
    {
     "name": "stderr",
     "output_type": "stream",
     "text": [
      "Sampling 2 chains for 1_000 tune and 1_000 draw iterations (2_000 + 2_000 draws total) took 14 seconds.\n",
      "There were 999 divergences after tuning. Increase `target_accept` or reparameterize.\n",
      "The chain contains only diverging samples. The model is probably misspecified.\n",
      "The rhat statistic is larger than 1.05 for some parameters. This indicates slight problems during sampling.\n",
      "The estimated number of effective samples is smaller than 200 for some parameters.\n"
     ]
    }
   ],
   "source": [
    "with pm.Model() as model:\n",
    "    age = pm.Normal(\"age\", 10, 2, shape=10, testval=[11.5]*10)\n",
    "    output = pm.Deterministic(\"output\", pm.math.sum(age)/10)\n",
    "    cons = pm.Deterministic(\"cons\", output)\n",
    "    observation = pm.Bernoulli(\"observation\", 1*((output > 11.)), observed=1)\n",
    "    observation2 = pm.Bernoulli(\"observation2\", 1*(12 > observation), observed=1)\n",
    "    \n",
    "    trace = pm.sample(1000)"
   ]
  },
  {
   "cell_type": "code",
   "execution_count": 28,
   "id": "39850965",
   "metadata": {},
   "outputs": [
    {
     "data": {
      "text/plain": [
       "array([11.35612944, 11.55641948, 11.43567917, ..., 11.0106898 ,\n",
       "       11.0926528 , 11.0926528 ])"
      ]
     },
     "execution_count": 28,
     "metadata": {},
     "output_type": "execute_result"
    }
   ],
   "source": [
    "trace[\"output\"]"
   ]
  },
  {
   "cell_type": "code",
   "execution_count": 2,
   "id": "45379cbf",
   "metadata": {},
   "outputs": [
    {
     "data": {
      "text/plain": [
       "'s<10'"
      ]
     },
     "execution_count": 2,
     "metadata": {},
     "output_type": "execute_result"
    }
   ],
   "source": [
    "cons = \"s>10\"\n",
    "cons.replace(\">\",\"<\")"
   ]
  },
  {
   "cell_type": "code",
   "execution_count": 3,
   "id": "62383d5b",
   "metadata": {},
   "outputs": [
    {
     "data": {
      "text/plain": [
       "'s>10'"
      ]
     },
     "execution_count": 3,
     "metadata": {},
     "output_type": "execute_result"
    }
   ],
   "source": [
    "cons"
   ]
  },
  {
   "cell_type": "code",
   "execution_count": 8,
   "id": "a3ac5540",
   "metadata": {},
   "outputs": [],
   "source": [
    "test = lambda a,b: None"
   ]
  },
  {
   "cell_type": "code",
   "execution_count": 9,
   "id": "151dcbcf",
   "metadata": {},
   "outputs": [
    {
     "name": "stdout",
     "output_type": "stream",
     "text": [
      "hello\n"
     ]
    }
   ],
   "source": [
    "test(1,2)\n",
    "print(\"hello\")"
   ]
  },
  {
   "cell_type": "code",
   "execution_count": 10,
   "id": "ddb80327",
   "metadata": {},
   "outputs": [],
   "source": [
    "l = [1,2,3,4,5]"
   ]
  },
  {
   "cell_type": "code",
   "execution_count": 11,
   "id": "355506ec",
   "metadata": {},
   "outputs": [
    {
     "data": {
      "text/plain": [
       "1"
      ]
     },
     "execution_count": 11,
     "metadata": {},
     "output_type": "execute_result"
    }
   ],
   "source": [
    "l.index(2)"
   ]
  },
  {
   "cell_type": "code",
   "execution_count": 3,
   "id": "4a4230b1",
   "metadata": {},
   "outputs": [
    {
     "name": "stderr",
     "output_type": "stream",
     "text": [
      "C:\\Users\\Mathias\\Documents\\dev\\privugger\\privugger\\transformer\\method.py:160: FutureWarning: In v4.0, pm.sample will return an `arviz.InferenceData` object instead of a `MultiTrace` by default. You can pass return_inferencedata=True or return_inferencedata=False to be safe and silence this warning.\n",
      "  trace = pm.sample(draws=draws, chains=chains, cores=cores)\n",
      "Auto-assigning NUTS sampler...\n",
      "Initializing NUTS using jitter+adapt_diag...\n",
      "Initializing NUTS failed. Falling back to elementwise auto-assignment.\n",
      "Multiprocess sampling (2 chains in 2 jobs)\n",
      "Slice: [age]\n",
      "Could not pickle model, sampling singlethreaded.\n",
      "Sequential sampling (2 chains in 1 job)\n",
      "Slice: [age]\n"
     ]
    },
    {
     "data": {
      "text/html": [
       "\n",
       "    <div>\n",
       "        <style>\n",
       "            /* Turns off some styling */\n",
       "            progress {\n",
       "                /* gets rid of default border in Firefox and Opera. */\n",
       "                border: none;\n",
       "                /* Needs to be in here for Safari polyfill so background images work as expected. */\n",
       "                background-size: auto;\n",
       "            }\n",
       "            .progress-bar-interrupted, .progress-bar-interrupted::-webkit-progress-bar {\n",
       "                background: #F44336;\n",
       "            }\n",
       "        </style>\n",
       "      <progress value='2000' class='' max='2000' style='width:300px; height:20px; vertical-align: middle;'></progress>\n",
       "      100.00% [2000/2000 00:05<00:00 Sampling chain 0, 0 divergences]\n",
       "    </div>\n",
       "    "
      ],
      "text/plain": [
       "<IPython.core.display.HTML object>"
      ]
     },
     "metadata": {},
     "output_type": "display_data"
    },
    {
     "data": {
      "text/html": [
       "\n",
       "    <div>\n",
       "        <style>\n",
       "            /* Turns off some styling */\n",
       "            progress {\n",
       "                /* gets rid of default border in Firefox and Opera. */\n",
       "                border: none;\n",
       "                /* Needs to be in here for Safari polyfill so background images work as expected. */\n",
       "                background-size: auto;\n",
       "            }\n",
       "            .progress-bar-interrupted, .progress-bar-interrupted::-webkit-progress-bar {\n",
       "                background: #F44336;\n",
       "            }\n",
       "        </style>\n",
       "      <progress value='2000' class='' max='2000' style='width:300px; height:20px; vertical-align: middle;'></progress>\n",
       "      100.00% [2000/2000 00:05<00:00 Sampling chain 1, 0 divergences]\n",
       "    </div>\n",
       "    "
      ],
      "text/plain": [
       "<IPython.core.display.HTML object>"
      ]
     },
     "metadata": {},
     "output_type": "display_data"
    },
    {
     "name": "stderr",
     "output_type": "stream",
     "text": [
      "Sampling 2 chains for 1_000 tune and 1_000 draw iterations (2_000 + 2_000 draws total) took 11 seconds.\n"
     ]
    }
   ],
   "source": [
    "import privugger as pv\n",
    "import numpy as np\n",
    "\n",
    "def alpha(age):\n",
    "    return (age.sum()) / (age.size)\n",
    "\n",
    "#################\n",
    "## AGE EXAMPLE ##\n",
    "#################\n",
    "\n",
    "# Database size\n",
    "N    = 10\n",
    "\n",
    "# Specify distributions\n",
    "age  = pv.Normal(mu=10, std=3.5, num_elements=N)\n",
    "\n",
    "# Create dataset. Refer to \"age_alice\" as \"age1\" in the trace and \"age\" as \"age2\" in the trace. This is the general naming convention. \n",
    "ds   = pv.Dataset(input_specs = [age],\n",
    "                  var_names   = [\"age\"])\n",
    "\n",
    "# For now output type can be: Int, Float, List(Float), List(Int)\n",
    "program = pv.Program(dataset=ds, output_type=pv.Float, method=alpha)\n",
    "\n",
    "# Add observations\n",
    "program.add_observation(\"57>output>56\")\n",
    "\n",
    "# Call infer and specify program output\n",
    "trace = pv.infer(program, cores=2, draws=1000)"
   ]
  },
  {
   "cell_type": "code",
   "execution_count": 4,
   "id": "bcce676b",
   "metadata": {},
   "outputs": [
    {
     "data": {
      "text/plain": [
       "array([ 7.9738064 ,  9.3916857 , 11.8016758 , ...,  9.26487021,\n",
       "       10.05119467,  9.68262933])"
      ]
     },
     "execution_count": 4,
     "metadata": {},
     "output_type": "execute_result"
    }
   ],
   "source": [
    "trace[\"output\"]"
   ]
  },
  {
   "cell_type": "code",
   "execution_count": 15,
   "id": "62b20e77",
   "metadata": {},
   "outputs": [
    {
     "name": "stdout",
     "output_type": "stream",
     "text": [
      "True\n"
     ]
    }
   ],
   "source": [
    "print(all(np.array(trace[\"output\"] < 56).flatten()))"
   ]
  },
  {
   "cell_type": "code",
   "execution_count": null,
   "id": "d9769df4",
   "metadata": {},
   "outputs": [],
   "source": []
  }
 ],
 "metadata": {
  "kernelspec": {
   "display_name": "Python 3",
   "language": "python",
   "name": "python3"
  },
  "language_info": {
   "codemirror_mode": {
    "name": "ipython",
    "version": 3
   },
   "file_extension": ".py",
   "mimetype": "text/x-python",
   "name": "python",
   "nbconvert_exporter": "python",
   "pygments_lexer": "ipython3",
   "version": "3.8.5"
  }
 },
 "nbformat": 4,
 "nbformat_minor": 5
}
