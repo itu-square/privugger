{
 "cells": [
  {
   "cell_type": "code",
   "execution_count": 1,
   "metadata": {},
   "outputs": [],
   "source": [
    "import matplotlib.pyplot as plt\n",
    "import arviz as az\n",
    "import numpy as np\n",
    "from random import *\n",
    "\n",
    "# move to previouse directory to access the privugger code\n",
    "import os, sys\n",
    "sys.path.append(os.path.join(\"../../\"))\n",
    "\n",
    "import privugger as pv"
   ]
  },
  {
   "cell_type": "markdown",
   "metadata": {},
   "source": [
    "# Solution of governor case study\n",
    "\n",
    "This tutorial is the continuity of the [Governor case study](https://itu-square.github.io/privugger/tutorials/Governor.html) where we propose you a solution.\n",
    "\n",
    "It shows how privugger can be used analyze the uniqueness of records after elements have been grouped."
   ]
  },
  {
   "cell_type": "markdown",
   "metadata": {},
   "source": [
    "## Probability of none mutual information programming\n",
    "\n",
    "We consider a program that takes a dataset with attributes: `countrie`, `zip` and `age`. \n",
    "The program returns a dataset after sorting elements by groups.\n",
    "\n",
    "As you can see below, we propose you 4 programs. Each one sorts a different number of attributes: from 0 to 3.\n",
    "\n",
    "Interesting thing to point, we create other numpy arrays where we store sorted data because rewriting on arrays doesn't work with privugger."
   ]
  },
  {
   "cell_type": "markdown",
   "metadata": {},
   "source": [
    "### All attributes are sorted by groups"
   ]
  },
  {
   "cell_type": "code",
   "execution_count": 2,
   "metadata": {},
   "outputs": [],
   "source": [
    "def all_attributes_sorted(countries, zips, ages):\n",
    "    output = []\n",
    "    rd_countries = np.repeat(0, countries.size)\n",
    "    rd_zips = np.repeat(0, zips.size)\n",
    "    rd_ages = np.repeat(0, ages.size)\n",
    "    for i in range (100):\n",
    "        if 50 < countries[i] <= 100 :\n",
    "            rd_countries[i] = 2\n",
    "        elif countries[i] <= 50 :\n",
    "            rd_countries[i] =  1\n",
    "        elif 100 < countries[i] <= 150 :\n",
    "            rd_countries[i] =  3\n",
    "        elif 150 < countries[i] <= 195 :\n",
    "            rd_countries[i] =  4\n",
    "        if 25 < zips[i] <= 50 :\n",
    "            rd_zips[i] = 2\n",
    "        elif zips[i] <= 25 :\n",
    "            rd_zips[i] =  1\n",
    "        elif 50 < zips[i] <= 75 :\n",
    "            rd_zips[i] =  3\n",
    "        elif 75 < zips[i] <= 100 :\n",
    "            rd_zips[i] =  4\n",
    "        if 1977 < ages[i] <= 1992 :\n",
    "            rd_ages[i] = 2\n",
    "        elif ages[i] <= 1977 :\n",
    "            rd_ages[i] =  1\n",
    "        elif 1992 < ages[i] <= 2003 :\n",
    "            rd_ages[i] =  3\n",
    "    output.append(rd_countries)\n",
    "    output.append(rd_zips)\n",
    "    output.append(rd_ages)\n",
    "    return output"
   ]
  },
  {
   "cell_type": "markdown",
   "metadata": {},
   "source": [
    "### Zero attribute are sorted by groups"
   ]
  },
  {
   "cell_type": "code",
   "execution_count": 3,
   "metadata": {},
   "outputs": [],
   "source": [
    "def no_attribute_sorted(countries, zips, ages):\n",
    "    output = []\n",
    "    output.append(countries)\n",
    "    output.append(zips)\n",
    "    output.append(ages)\n",
    "    return output"
   ]
  },
  {
   "cell_type": "markdown",
   "metadata": {},
   "source": [
    "### One attributes is sorted by groups"
   ]
  },
  {
   "cell_type": "code",
   "execution_count": 4,
   "metadata": {},
   "outputs": [],
   "source": [
    "def one_attribute_sorted(countries, zips, ages):\n",
    "    output = []\n",
    "    rd_countries = np.repeat(0, countries.size)\n",
    "    for i in range (100):\n",
    "        if 50 < countries[i] <= 100 :\n",
    "            rd_countries[i] = 2\n",
    "        elif countries[i] <= 50 :\n",
    "            rd_countries[i] =  1\n",
    "        elif 100 < countries[i] <= 150 :\n",
    "            rd_countries[i] =  3\n",
    "        elif 150 < countries[i] <= 195 :\n",
    "            rd_countries[i] =  4\n",
    "    output.append(rd_countries)\n",
    "    output.append(zips)\n",
    "    output.append(ages)\n",
    "    return output"
   ]
  },
  {
   "cell_type": "markdown",
   "metadata": {},
   "source": [
    "### Two attributes are sorted by groups"
   ]
  },
  {
   "cell_type": "code",
   "execution_count": 5,
   "metadata": {},
   "outputs": [],
   "source": [
    "def two_attributes_sorted(countries, zips, ages):\n",
    "    output = []\n",
    "    rd_countries = np.repeat(0, countries.size)\n",
    "    rd_zips = np.repeat(0, zips.size)\n",
    "    for i in range (100):\n",
    "        if 50 < countries[i] <= 100 :\n",
    "            rd_countries[i] = 2\n",
    "        elif countries[i] <= 50 :\n",
    "            rd_countries[i] =  1\n",
    "        elif 100 < countries[i] <= 150 :\n",
    "            rd_countries[i] =  3\n",
    "        elif 150 < countries[i] <= 195 :\n",
    "            rd_countries[i] =  4\n",
    "        if 25 < zips[i] <= 50 :\n",
    "            rd_zips[i] = 2\n",
    "        elif zips[i] <= 25 :\n",
    "            rd_zips[i] =  1\n",
    "        elif 50 < zips[i] <= 75 :\n",
    "            rd_zips[i] =  3\n",
    "        elif 75 < zips[i] <= 100 :\n",
    "            rd_zips[i] =  4\n",
    "    output.append(rd_countries)\n",
    "    output.append(rd_zips)\n",
    "    output.append(ages)\n",
    "    return output"
   ]
  },
  {
   "cell_type": "markdown",
   "metadata": {},
   "source": [
    "## Input specification\n",
    "\n",
    "The variable N defines the size of the dataset (N_rv is a point distribution with all probability mass concentrated at N, this is necessary because the input specification must be composed by random variables). In this example, we consider a dataset of size 150.\n",
    "\n",
    "For `countries`, each number correspond to a country sorted by Alphabetic order. (Example: `1` = Afghanistan)\n",
    "\n",
    "For `ages`, it corresponds to the birth year of the person. We consider everyone in the dataset is between 18 and 60.\n",
    "\n",
    "For `zips`, we consider 100 different zips which are not necessarily existing zips. There were choose randomly fro the use of this case.\n",
    "\n",
    "For these attributes, we sepcfy a uniform distribution over all possible categories.\n",
    "\n",
    "Finally, we create the `Dataset` object with the complete input spec."
   ]
  },
  {
   "cell_type": "code",
   "execution_count": 6,
   "metadata": {},
   "outputs": [],
   "source": [
    "N = 100\n",
    "\n",
    "# Victim's record\n",
    "\n",
    "# Spec for the records of others    \n",
    "countries    = pv.DiscreteUniform(\"countries\", 1, 195, num_elements=N)\n",
    "ages      = pv.DiscreteUniform(\"ages\", 1962, 2003, num_elements=N)\n",
    "zips     = pv.DiscreteUniform(\"zips\", 1, 100, num_elements=N)\n",
    "\n",
    "# Dataset spec\n",
    "ds = pv.Dataset(input_specs = [countries, zips, ages])\n"
   ]
  },
  {
   "cell_type": "markdown",
   "metadata": {},
   "source": [
    "## Program specification\n",
    "\n",
    "The program specification takes the input specification above, and the program to analyze. The program to analyse depends on how many attributes the user wants to be sorted (between 0 to 3). We give the name `'output'` to the distribution of the output of the program. In this example, it is important to remark that the output of the program is a matrix of ints. In this matrix, each row models a row in the dataset, and each column models an attribute.\n"
   ]
  },
  {
   "cell_type": "code",
   "execution_count": 7,
   "metadata": {},
   "outputs": [],
   "source": [
    "while True :\n",
    "    sorting_way = input(\"Type the number of attributes you want to sort. (between 0 to 3) \")\n",
    "    if sorting_way == \"0\":\n",
    "        program   = pv.Program('output', dataset=ds, output_type=pv.Matrix(pv.Int), function=no_attribute_sorted)\n",
    "        break\n",
    "    elif sorting_way == \"1\":\n",
    "        program   = pv.Program('output', dataset=ds, output_type=pv.Matrix(pv.Int), function=one_attribute_sorted)\n",
    "        break\n",
    "    elif sorting_way == \"2\":\n",
    "        program   = pv.Program('output', dataset=ds, output_type=pv.Matrix(pv.Int), function=two_attributes_sorted)\n",
    "        break\n",
    "    elif sorting_way == \"3\":\n",
    "        program   = pv.Program('output', dataset=ds, output_type=pv.Matrix(pv.Int), function=all_attributes_sorted)\n",
    "        break\n",
    "    else:\n",
    "        print(\"Wrong number. Try again.\")\n",
    "        pass"
   ]
  },
  {
   "cell_type": "markdown",
   "metadata": {},
   "source": [
    "## Inference\n",
    "\n",
    "We use the pymc3 backend to perform the inference."
   ]
  },
  {
   "cell_type": "code",
   "execution_count": 8,
   "metadata": {},
   "outputs": [
    {
     "name": "stderr",
     "output_type": "stream",
     "text": [
      "Multiprocess sampling (2 chains in 4 jobs)\n",
      "CompoundStep\n",
      ">Metropolis: [countries]\n",
      ">Metropolis: [zips]\n",
      ">Metropolis: [ages]\n",
      "Could not pickle model, sampling singlethreaded.\n",
      "Sequential sampling (2 chains in 1 job)\n",
      "CompoundStep\n",
      ">Metropolis: [countries]\n",
      ">Metropolis: [zips]\n",
      ">Metropolis: [ages]\n"
     ]
    },
    {
     "data": {
      "text/html": [
       "\n",
       "    <div>\n",
       "        <style>\n",
       "            /* Turns off some styling */\n",
       "            progress {\n",
       "                /* gets rid of default border in Firefox and Opera. */\n",
       "                border: none;\n",
       "                /* Needs to be in here for Safari polyfill so background images work as expected. */\n",
       "                background-size: auto;\n",
       "            }\n",
       "            .progress-bar-interrupted, .progress-bar-interrupted::-webkit-progress-bar {\n",
       "                background: #F44336;\n",
       "            }\n",
       "        </style>\n",
       "      <progress value='11000' class='' max='11000' style='width:300px; height:20px; vertical-align: middle;'></progress>\n",
       "      100.00% [11000/11000 00:29<00:00 Sampling chain 0, 0 divergences]\n",
       "    </div>\n",
       "    "
      ],
      "text/plain": [
       "<IPython.core.display.HTML object>"
      ]
     },
     "metadata": {},
     "output_type": "display_data"
    },
    {
     "data": {
      "text/html": [
       "\n",
       "    <div>\n",
       "        <style>\n",
       "            /* Turns off some styling */\n",
       "            progress {\n",
       "                /* gets rid of default border in Firefox and Opera. */\n",
       "                border: none;\n",
       "                /* Needs to be in here for Safari polyfill so background images work as expected. */\n",
       "                background-size: auto;\n",
       "            }\n",
       "            .progress-bar-interrupted, .progress-bar-interrupted::-webkit-progress-bar {\n",
       "                background: #F44336;\n",
       "            }\n",
       "        </style>\n",
       "      <progress value='11000' class='' max='11000' style='width:300px; height:20px; vertical-align: middle;'></progress>\n",
       "      100.00% [11000/11000 00:31<00:00 Sampling chain 1, 0 divergences]\n",
       "    </div>\n",
       "    "
      ],
      "text/plain": [
       "<IPython.core.display.HTML object>"
      ]
     },
     "metadata": {},
     "output_type": "display_data"
    },
    {
     "name": "stderr",
     "output_type": "stream",
     "text": [
      "Sampling 2 chains for 1_000 tune and 10_000 draw iterations (2_000 + 20_000 draws total) took 62 seconds.\n"
     ]
    }
   ],
   "source": [
    "trace = pv.infer(program, cores=4, draws=10000, method='pymc3')"
   ]
  },
  {
   "cell_type": "markdown",
   "metadata": {},
   "source": [
    "## Privacy Risk Analysis\n",
    "\n",
    "In this tutorial, we focus on uniqueness queries. That is, we quantify how unique random's record is based on its attribute values.\n",
    "\n",
    "### How many records share the random's attribute values?\n",
    "\n",
    "First we compute the average of the number of records that have the same values as random's record."
   ]
  },
  {
   "cell_type": "code",
   "execution_count": 9,
   "metadata": {},
   "outputs": [
    {
     "name": "stdout",
     "output_type": "stream",
     "text": [
      "Avg. number of rows with rd's countrie:  26.07375\n",
      "Avg. number of rows with rd's zip:  24.92805\n",
      "Avg. number of rows with rd's age:  33.3002\n"
     ]
    }
   ],
   "source": [
    "trace_attr   = lambda attr : np.concatenate([trace.posterior['output'][i][:,attr,:] for i in [0,1]])\n",
    "\n",
    "countries_op = trace_attr(0)\n",
    "zips_op      = trace_attr(1)\n",
    "ages_op      = trace_attr(2)\n",
    "\n",
    "j = randint(0, 99)\n",
    "\n",
    "print(\"Avg. number of rows with rd's countrie: \",sum([np.count_nonzero(countries_op[i]==countries_op[j]) for i in range(0,len(countries_op))])/len(countries_op))\n",
    "print(\"Avg. number of rows with rd's zip: \",sum([np.count_nonzero(zips_op[i]==zips_op[j]) for i in range(0,len(zips_op))])/len(zips_op))\n",
    "print(\"Avg. number of rows with rd's age: \",sum([np.count_nonzero(ages_op[i]==ages_op[j]) for i in range(0,len(ages_op))])/len(ages_op))"
   ]
  },
  {
   "cell_type": "markdown",
   "metadata": {},
   "source": [
    "### Attributed based uniqueness histograms\n",
    "\n",
    "A more interesting perspective is to plot histograms showing the probability of having $n$ records equal to random's attributes.\n",
    "\n",
    "The plots below show the probability of having $n \\in \\mathbb{N}$ number of records with: `1)` the same countrie as the random, `2)` the same zip code as the random, `3)` the same age as the random, `4)` the same countrie and the same zip code of the random, `5)` the same age and the same zip of the random, `6)` the same countrie and the same age of the random, `7)` all same attributes as the random. "
   ]
  },
  {
   "cell_type": "code",
   "execution_count": 10,
   "metadata": {},
   "outputs": [
    {
     "data": {
      "image/png": "[encoded data removed]",
      "text/plain": [
       "<Figure size 432x288 with 1 Axes>"
      ]
     },
     "metadata": {
      "needs_background": "light"
     },
     "output_type": "display_data"
    },
    {
     "data": {
      "image/png": "[encoded data removed]",
      "text/plain": [
       "<Figure size 432x288 with 1 Axes>"
      ]
     },
     "metadata": {
      "needs_background": "light"
     },
     "output_type": "display_data"
    },
    {
     "data": {
      "image/png": "[encoded data removed]",
      "text/plain": [
       "<Figure size 432x288 with 1 Axes>"
      ]
     },
     "metadata": {
      "needs_background": "light"
     },
     "output_type": "display_data"
    },
    {
     "data": {
      "image/png": "[encoded data removed]",
      "text/plain": [
       "<Figure size 432x288 with 1 Axes>"
      ]
     },
     "metadata": {
      "needs_background": "light"
     },
     "output_type": "display_data"
    },
    {
     "data": {
      "image/png": "[encoded data removed]",
      "text/plain": [
       "<Figure size 432x288 with 1 Axes>"
      ]
     },
     "metadata": {
      "needs_background": "light"
     },
     "output_type": "display_data"
    },
    {
     "data": {
      "image/png": "[encoded data removed]",
      "text/plain": [
       "<Figure size 432x288 with 1 Axes>"
      ]
     },
     "metadata": {
      "needs_background": "light"
     },
     "output_type": "display_data"
    },
    {
     "data": {
      "image/png": "[encoded data removed]",
      "text/plain": [
       "<Figure size 432x288 with 1 Axes>"
      ]
     },
     "metadata": {
      "needs_background": "light"
     },
     "output_type": "display_data"
    }
   ],
   "source": [
    "total_samples=len(countries_op)\n",
    "len_sample=len(countries_op[1])\n",
    "total_N=N\n",
    "\n",
    "count_rd_countries=np.array([np.count_nonzero(\n",
    "    (countries_op[i]==countries_op[j])\n",
    ") for i in range(0,total_samples)])\n",
    "\n",
    "count_rd_zips=np.array([np.count_nonzero(\n",
    "    (zips_op[i]==zips_op[j])\n",
    ") for i in range(0,total_samples)])\n",
    "\n",
    "count_rd_ages=np.array([np.count_nonzero(\n",
    "    (ages_op[i]==ages_op[j])\n",
    ") for i in range(0,total_samples)])\n",
    "\n",
    "count_rd_countries_zips=np.array([np.count_nonzero(\n",
    "    (zips_op[i]==zips_op[j]) &\n",
    "    (countries_op[i]==countries_op[j])\n",
    ") for i in range(0,total_samples)])\n",
    "\n",
    "count_rd_ages_zips=np.array([np.count_nonzero(\n",
    "    (zips_op[i]==zips_op[j]) &\n",
    "    (ages_op[i]==ages_op[j])\n",
    ") for i in range(0,total_samples)])\n",
    "\n",
    "count_rd_countries_ages=np.array([np.count_nonzero(\n",
    "    (ages_op[i]==ages_op[j]) &\n",
    "    (countries_op[i]==countries_op[j])\n",
    ") for i in range(0,total_samples)])\n",
    "\n",
    "count_rd_countries_zips_ages=np.array([np.count_nonzero(\n",
    "    (zips_op[i]==zips_op[j]) &\n",
    "    (countries_op[i]==countries_op[j]) &\n",
    "    (ages_op[i]==ages_op[j])\n",
    ") for i in range(0,total_samples)])\n",
    "\n",
    "\n",
    "y1=[np.count_nonzero(count_rd_countries==i)/len(count_rd_countries) for i in range(0,total_N)]\n",
    "y2=[np.count_nonzero(count_rd_zips==i)/len(count_rd_zips) for i in range(0,total_N)]\n",
    "y3=[np.count_nonzero(count_rd_ages==i)/len(count_rd_ages) for i in range(0,total_N)]\n",
    "y4=[np.count_nonzero(count_rd_countries_zips==i)/len(count_rd_countries_zips) for i in range(0,total_N)]\n",
    "y5=[np.count_nonzero(count_rd_ages_zips==i)/len(count_rd_ages_zips) for i in range(0,total_N)]\n",
    "y6=[np.count_nonzero(count_rd_countries_ages==i)/len(count_rd_countries_ages) for i in range(0,total_N)]\n",
    "y7=[np.count_nonzero(count_rd_countries_zips_ages==i)/len(count_rd_countries_zips_ages) for i in range(0,total_N)]\n",
    "\n",
    "plt.bar(range(0,total_N),y1)\n",
    "plt.title(\"P(#(COUNTRIE = RD_COUNTRIE))\")\n",
    "plt.xlim((-1,50))\n",
    "plt.xlabel(\"# of records\")\n",
    "plt.show()\n",
    "\n",
    "plt.bar(range(0,total_N),y2)\n",
    "plt.title(\"P(#(ZIP = RD_ZIP))\")\n",
    "plt.xlim((-1,50))\n",
    "plt.xlabel(\"# of records\")\n",
    "plt.show()\n",
    "\n",
    "plt.bar(range(0,total_N),y3)\n",
    "plt.title(\"P(#(AGE = RD_AGE))\")\n",
    "plt.xlim((-1,50))\n",
    "plt.xlabel(\"# of records\")\n",
    "plt.show()\n",
    "\n",
    "plt.bar(range(0,total_N),y4)\n",
    "plt.title(\"P(#(ZIP = RD_ZIP /\\ COUNTRIE = RD_COUNTRIE))\")\n",
    "plt.xlim((-1,30))\n",
    "plt.xlabel(\"# of records\")\n",
    "plt.show()\n",
    "\n",
    "plt.bar(range(0,total_N),y5)\n",
    "plt.title(\"P(#(ZIP = RD_ZIP /\\ AGE = RD_AGE))\")\n",
    "plt.xlim((-1,30))\n",
    "plt.xlabel(\"# of records\")\n",
    "plt.show()\n",
    "\n",
    "plt.bar(range(0,total_N),y6)\n",
    "plt.title(\"P(#(AGE = RD_AGE /\\ COUNTRIE = RD_COUNTRIE))\")\n",
    "plt.xlim((-1,30))\n",
    "plt.xlabel(\"# of records\")\n",
    "plt.show()\n",
    "\n",
    "plt.bar(range(0,total_N),y7)\n",
    "plt.title(\"P(#(ZIP = RD_ZIP /\\ COUNTRIE = RD_COUNTRIE /\\ AGE = RD_AGE))\")\n",
    "plt.xlim((-1,30))\n",
    "plt.xlabel(\"# of records\")\n",
    "plt.show()\n"
   ]
  }
 ],
 "metadata": {
  "kernelspec": {
   "display_name": "Python 3.9.0 ('privugger_environment')",
   "language": "python",
   "name": "python3"
  },
  "language_info": {
   "codemirror_mode": {
    "name": "ipython",
    "version": 3
   },
   "file_extension": ".py",
   "mimetype": "text/x-python",
   "name": "python",
   "nbconvert_exporter": "python",
   "pygments_lexer": "ipython3",
   "version": "3.9.0"
  },
  "orig_nbformat": 4,
  "vscode": {
   "interpreter": {
    "hash": "ead01f34da02679ce3852bdbdb51f16b97d4b75626f761dacfb86d0793faee05"
   }
  }
 },
 "nbformat": 4,
 "nbformat_minor": 2
}
