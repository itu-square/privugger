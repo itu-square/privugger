{
 "cells": [
  {
   "cell_type": "code",
   "execution_count": 1,
   "metadata": {
    "collapsed": false
   },
   "outputs": [],
   "source": [
    "import matplotlib.pyplot as plt\n",
    "import arviz as az\n",
    "import numpy as np\n",
    "import pymc\n",
    "import aesara.tensor as at\n",
    "\n",
    "import os, sys\n",
    "sys.path.append(os.path.join(\"../../\"))\n",
    "\n",
    "import privugger as pv\n"
   ]
  },
  {
   "cell_type": "markdown",
   "metadata": {
    "collapsed": false
   },
   "source": [
    "# Governor case study\n",
    "\n",
    "In this tutorial, we explore the famous case study presented by [Sweeny 2002](https://dl.acm.org/doi/10.1142/S0218488502001648) where she re-identified the the medical records of the governor of Masachussets. The problem the dataset was that records were \"anonymized\" simply by removing identifiers. Nowadays, it is well known that this is a naïve and insufficient method for anonymization data. Yet many real applications still use this type of \"anonymization\". \n",
    "\n",
    "This tutorial shows how privugger can be used analyze the uniqueness of records after identifiers have been removed."
   ]
  },
  {
   "cell_type": "markdown",
   "metadata": {},
   "source": [
    "## Naïve anonymization program (removing identifiers)\n",
    "\n",
    "We consider a program that takes a dataset with attributes: `name`, `zip`, `age`, `gender` and `diagnosis`. In this dataset, `name` is considered an identifier (this is an unrealistic assumption, since in reality there can be many people with the same name, but it serves the purpose of the tutorial). \n",
    "\n",
    "As you can see below, the program simply returns a dataset without names."
   ]
  },
  {
   "cell_type": "code",
   "execution_count": 2,
   "metadata": {
    "collapsed": false
   },
   "outputs": [],
   "source": [
    "def remove_names(names, zips, ages, genders, diagnoses):\n",
    "    output = []\n",
    "    output.append(zips)\n",
    "    output.append(ages)\n",
    "    output.append(genders)\n",
    "    output.append(diagnoses)\n",
    "    return output"
   ]
  },
  {
   "cell_type": "markdown",
   "metadata": {},
   "source": [
    "## Input specification\n",
    "\n",
    "Note that this specification is _compositional_, we define different parts of the dataset and concatenate them as the bottom.\n",
    "\n",
    "We consider a dataset with 100 records. At this point, we fix the attributes of the victim's record (from now on called Alice). Alice is 25 years old, lives in ZIP code 50 (this is just a nominal placeholder for a real zip code), she is female and she is ill. These values are defined as constants of the form `ALICE_XXX` below.\n",
    "\n",
    "We define a constant record (using point distributions) that we may add to the specification to ensure that Alice's record is in the dataset. This step is optional. In fact, when the analysis is performed without this record, we model an adversary who doesn't know whether Alice is in the dataset.\n",
    "\n",
    "The variables `xxx_others` contain the spec for the records in the dataset. We have 5 different names uniformly distributed, ages are normally distributed with the most likely age being around 55. We consider 100 different ZIP codes uniformly distributed. Two genders (though acknowledging that this is a simplification and more genders exist) which are uniformly distributed. As for the diagnosis, there is a 20% chance of being ill.\n",
    "\n",
    "The following lines show how to merge Alice's record with the rest of the dataset. This also exemplifies how to compositionally define input specifications.\n",
    "\n",
    "Finally, we create the `Dataset` object with the complete input spec."
   ]
  },
  {
   "cell_type": "code",
   "execution_count": 3,
   "metadata": {
    "collapsed": false
   },
   "outputs": [],
   "source": [
    "N = 100\n",
    "\n",
    "# Victim's record\n",
    "\n",
    "## Constant values for Alice's record\n",
    "ALICE_NAME      = np.int64(0)\n",
    "ALICE_AGE       = np.float64(25)\n",
    "ALICE_ZIP       = np.int64(50)\n",
    "ALICE_GENDER    = np.int64(1)\n",
    "ALICE_DIAGNOSIS = np.int64(1)\n",
    "\n",
    "## Spec for Alice's record (all point distributions with the values above)\n",
    "alice_name      = pv.Constant(\"alice_name\",ALICE_NAME, num_elements=1)\n",
    "alice_age       = pv.Normal(\"alice_age\", mu=ALICE_AGE, std=0.01, num_elements=1)\n",
    "alice_zip       = pv.Constant(\"alice_zip\",ALICE_ZIP, num_elements=1)\n",
    "alice_gender    = pv.Constant(\"alice_gender\",ALICE_GENDER, num_elements=1) # 1: female, 0: male\n",
    "alice_diagnosis = pv.Constant(\"alice_diagnosis\", ALICE_DIAGNOSIS, num_elements=1) # 0: healthy, 1: ill\n",
    "\n",
    "# Spec for the records of others    \n",
    "names_others     = pv.DiscreteUniform(\"names_others\", 0, 5, num_elements=N)\n",
    "ages_others      = pv.Normal(\"ages_others\", mu=55.2, std=3.5, num_elements=N)\n",
    "zips_others      = pv.DiscreteUniform(\"zips_others\", 0, 100, num_elements=N)\n",
    "genders_others   = pv.Bernoulli(\"genders_others\",p=.5,num_elements=N) \n",
    "diagnoses_others = pv.Bernoulli(\"diagnoses_others\", p=.2,num_elements=N)\n",
    "\n",
    "# Merging all in a single dataset spec\n",
    "names     = pv.concatenate((names_others, alice_name),  \"discrete\")\n",
    "zips      = pv.concatenate((zips_others, alice_zip), \"discrete\")\n",
    "ages      = pv.concatenate((ages_others, alice_age),  \"continuous\")\n",
    "genders   = pv.concatenate((genders_others, alice_gender), \"discrete\")\n",
    "diagnoses = pv.concatenate((diagnoses_others, alice_diagnosis), \"discrete\")\n",
    "\n",
    "# Dataset spec\n",
    "ds = pv.Dataset(input_specs = [names, zips, ages, genders, diagnoses])"
   ]
  },
  {
   "cell_type": "markdown",
   "metadata": {},
   "source": [
    "## Program specification\n",
    "\n",
    "The program specification takes the input specification above, and the program to analyze `remove_names`. We give the name `'output'` to the distribution of the output of the program. In this example, it is important to remark that the output of the program is a matrix of floats (i.e., a numeric dataset). In this matrix, each row models a row in the dataset, and each column models an attribute."
   ]
  },
  {
   "cell_type": "code",
   "execution_count": 4,
   "metadata": {
    "collapsed": false
   },
   "outputs": [],
   "source": [
    "program   = pv.Program('output', dataset=ds, output_type=pv.Matrix(pv.Float), function=remove_names)"
   ]
  },
  {
   "cell_type": "markdown",
   "metadata": {},
   "source": [
    "## Inference\n",
    "\n",
    "We use the pymc3 backend to perform the inference."
   ]
  },
  {
   "cell_type": "code",
   "execution_count": 5,
   "metadata": {},
   "outputs": [
    {
     "name": "stderr",
     "output_type": "stream",
     "text": [
      "Multiprocess sampling (2 chains in 4 jobs)\n",
      "CompoundStep\n",
      ">CompoundStep\n",
      ">>Metropolis: [names_others]\n",
      ">>Metropolis: [alice_name]\n",
      ">>Metropolis: [zips_others]\n",
      ">>Metropolis: [alice_zip]\n",
      ">>Metropolis: [alice_gender]\n",
      ">>Metropolis: [alice_diagnosis]\n",
      ">NUTS: [ages_others, alice_age]\n",
      ">BinaryGibbsMetropolis: [genders_others, diagnoses_others]\n"
     ]
    },
    {
     "data": {
      "text/html": [
       "\n",
       "<style>\n",
       "    /* Turns off some styling */\n",
       "    progress {\n",
       "        /* gets rid of default border in Firefox and Opera. */\n",
       "        border: none;\n",
       "        /* Needs to be in here for Safari polyfill so background images work as expected. */\n",
       "        background-size: auto;\n",
       "    }\n",
       "    .progress-bar-interrupted, .progress-bar-interrupted::-webkit-progress-bar {\n",
       "        background: #F44336;\n",
       "    }\n",
       "</style>\n"
      ],
      "text/plain": [
       "<IPython.core.display.HTML object>"
      ]
     },
     "metadata": {},
     "output_type": "display_data"
    },
    {
     "data": {
      "text/html": [
       "\n",
       "    <div>\n",
       "      <progress value='22000' class='' max='22000' style='width:300px; height:20px; vertical-align: middle;'></progress>\n",
       "      100.00% [22000/22000 01:56<00:00 Sampling 2 chains, 0 divergences]\n",
       "    </div>\n",
       "    "
      ],
      "text/plain": [
       "<IPython.core.display.HTML object>"
      ]
     },
     "metadata": {},
     "output_type": "display_data"
    },
    {
     "name": "stderr",
     "output_type": "stream",
     "text": [
      "Sampling 2 chains for 1_000 tune and 10_000 draw iterations (2_000 + 20_000 draws total) took 122 seconds.\n"
     ]
    }
   ],
   "source": [
    "trace = pv.infer(program, cores=4, draws=10000, method='pymc_whitebox', return_model=False)"
   ]
  },
  {
   "cell_type": "markdown",
   "metadata": {},
   "source": [
    "## Privacy Risk Analysis\n",
    "\n",
    "In this tutorial, we focus on uniqueness queries. That is, we quantify how unique Alice's record is based on her attribute values.\n",
    "\n",
    "### How many records share the Alice's attribute values?\n",
    "\n",
    "First we compute the average of the number of records that have the same values as Alice's record.\n",
    "\n",
    "Currentely, privugger does not have built-in functions to compute these type of query so the information in the trace directly."
   ]
  },
  {
   "cell_type": "code",
   "execution_count": 6,
   "metadata": {
    "collapsed": false
   },
   "outputs": [
    {
     "name": "stdout",
     "output_type": "stream",
     "text": [
      "Avg. number of rows with gov's name:  16.7195\n",
      "Avg. number of rows with gov's zip:  2.01755\n",
      "Avg. number of rows with gov's age:  1.0\n",
      "Avg. number of rows with gov's gender:  50.9973\n",
      "Avg. number of rows with gov's diagnosis:  20.99135\n"
     ]
    }
   ],
   "source": [
    "trace_attr   = lambda attr : np.concatenate([trace.posterior['output'][i][:,attr,:] for i in [0,1]])\n",
    "age_row = 0\n",
    "\n",
    "names_db     = np.concatenate([trace.posterior['names_others'].values[i] for i in [0,1]])\n",
    "zips_db      = np.concatenate([(trace.posterior['lign2'][i]) for i in [0,1]])\n",
    "ages_db      = np.concatenate([(trace.posterior['lign3'][i]) for i in [0,1]])\n",
    "genders_db   = np.concatenate([(trace.posterior['lign4'][i]) for i in [0,1]])\n",
    "diagnoses_db = np.concatenate([(trace.posterior['lign5'][i]) for i in [0,1]])\n",
    "\n",
    "\n",
    "print(\"Avg. number of rows with gov's name: \",sum([np.count_nonzero(names_db[i]==ALICE_NAME) for i in range(0,len(names_db))])/len(names_db))\n",
    "print(\"Avg. number of rows with gov's zip: \",sum([np.count_nonzero(zips_db[i]==ALICE_ZIP) for i in range(0,len(zips_db))])/len(zips_db))\n",
    "print(\"Avg. number of rows with gov's age: \",sum([np.count_nonzero(ages_db[i]<=ALICE_AGE+0.1) for i in range(0,len(ages_db))])/len(ages_db)) # 1.0 is expected\n",
    "print(\"Avg. number of rows with gov's gender: \",sum([np.count_nonzero(genders_db[i]==ALICE_GENDER) for i in range(0,len(genders_db))])/len(genders_db))\n",
    "print(\"Avg. number of rows with gov's diagnosis: \",sum([np.count_nonzero(diagnoses_db[i]==ALICE_DIAGNOSIS) for i in range(0,len(diagnoses_db))])/len(diagnoses_db))"
   ]
  },
  {
   "cell_type": "markdown",
   "metadata": {},
   "source": [
    "### Attributed based uniqueness histograms\n",
    "\n",
    "A more interesting perspective is to plot histograms showing the probability of having $n$ records equal to Alice's attributes.\n",
    "\n",
    "Here we focus on the attributes `gender` and `zip`. The plots below show the probability of having $n \\in \\mathbb{N}$ number of records with: 1) the same gender as Alice, 2) the same zip code as Alice, 3) the same gender _and_ zip code as Alice."
   ]
  },
  {
   "cell_type": "code",
   "execution_count": 7,
   "metadata": {
    "collapsed": false
   },
   "outputs": [
    {
     "data": {
      "image/png": "[encoded data removed]",
      "text/plain": [
       "<Figure size 432x288 with 1 Axes>"
      ]
     },
     "metadata": {
      "needs_background": "light"
     },
     "output_type": "display_data"
    },
    {
     "data": {
      "image/png": "[encoded data removed]",
      "text/plain": [
       "<Figure size 432x288 with 1 Axes>"
      ]
     },
     "metadata": {
      "needs_background": "light"
     },
     "output_type": "display_data"
    },
    {
     "data": {
      "image/png": "[encoded data removed]",
      "text/plain": [
       "<Figure size 432x288 with 1 Axes>"
      ]
     },
     "metadata": {
      "needs_background": "light"
     },
     "output_type": "display_data"
    }
   ],
   "source": [
    "total_N=N\n",
    "total_samples = 20000\n",
    "\n",
    "count_gov_genders=np.array([np.count_nonzero(\n",
    "    (genders_db[i]==ALICE_GENDER)\n",
    ") for i in range(0,total_samples)])\n",
    "\n",
    "count_gov_zips=np.array([np.count_nonzero(\n",
    "    (zips_db[i]==ALICE_ZIP)\n",
    ") for i in range(0,total_samples)])\n",
    "\n",
    "count_gov_genders_zips=np.array([np.count_nonzero(\n",
    "    (zips_db[i]==ALICE_ZIP) &\n",
    "    (genders_db[i]==ALICE_GENDER)\n",
    ") for i in range(0,total_samples)])\n",
    "\n",
    "\n",
    "y1=[np.count_nonzero(count_gov_genders==i)/len(count_gov_genders) for i in range(0,total_N)]\n",
    "y2=[np.count_nonzero(count_gov_zips==i)/len(count_gov_zips) for i in range(0,total_N)]\n",
    "y3=[np.count_nonzero(count_gov_genders_zips==i)/len(count_gov_genders_zips) for i in range(0,total_N)]\n",
    "plt.bar(range(0,total_N),y1)\n",
    "plt.title(\"P(#(GENDER = ALICE_GENDER))\")\n",
    "plt.xlabel(\"# of records\")\n",
    "plt.show()\n",
    "plt.bar(range(0,total_N),y2)\n",
    "plt.title(\"P(#(ZIP = ALICE_ZIP))\")\n",
    "plt.xlim((-1,25))\n",
    "plt.xlabel(\"# of records\")\n",
    "plt.show()\n",
    "plt.bar(range(0,total_N),y3)\n",
    "plt.title(\"P(#(ZIP = ALICE_ZIP /\\ GENDER = ALICE_GENDER))\")\n",
    "plt.xlim((-1,15))\n",
    "plt.xlabel(\"# of records\")\n",
    "plt.show()\n"
   ]
  },
  {
   "cell_type": "markdown",
   "metadata": {},
   "source": [
    "#### Discussion of results\n",
    "\n",
    "The results show that gender or zip code in isolation have a low probability of uniquely identifying Alice in the dataset. However for both of them combined we observe that the probability of having only one record with those attribute values is close to 60%. This level of risk may be unacceptable for some types of sensitive data."
   ]
  }
 ],
 "metadata": {
  "kernelspec": {
   "display_name": "Python 3.9.12 ('base')",
   "language": "python",
   "name": "python3"
  },
  "language_info": {
   "codemirror_mode": {
    "name": "ipython",
    "version": 3
   },
   "file_extension": ".py",
   "mimetype": "text/x-python",
   "name": "python",
   "nbconvert_exporter": "python",
   "pygments_lexer": "ipython3",
   "version": "3.9.12"
  },
  "name": "Governor.ipynb",
  "vscode": {
   "interpreter": {
    "hash": "aaf28b8d96d98151f2de20269ba0ea83d3e82c7651db375fec695b13ead0c1b0"
   }
  }
 },
 "nbformat": 4,
 "nbformat_minor": 4
}
