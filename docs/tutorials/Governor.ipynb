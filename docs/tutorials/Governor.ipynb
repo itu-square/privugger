{
 "cells": [
  {
   "cell_type": "code",
   "execution_count": 1,
   "metadata": {},
   "outputs": [
    {
     "name": "stderr",
     "output_type": "stream",
     "text": [
      "WARNING (theano.tensor.blas): Using NumPy C-API based implementation for BLAS functions.\n"
     ]
    }
   ],
   "source": [
    "import os, sys\n",
    "\n",
    "\n",
    "import matplotlib.pyplot as plt\n",
    "import arviz as az\n",
    "import numpy as np\n",
    "\n",
    "import privugger as pv\n"
   ]
  },
  {
   "cell_type": "markdown",
   "metadata": {},
   "source": [
    "# Governor tutorial"
   ]
  },
  {
   "cell_type": "code",
   "execution_count": 2,
   "metadata": {},
   "outputs": [],
   "source": [
    "def Gov(names, zips, ages, genders, diagnoses):\n",
    "    output = []\n",
    "    output.append(zips)\n",
    "    output.append(ages)\n",
    "    output.append(genders)\n",
    "    output.append(diagnoses)\n",
    "    return output"
   ]
  },
  {
   "cell_type": "code",
   "execution_count": 3,
   "metadata": {},
   "outputs": [],
   "source": [
    "N = 10\n",
    "        \n",
    "alice_name      = pv.Constant(\"alice_name\",0, num_elements=1)\n",
    "alice_age       = pv.Constant(\"alice_age\", 25.0, num_elements=1)\n",
    "alice_zip       = pv.Constant(\"alice_zip\",50, num_elements=1)\n",
    "alice_gender    = pv.Constant(\"alice_gender\",1, num_elements=1) # 1: female, 0: male\n",
    "alice_diagnosis = pv.Constant(\"alice_diagnosis\", 1, num_elements=1) # 0: healthy, 1: ill\n",
    "    \n",
    "names           = pv.DiscreteUniform(\"names\", 0, 5, num_elements=N)\n",
    "ages            = pv.Normal(\"ages\", mu=55.2, std=3.5, num_elements=N)\n",
    "zips            = pv.DiscreteUniform(\"zips\", 0, 100, num_elements=N)\n",
    "genders         = pv.Bernoulli(\"genders\",p=.5,num_elements=N)   \n",
    "diagnoses       = pv.Bernoulli(\"diagnoses\", p=.2,num_elements=N)\n",
    "\n",
    "names_          = pv.concatenate(names, alice_name,  \"discrete\")\n",
    "zips_           = pv.concatenate(zips, alice_zip, \"discrete\")\n",
    "ages_           = pv.concatenate(ages, alice_age,  \"continuous\")\n",
    "genders_        = pv.concatenate(genders, alice_gender, \"discrete\")\n",
    "diagnoses_      = pv.concatenate(diagnoses, alice_diagnosis, \"discrete\")"
   ]
  },
  {
   "cell_type": "code",
   "execution_count": 4,
   "metadata": {},
   "outputs": [
    {
     "name": "stderr",
     "output_type": "stream",
     "text": [
      "Multiprocess sampling (2 chains in 4 jobs)\n",
      "CompoundStep\n",
      ">CompoundStep\n",
      ">>Metropolis: [alice_diagnosis]\n",
      ">>Metropolis: [alice_gender]\n",
      ">>Metropolis: [alice_age]\n",
      ">>Metropolis: [alice_zip]\n",
      ">>Metropolis: [zips]\n",
      ">>Metropolis: [alice_name]\n",
      ">>Metropolis: [names]\n",
      ">NUTS: [ages]\n",
      ">BinaryGibbsMetropolis: [genders, diagnoses]\n"
     ]
    },
    {
     "data": {
      "text/html": [
       "\n",
       "    <div>\n",
       "        <style>\n",
       "            /* Turns off some styling */\n",
       "            progress {\n",
       "                /* gets rid of default border in Firefox and Opera. */\n",
       "                border: none;\n",
       "                /* Needs to be in here for Safari polyfill so background images work as expected. */\n",
       "                background-size: auto;\n",
       "            }\n",
       "            .progress-bar-interrupted, .progress-bar-interrupted::-webkit-progress-bar {\n",
       "                background: #F44336;\n",
       "            }\n",
       "        </style>\n",
       "      <progress value='22000' class='' max='22000' style='width:300px; height:20px; vertical-align: middle;'></progress>\n",
       "      100.00% [22000/22000 00:31<00:00 Sampling 2 chains, 0 divergences]\n",
       "    </div>\n",
       "    "
      ],
      "text/plain": [
       "<IPython.core.display.HTML object>"
      ]
     },
     "metadata": {},
     "output_type": "display_data"
    },
    {
     "name": "stderr",
     "output_type": "stream",
     "text": [
      "Sampling 2 chains for 1_000 tune and 10_000 draw iterations (2_000 + 20_000 draws total) took 33 seconds.\n",
      "/home/rasmuscarl/.local/lib/python3.8/site-packages/xarray/core/nputils.py:215: RuntimeWarning: All-NaN slice encountered\n",
      "  result = getattr(npmodule, name)(values, axis=axis, **kwargs)\n",
      "The estimated number of effective samples is smaller than 200 for some parameters.\n"
     ]
    }
   ],
   "source": [
    "ds        = pv.Dataset(input_specs = [names_, zips_, ages_, genders_, diagnoses_])\n",
    "\n",
    "program   = pv.Program(dataset=ds, name=\"Governor\", output_type=pv.Matrix(pv.Float), function=Gov)\n",
    "trace     = pv.infer(program, cores=4, draws=10000, method='pymc3', return_model=False)"
   ]
  },
  {
   "cell_type": "code",
   "execution_count": 22,
   "metadata": {},
   "outputs": [
    {
     "name": "stdout",
     "output_type": "stream",
     "text": [
      "Rows with gov's gender:  501.0787\n",
      "Rows with gov's name:  320000.0\n",
      "Rows with gov's diagnosis:  201.0668\n",
      "Rows with gov's zip:  15.1097\n"
     ]
    }
   ],
   "source": [
    "cores=4\n",
    "samples=10000\n",
    "names_db     = trace.posterior['names_'].values\n",
    "ages_db      = trace.posterior['ages_'].values[0]\n",
    "genders_db   = trace.posterior['genders_'].values[0]\n",
    "diagnoses_db = trace.posterior['diagnoses_'].values[0]\n",
    "zips_db      = trace.posterior['zips_'].values[0]\n",
    "\n",
    "print(\"Rows with gov's gender: \",sum([np.count_nonzero(genders_db[i]==1) for i in range(0,len(genders_db))])/len(genders_db))\n",
    "print(\"Rows with gov's name: \",sum([np.count_nonzero(names_db[i]==0) for i in range(0,len(names_db))])/len(names_db))\n",
    "print(\"Rows with gov's diagnosis: \",sum([np.count_nonzero(diagnoses_db[i]==1) for i in range(0,len(diagnoses_db))])/len(diagnoses_db))\n",
    "print(\"Rows with gov's zip: \",sum([np.count_nonzero(zips_db[i]==50) for i in range(0,len(zips_db))])/len(zips_db))"
   ]
  },
  {
   "cell_type": "code",
   "execution_count": 25,
   "metadata": {},
   "outputs": [
    {
     "data": {
      "image/png": "[encoded data removed]",
      "text/plain": [
       "<Figure size 432x288 with 1 Axes>"
      ]
     },
     "metadata": {
      "needs_background": "light"
     },
     "output_type": "display_data"
    },
    {
     "data": {
      "image/png": "[encoded data removed]",
      "text/plain": [
       "<Figure size 432x288 with 1 Axes>"
      ]
     },
     "metadata": {
      "needs_background": "light"
     },
     "output_type": "display_data"
    },
    {
     "data": {
      "image/png": "[encoded data removed]",
      "text/plain": [
       "<Figure size 432x288 with 1 Axes>"
      ]
     },
     "metadata": {
      "needs_background": "light"
     },
     "output_type": "display_data"
    }
   ],
   "source": [
    "total_samples=len(genders_db)\n",
    "total_N=N\n",
    "\n",
    "count_gov_genders=np.array([np.count_nonzero(\n",
    "    (genders_db[i]==1)\n",
    ") for i in range(0,total_samples)])\n",
    "\n",
    "count_gov_zips=np.array([np.count_nonzero(\n",
    "    (zips_db[i]==1)\n",
    ") for i in range(0,total_samples)])\n",
    "\n",
    "count_gov_genders_zips=np.array([np.count_nonzero(\n",
    "    (zips_db[i]==100) &\n",
    "    (genders_db[i]==1)\n",
    ") for i in range(0,total_samples)])\n",
    "\n",
    "\n",
    "y1=[np.count_nonzero(count_gov_genders==i)/len(count_gov_genders) for i in range(0,total_N)]\n",
    "y2=[np.count_nonzero(count_gov_zips==i)/len(count_gov_zips) for i in range(0,total_N)]\n",
    "y3=[np.count_nonzero(count_gov_genders_zips==i)/len(count_gov_genders_zips) for i in range(0,total_N)]\n",
    "plt.bar(range(0,total_N),y1)\n",
    "plt.show()\n",
    "plt.bar(range(0,total_N),y2)\n",
    "plt.xlim((-1,25))\n",
    "plt.show()\n",
    "plt.bar(range(0,total_N),y3)\n",
    "plt.xlim((-1,15))\n",
    "plt.show()"
   ]
  }
 ],
 "metadata": {
  "kernelspec": {
   "display_name": "Python 3",
   "language": "python",
   "name": "python3"
  },
  "language_info": {
   "codemirror_mode": {
    "name": "ipython",
    "version": 3
   },
   "file_extension": ".py",
   "mimetype": "text/x-python",
   "name": "python",
   "nbconvert_exporter": "python",
   "pygments_lexer": "ipython3",
   "version": "3.8.10"
  }
 },
 "nbformat": 4,
 "nbformat_minor": 4
}
