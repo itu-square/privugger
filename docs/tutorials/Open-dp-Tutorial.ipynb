{
 "cells": [
  {
   "cell_type": "code",
   "execution_count": 1,
   "metadata": {},
   "outputs": [],
   "source": [
    "import matplotlib.pyplot as plt\n",
    "import arviz as az\n",
    "import numpy as np\n",
    "import pymc as pm\n",
    "\n",
    "# move to previouse directory to access the privugger code\n",
    "import os, sys\n",
    "sys.path.append(os.path.join(\"../../\"))\n",
    "\n",
    "#if os.uname().machine == 'arm64':\n",
    "    #raise Exception(\"Wrong Architecture: opendp.smartnoise.core library is not available on ARM64 architecture\")\n",
    "\n",
    "import privugger as pv"
   ]
  },
  {
   "cell_type": "markdown",
   "metadata": {},
   "source": [
    "# Example of using Privugger on OpenDP "
   ]
  },
  {
   "cell_type": "markdown",
   "metadata": {},
   "source": [
    "This tutorial shows the use of privugger on a program using the differential privacy libray [OpenDP](https://github.com/opendp).\n",
    "\n",
    "## OpenDP program\n",
    "\n",
    "We consider a program that takes as input a dataset with attributes: age, sex, education, race, income and marriage status. The program outputs the mean of the incomes and adds Laplacian noise to protects the individuals privacy.\n",
    "\n",
    "For each attribute, the program takes a parameter of type array (int or float) with the attribute value for each individual in the dataset. For example, to model a dataset of size 2 where the first individual is 20 and the second is 40, we set the `age` input parameter as `age=[20,40]`. The remaining parameters are defined in the same way. The last parameter `N` indicates the number of records in the dataset.\n",
    "\n",
    "This way of defining the input may seem unnatural, but, as we will see below, it allows for a structured manner to specify the prior of the program.\n",
    "\n",
    "Furthermore, note that the first lines of `dp_program` simply defined a pandas dataframe. This snippet of code can be adapted to other programs. The part of the code after the comment `## After here the...` can contain arbitrary code working on a pandas dataframe with the attributes defined in the parameters of the program."
   ]
  },
  {
   "cell_type": "code",
   "execution_count": 2,
   "metadata": {},
   "outputs": [],
   "source": [
    "def dp_program(age, sex, educ, race, income, married, N):\n",
    "    import opendp.smartnoise.core as sn\n",
    "    import pandas as pd\n",
    "\n",
    "    # assert that all vectors are have the same size\n",
    "    assert age.size == sex.size == educ.size == race.size == income.size == married.size\n",
    "\n",
    "    ## Dataframe definition (can be automatized)\n",
    "    temp_file='temp.csv'\n",
    "    var_names = [\"age\", \"sex\", \"educ\", \"race\", \"income\", \"married\"]\n",
    "    data = {\n",
    "        \"age\":     age,\n",
    "        \"sex\":     sex,\n",
    "        \"educ\":    educ,\n",
    "        \"race\":    race,\n",
    "        \"income\":  income,\n",
    "        \"married\": married\n",
    "    }\n",
    "    df = pd.DataFrame(data,columns=var_names)\n",
    "    \n",
    "    ## After here the program works on a pandas dataframe\n",
    "    df.to_csv(temp_file)\n",
    "    with sn.Analysis() as analysis:\n",
    "        # load data\n",
    "        data = sn.Dataset(path=temp_file,column_names=var_names)\n",
    "\n",
    "        # get mean income with laplacian noise (epsilon=.1 arbitrarily chosen)\n",
    "        age_mean = sn.dp_mean(data = sn.to_float(data['income']),\n",
    "                              privacy_usage = {'epsilon': .1},\n",
    "                              data_lower = 0., # min income\n",
    "                              data_upper = 200., # max income                   \n",
    "                              data_rows = N\n",
    "                             )\n",
    "    analysis.release()\n",
    "    return np.float64(age_mean.value)   "
   ]
  },
  {
   "cell_type": "markdown",
   "metadata": {},
   "source": [
    "## Input specification\n",
    "\n",
    "The next step is to specify the prior knowledge of the attacker using probability distributions (i.e., they are defined as _random variables_). In this example, we show specify each of the attributes that conform the dataset.\n",
    "\n",
    "The variable `N` defines the size of the dataset (`N_rv` is a point distribution with all probability mass concentrated at `N`, this is necessary because the input specification must be composed by random variables). In this example, we consider a dataset of size 150.\n",
    "\n",
    "For non-numeric attributes such as `sex`, `educ` or `race` we use distribution over natural numbers with each number denoting a category. We treat them as nominal values (i.e., we assume there is not order relation, $\\leq$ among them). For these attributes (and `married`) we specify a uniform distribution over all possible categories.\n",
    "\n",
    "For `age`, we set a binomial distribution prior with support 0 to 120; this distribution gives highest probability to ages close to 60 years old. We remak here that this prior may be refined by using statistical data about age data.\n",
    "\n",
    "Finally, `income` is distributed according to a Normal distribution with mean 100 and standard deviation 5. This gives high probability to values close to 100 (i.e., 100k DKK)."
   ]
  },
  {
   "cell_type": "code",
   "execution_count": 3,
   "metadata": {},
   "outputs": [],
   "source": [
    "N         = 150\n",
    "N_rv      = pv.TensorConstant('N', np.int64(N))\n",
    "age       = pv.Binomial('age', p=0.5, n=120, num_elements=N)\n",
    "sex       = pv.DiscreteUniform('sex', 0,2,num_elements=N)\n",
    "educ      = pv.DiscreteUniform('educ', 0,10, num_elements=N)\n",
    "race      = pv.DiscreteUniform('race', 0,50, num_elements=N)\n",
    "income    = pv.Normal('income', mu=100, std=5, num_elements=N)\n",
    "married   = pv.DiscreteUniform('married', 0,1,num_elements=N)"
   ]
  },
  {
   "cell_type": "markdown",
   "metadata": {},
   "source": [
    "## Dataset & Program specification  \n",
    "\n",
    "The input specification above is always wrapped into a `Dataset` object. This object is used as the input for the program."
   ]
  },
  {
   "cell_type": "code",
   "execution_count": 4,
   "metadata": {},
   "outputs": [],
   "source": [
    "ds       = pv.Dataset(input_specs = [age, sex, educ, race, income, married, N_rv])"
   ]
  },
  {
   "cell_type": "markdown",
   "metadata": {},
   "source": [
    "## Program specification\n",
    "\n",
    "The program specification takes the `Dataset` above and the program to analyze. To this end, we define a `Program` object including the `Dataset`, a python function corresponding to the program to analyze (the input parameters of the function must match those of the `Dataset`). Finally, it is necessary to specify the type of the output of the program. In this case, since we are analyzing a program compute the mean income it is a float. The first parameter of the `Program` constructor is the name of the output distribution (i.e., the distribution of the output of the program under analysis).\n",
    "\n",
    " output type specifies the output type of the program, in this case it is a floating point number as the program calulates the mean. The function is the program specified above. "
   ]
  },
  {
   "cell_type": "code",
   "execution_count": 5,
   "metadata": {},
   "outputs": [],
   "source": [
    "program = pv.Program('output',dataset=ds, output_type=pv.Float, function=dp_program)"
   ]
  },
  {
   "cell_type": "markdown",
   "metadata": {},
   "source": [
    "## Inference\n",
    "\n",
    "Lastly we use the privug interface to perform the inference. This is done by calling `infer` and specifying the `program`, number of cores, number of chains, number of draws, and the backend (which is pymc3 in this example)."
   ]
  },
  {
   "cell_type": "code",
   "execution_count": 6,
   "metadata": {},
   "outputs": [
    {
     "name": "stderr",
     "output_type": "stream",
     "text": [
      "Multiprocess sampling (2 chains in 4 jobs)\n",
      "CompoundStep\n",
      ">CompoundStep\n",
      ">>Metropolis: [age]\n",
      ">>Metropolis: [sex]\n",
      ">>Metropolis: [educ]\n",
      ">>Metropolis: [race]\n",
      ">>Metropolis: [married]\n",
      ">NUTS: [income]\n"
     ]
    },
    {
     "ename": "TypeError",
     "evalue": "method() takes 6 positional arguments but 7 were given\nApply node that caused the error: FromFunctionOp{method}(age, sex, educ, race, income, married, N{150})\nToposort index: 6\nInputs types: [TensorType(int64, (None,)), TensorType(int64, (None,)), TensorType(int64, (None,)), TensorType(int64, (None,)), TensorType(float64, (None,)), TensorType(int64, (None,)), TensorType(int64, ())]\nInputs shapes: [(150,), (150,), (150,), (150,), (150,), (150,), ()]\nInputs strides: [(8,), (8,), (8,), (8,), (8,), (8,), ()]\nInputs values: ['not shown', 'not shown', 'not shown', 'not shown', 'not shown', 'not shown', array(150)]\nOutputs clients: [['output']]\n\nBacktrace when the node is created (use Aesara flag traceback__limit=N to make it longer):\n  File \"/Users/corentinphilippe-taylor/opt/anaconda3/envs/privugger_environment/lib/python3.10/site-packages/IPython/core/interactiveshell.py\", line 2881, in run_cell\n    result = self._run_cell(\n  File \"/Users/corentinphilippe-taylor/opt/anaconda3/envs/privugger_environment/lib/python3.10/site-packages/IPython/core/interactiveshell.py\", line 2936, in _run_cell\n    return runner(coro)\n  File \"/Users/corentinphilippe-taylor/opt/anaconda3/envs/privugger_environment/lib/python3.10/site-packages/IPython/core/async_helpers.py\", line 129, in _pseudo_sync_runner\n    coro.send(None)\n  File \"/Users/corentinphilippe-taylor/opt/anaconda3/envs/privugger_environment/lib/python3.10/site-packages/IPython/core/interactiveshell.py\", line 3135, in run_cell_async\n    has_raised = await self.run_ast_nodes(code_ast.body, cell_name,\n  File \"/Users/corentinphilippe-taylor/opt/anaconda3/envs/privugger_environment/lib/python3.10/site-packages/IPython/core/interactiveshell.py\", line 3338, in run_ast_nodes\n    if await self.run_code(code, result, async_=asy):\n  File \"/Users/corentinphilippe-taylor/opt/anaconda3/envs/privugger_environment/lib/python3.10/site-packages/IPython/core/interactiveshell.py\", line 3398, in run_code\n    exec(code_obj, self.user_global_ns, self.user_ns)\n  File \"/var/folders/kt/j5_kx9ds0j56mb6w00h6s1wh0000gn/T/ipykernel_93838/2930343463.py\", line 1, in <cell line: 1>\n    trace = pv.infer(program, cores=4, chains=2, draws=2000, method='pymc3')\n  File \"/Users/corentinphilippe-taylor/Downloads/privugger-master/docs/tutorials/../../privugger/inference/inference.py\", line 286, in infer\n    output = pm.Deterministic(prog.name, l.method(*global_priors))\n\nHINT: Use the Aesara flag `exception_verbosity=high` for a debug print-out and storage map footprint of this Apply node.",
     "output_type": "error",
     "traceback": [
      "\u001b[0;31m---------------------------------------------------------------------------\u001b[0m",
      "\u001b[0;31mTypeError\u001b[0m                                 Traceback (most recent call last)",
      "File \u001b[0;32m~/opt/anaconda3/envs/privugger_environment/lib/python3.10/site-packages/aesara/compile/function/types.py:975\u001b[0m, in \u001b[0;36mFunction.__call__\u001b[0;34m(self, *args, **kwargs)\u001b[0m\n\u001b[1;32m    973\u001b[0m \u001b[39mtry\u001b[39;00m:\n\u001b[1;32m    974\u001b[0m     outputs \u001b[39m=\u001b[39m (\n\u001b[0;32m--> 975\u001b[0m         \u001b[39mself\u001b[39;49m\u001b[39m.\u001b[39;49mvm()\n\u001b[1;32m    976\u001b[0m         \u001b[39mif\u001b[39;00m output_subset \u001b[39mis\u001b[39;00m \u001b[39mNone\u001b[39;00m\n\u001b[1;32m    977\u001b[0m         \u001b[39melse\u001b[39;00m \u001b[39mself\u001b[39m\u001b[39m.\u001b[39mvm(output_subset\u001b[39m=\u001b[39moutput_subset)\n\u001b[1;32m    978\u001b[0m     )\n\u001b[1;32m    979\u001b[0m \u001b[39mexcept\u001b[39;00m \u001b[39mException\u001b[39;00m:\n",
      "File \u001b[0;32m~/opt/anaconda3/envs/privugger_environment/lib/python3.10/site-packages/aesara/graph/op.py:524\u001b[0m, in \u001b[0;36mOp.make_py_thunk.<locals>.rval\u001b[0;34m(p, i, o, n, params)\u001b[0m\n\u001b[1;32m    520\u001b[0m \u001b[39m@is_thunk_type\u001b[39m\n\u001b[1;32m    521\u001b[0m \u001b[39mdef\u001b[39;00m \u001b[39mrval\u001b[39m(\n\u001b[1;32m    522\u001b[0m     p\u001b[39m=\u001b[39mp, i\u001b[39m=\u001b[39mnode_input_storage, o\u001b[39m=\u001b[39mnode_output_storage, n\u001b[39m=\u001b[39mnode, params\u001b[39m=\u001b[39m\u001b[39mNone\u001b[39;00m\n\u001b[1;32m    523\u001b[0m ):\n\u001b[0;32m--> 524\u001b[0m     r \u001b[39m=\u001b[39m p(n, [x[\u001b[39m0\u001b[39;49m] \u001b[39mfor\u001b[39;49;00m x \u001b[39min\u001b[39;49;00m i], o)\n\u001b[1;32m    525\u001b[0m     \u001b[39mfor\u001b[39;00m o \u001b[39min\u001b[39;00m node\u001b[39m.\u001b[39moutputs:\n",
      "File \u001b[0;32m~/opt/anaconda3/envs/privugger_environment/lib/python3.10/site-packages/aesara/compile/ops.py:259\u001b[0m, in \u001b[0;36mFromFunctionOp.perform\u001b[0;34m(self, node, inputs, outputs)\u001b[0m\n\u001b[1;32m    258\u001b[0m \u001b[39mdef\u001b[39;00m \u001b[39mperform\u001b[39m(\u001b[39mself\u001b[39m, node, inputs, outputs):\n\u001b[0;32m--> 259\u001b[0m     outs \u001b[39m=\u001b[39m \u001b[39mself\u001b[39;49m\u001b[39m.\u001b[39;49m__fn(\u001b[39m*\u001b[39;49minputs)\n\u001b[1;32m    260\u001b[0m     \u001b[39mif\u001b[39;00m \u001b[39mnot\u001b[39;00m \u001b[39misinstance\u001b[39m(outs, (\u001b[39mlist\u001b[39m, \u001b[39mtuple\u001b[39m)):\n",
      "\u001b[0;31mTypeError\u001b[0m: method() takes 6 positional arguments but 7 were given",
      "\nDuring handling of the above exception, another exception occurred:\n",
      "\u001b[0;31mTypeError\u001b[0m                                 Traceback (most recent call last)",
      "\u001b[1;32m/Users/corentinphilippe-taylor/Downloads/privugger-master/docs/tutorials/Open-dp-Tutorial.ipynb Cell 12'\u001b[0m in \u001b[0;36m<cell line: 1>\u001b[0;34m()\u001b[0m\n\u001b[0;32m----> <a href='vscode-notebook-cell:/Users/corentinphilippe-taylor/Downloads/privugger-master/docs/tutorials/Open-dp-Tutorial.ipynb#ch0000011?line=0'>1</a>\u001b[0m trace \u001b[39m=\u001b[39m pv\u001b[39m.\u001b[39;49minfer(program, cores\u001b[39m=\u001b[39;49m\u001b[39m4\u001b[39;49m, chains\u001b[39m=\u001b[39;49m\u001b[39m2\u001b[39;49m, draws\u001b[39m=\u001b[39;49m\u001b[39m2000\u001b[39;49m, method\u001b[39m=\u001b[39;49m\u001b[39m'\u001b[39;49m\u001b[39mpymc3\u001b[39;49m\u001b[39m'\u001b[39;49m)\n",
      "File \u001b[0;32m~/Downloads/privugger-master/docs/tutorials/../../privugger/inference/inference.py:293\u001b[0m, in \u001b[0;36minfer\u001b[0;34m(prog, cores, chains, draws, method, return_model)\u001b[0m\n\u001b[1;32m    291\u001b[0m     \u001b[39mreturn\u001b[39;00m global_model\n\u001b[1;32m    292\u001b[0m \u001b[39melse\u001b[39;00m:\n\u001b[0;32m--> 293\u001b[0m     trace \u001b[39m=\u001b[39m pm\u001b[39m.\u001b[39;49msample(draws\u001b[39m=\u001b[39;49mdraws, chains\u001b[39m=\u001b[39;49mchains, cores\u001b[39m=\u001b[39;49mcores,return_inferencedata\u001b[39m=\u001b[39;49m\u001b[39mTrue\u001b[39;49;00m)\n\u001b[1;32m    295\u001b[0m concatenated     \u001b[39m=\u001b[39m \u001b[39mFalse\u001b[39;00m\n\u001b[1;32m    296\u001b[0m stacked          \u001b[39m=\u001b[39m \u001b[39mFalse\u001b[39;00m\n",
      "File \u001b[0;32m~/opt/anaconda3/envs/privugger_environment/lib/python3.10/site-packages/pymc/sampling.py:606\u001b[0m, in \u001b[0;36msample\u001b[0;34m(draws, step, init, n_init, initvals, trace, chain_idx, chains, cores, tune, progressbar, model, random_seed, discard_tuned_samples, compute_convergence_checks, callback, jitter_max_retries, return_inferencedata, idata_kwargs, mp_ctx, **kwargs)\u001b[0m\n\u001b[1;32m    604\u001b[0m _print_step_hierarchy(step)\n\u001b[1;32m    605\u001b[0m \u001b[39mtry\u001b[39;00m:\n\u001b[0;32m--> 606\u001b[0m     mtrace \u001b[39m=\u001b[39m _mp_sample(\u001b[39m*\u001b[39;49m\u001b[39m*\u001b[39;49msample_args, \u001b[39m*\u001b[39;49m\u001b[39m*\u001b[39;49mparallel_args)\n\u001b[1;32m    607\u001b[0m \u001b[39mexcept\u001b[39;00m pickle\u001b[39m.\u001b[39mPickleError:\n\u001b[1;32m    608\u001b[0m     _log\u001b[39m.\u001b[39mwarning(\u001b[39m\"\u001b[39m\u001b[39mCould not pickle model, sampling singlethreaded.\u001b[39m\u001b[39m\"\u001b[39m)\n",
      "File \u001b[0;32m~/opt/anaconda3/envs/privugger_environment/lib/python3.10/site-packages/pymc/sampling.py:1507\u001b[0m, in \u001b[0;36m_mp_sample\u001b[0;34m(draws, tune, step, chains, cores, chain, random_seed, start, progressbar, trace, model, callback, discard_tuned_samples, mp_ctx, **kwargs)\u001b[0m\n\u001b[1;32m   1504\u001b[0m \u001b[39m# We did draws += tune in pm.sample\u001b[39;00m\n\u001b[1;32m   1505\u001b[0m draws \u001b[39m-\u001b[39m\u001b[39m=\u001b[39m tune\n\u001b[0;32m-> 1507\u001b[0m traces \u001b[39m=\u001b[39m [\n\u001b[1;32m   1508\u001b[0m     _init_trace(\n\u001b[1;32m   1509\u001b[0m         expected_length\u001b[39m=\u001b[39mdraws \u001b[39m+\u001b[39m tune,\n\u001b[1;32m   1510\u001b[0m         step\u001b[39m=\u001b[39mstep,\n\u001b[1;32m   1511\u001b[0m         chain_number\u001b[39m=\u001b[39mchain_number,\n\u001b[1;32m   1512\u001b[0m         trace\u001b[39m=\u001b[39mtrace,\n\u001b[1;32m   1513\u001b[0m         model\u001b[39m=\u001b[39mmodel,\n\u001b[1;32m   1514\u001b[0m     )\n\u001b[1;32m   1515\u001b[0m     \u001b[39mfor\u001b[39;00m chain_number \u001b[39min\u001b[39;00m \u001b[39mrange\u001b[39m(chain, chain \u001b[39m+\u001b[39m chains)\n\u001b[1;32m   1516\u001b[0m ]\n\u001b[1;32m   1517\u001b[0m sampler \u001b[39m=\u001b[39m ps\u001b[39m.\u001b[39mParallelSampler(\n\u001b[1;32m   1518\u001b[0m     draws,\n\u001b[1;32m   1519\u001b[0m     tune,\n\u001b[0;32m   (...)\u001b[0m\n\u001b[1;32m   1527\u001b[0m     mp_ctx\u001b[39m=\u001b[39mmp_ctx,\n\u001b[1;32m   1528\u001b[0m )\n\u001b[1;32m   1529\u001b[0m \u001b[39mtry\u001b[39;00m:\n",
      "File \u001b[0;32m~/opt/anaconda3/envs/privugger_environment/lib/python3.10/site-packages/pymc/sampling.py:1508\u001b[0m, in \u001b[0;36m<listcomp>\u001b[0;34m(.0)\u001b[0m\n\u001b[1;32m   1504\u001b[0m \u001b[39m# We did draws += tune in pm.sample\u001b[39;00m\n\u001b[1;32m   1505\u001b[0m draws \u001b[39m-\u001b[39m\u001b[39m=\u001b[39m tune\n\u001b[1;32m   1507\u001b[0m traces \u001b[39m=\u001b[39m [\n\u001b[0;32m-> 1508\u001b[0m     _init_trace(\n\u001b[1;32m   1509\u001b[0m         expected_length\u001b[39m=\u001b[39;49mdraws \u001b[39m+\u001b[39;49m tune,\n\u001b[1;32m   1510\u001b[0m         step\u001b[39m=\u001b[39;49mstep,\n\u001b[1;32m   1511\u001b[0m         chain_number\u001b[39m=\u001b[39;49mchain_number,\n\u001b[1;32m   1512\u001b[0m         trace\u001b[39m=\u001b[39;49mtrace,\n\u001b[1;32m   1513\u001b[0m         model\u001b[39m=\u001b[39;49mmodel,\n\u001b[1;32m   1514\u001b[0m     )\n\u001b[1;32m   1515\u001b[0m     \u001b[39mfor\u001b[39;00m chain_number \u001b[39min\u001b[39;00m \u001b[39mrange\u001b[39m(chain, chain \u001b[39m+\u001b[39m chains)\n\u001b[1;32m   1516\u001b[0m ]\n\u001b[1;32m   1517\u001b[0m sampler \u001b[39m=\u001b[39m ps\u001b[39m.\u001b[39mParallelSampler(\n\u001b[1;32m   1518\u001b[0m     draws,\n\u001b[1;32m   1519\u001b[0m     tune,\n\u001b[0;32m   (...)\u001b[0m\n\u001b[1;32m   1527\u001b[0m     mp_ctx\u001b[39m=\u001b[39mmp_ctx,\n\u001b[1;32m   1528\u001b[0m )\n\u001b[1;32m   1529\u001b[0m \u001b[39mtry\u001b[39;00m:\n",
      "File \u001b[0;32m~/opt/anaconda3/envs/privugger_environment/lib/python3.10/site-packages/pymc/sampling.py:1437\u001b[0m, in \u001b[0;36m_init_trace\u001b[0;34m(expected_length, step, chain_number, trace, model)\u001b[0m\n\u001b[1;32m   1435\u001b[0m     strace \u001b[39m=\u001b[39m _choose_backend(copy(trace), model\u001b[39m=\u001b[39mmodel)\n\u001b[1;32m   1436\u001b[0m \u001b[39melse\u001b[39;00m:\n\u001b[0;32m-> 1437\u001b[0m     strace \u001b[39m=\u001b[39m _choose_backend(\u001b[39mNone\u001b[39;49;00m, model\u001b[39m=\u001b[39;49mmodel)\n\u001b[1;32m   1439\u001b[0m \u001b[39mif\u001b[39;00m step\u001b[39m.\u001b[39mgenerates_stats \u001b[39mand\u001b[39;00m strace\u001b[39m.\u001b[39msupports_sampler_stats:\n\u001b[1;32m   1440\u001b[0m     strace\u001b[39m.\u001b[39msetup(expected_length, chain_number, step\u001b[39m.\u001b[39mstats_dtypes)\n",
      "File \u001b[0;32m~/opt/anaconda3/envs/privugger_environment/lib/python3.10/site-packages/pymc/sampling.py:1420\u001b[0m, in \u001b[0;36m_choose_backend\u001b[0;34m(trace, **kwds)\u001b[0m\n\u001b[1;32m   1418\u001b[0m     \u001b[39mreturn\u001b[39;00m trace\n\u001b[1;32m   1419\u001b[0m \u001b[39mif\u001b[39;00m trace \u001b[39mis\u001b[39;00m \u001b[39mNone\u001b[39;00m:\n\u001b[0;32m-> 1420\u001b[0m     \u001b[39mreturn\u001b[39;00m NDArray(\u001b[39m*\u001b[39;49m\u001b[39m*\u001b[39;49mkwds)\n\u001b[1;32m   1422\u001b[0m \u001b[39mreturn\u001b[39;00m NDArray(\u001b[39mvars\u001b[39m\u001b[39m=\u001b[39mtrace, \u001b[39m*\u001b[39m\u001b[39m*\u001b[39mkwds)\n",
      "File \u001b[0;32m~/opt/anaconda3/envs/privugger_environment/lib/python3.10/site-packages/pymc/backends/ndarray.py:47\u001b[0m, in \u001b[0;36mNDArray.__init__\u001b[0;34m(self, name, model, vars, test_point)\u001b[0m\n\u001b[1;32m     46\u001b[0m \u001b[39mdef\u001b[39;00m \u001b[39m__init__\u001b[39m(\u001b[39mself\u001b[39m, name\u001b[39m=\u001b[39m\u001b[39mNone\u001b[39;00m, model\u001b[39m=\u001b[39m\u001b[39mNone\u001b[39;00m, \u001b[39mvars\u001b[39m\u001b[39m=\u001b[39m\u001b[39mNone\u001b[39;00m, test_point\u001b[39m=\u001b[39m\u001b[39mNone\u001b[39;00m):\n\u001b[0;32m---> 47\u001b[0m     \u001b[39msuper\u001b[39;49m()\u001b[39m.\u001b[39;49m\u001b[39m__init__\u001b[39;49m(name, model, \u001b[39mvars\u001b[39;49m, test_point)\n\u001b[1;32m     48\u001b[0m     \u001b[39mself\u001b[39m\u001b[39m.\u001b[39mdraw_idx \u001b[39m=\u001b[39m \u001b[39m0\u001b[39m\n\u001b[1;32m     49\u001b[0m     \u001b[39mself\u001b[39m\u001b[39m.\u001b[39mdraws \u001b[39m=\u001b[39m \u001b[39mNone\u001b[39;00m\n",
      "File \u001b[0;32m~/opt/anaconda3/envs/privugger_environment/lib/python3.10/site-packages/pymc/backends/base.py:78\u001b[0m, in \u001b[0;36mBaseTrace.__init__\u001b[0;34m(self, name, model, vars, test_point)\u001b[0m\n\u001b[1;32m     76\u001b[0m     test_point_\u001b[39m.\u001b[39mupdate(test_point)\n\u001b[1;32m     77\u001b[0m     test_point \u001b[39m=\u001b[39m test_point_\n\u001b[0;32m---> 78\u001b[0m var_values \u001b[39m=\u001b[39m \u001b[39mlist\u001b[39m(\u001b[39mzip\u001b[39m(\u001b[39mself\u001b[39m\u001b[39m.\u001b[39mvarnames, \u001b[39mself\u001b[39;49m\u001b[39m.\u001b[39;49mfn(test_point)))\n\u001b[1;32m     79\u001b[0m \u001b[39mself\u001b[39m\u001b[39m.\u001b[39mvar_shapes \u001b[39m=\u001b[39m {var: value\u001b[39m.\u001b[39mshape \u001b[39mfor\u001b[39;00m var, value \u001b[39min\u001b[39;00m var_values}\n\u001b[1;32m     80\u001b[0m \u001b[39mself\u001b[39m\u001b[39m.\u001b[39mvar_dtypes \u001b[39m=\u001b[39m {var: value\u001b[39m.\u001b[39mdtype \u001b[39mfor\u001b[39;00m var, value \u001b[39min\u001b[39;00m var_values}\n",
      "File \u001b[0;32m~/opt/anaconda3/envs/privugger_environment/lib/python3.10/site-packages/pymc/aesaraf.py:687\u001b[0m, in \u001b[0;36mPointFunc.__call__\u001b[0;34m(self, state)\u001b[0m\n\u001b[1;32m    686\u001b[0m \u001b[39mdef\u001b[39;00m \u001b[39m__call__\u001b[39m(\u001b[39mself\u001b[39m, state):\n\u001b[0;32m--> 687\u001b[0m     \u001b[39mreturn\u001b[39;00m \u001b[39mself\u001b[39;49m\u001b[39m.\u001b[39;49mf(\u001b[39m*\u001b[39;49m\u001b[39m*\u001b[39;49mstate)\n",
      "File \u001b[0;32m~/opt/anaconda3/envs/privugger_environment/lib/python3.10/site-packages/aesara/compile/function/types.py:988\u001b[0m, in \u001b[0;36mFunction.__call__\u001b[0;34m(self, *args, **kwargs)\u001b[0m\n\u001b[1;32m    986\u001b[0m     \u001b[39mif\u001b[39;00m \u001b[39mhasattr\u001b[39m(\u001b[39mself\u001b[39m\u001b[39m.\u001b[39mvm, \u001b[39m\"\u001b[39m\u001b[39mthunks\u001b[39m\u001b[39m\"\u001b[39m):\n\u001b[1;32m    987\u001b[0m         thunk \u001b[39m=\u001b[39m \u001b[39mself\u001b[39m\u001b[39m.\u001b[39mvm\u001b[39m.\u001b[39mthunks[\u001b[39mself\u001b[39m\u001b[39m.\u001b[39mvm\u001b[39m.\u001b[39mposition_of_error]\n\u001b[0;32m--> 988\u001b[0m     raise_with_op(\n\u001b[1;32m    989\u001b[0m         \u001b[39mself\u001b[39;49m\u001b[39m.\u001b[39;49mmaker\u001b[39m.\u001b[39;49mfgraph,\n\u001b[1;32m    990\u001b[0m         node\u001b[39m=\u001b[39;49m\u001b[39mself\u001b[39;49m\u001b[39m.\u001b[39;49mvm\u001b[39m.\u001b[39;49mnodes[\u001b[39mself\u001b[39;49m\u001b[39m.\u001b[39;49mvm\u001b[39m.\u001b[39;49mposition_of_error],\n\u001b[1;32m    991\u001b[0m         thunk\u001b[39m=\u001b[39;49mthunk,\n\u001b[1;32m    992\u001b[0m         storage_map\u001b[39m=\u001b[39;49m\u001b[39mgetattr\u001b[39;49m(\u001b[39mself\u001b[39;49m\u001b[39m.\u001b[39;49mvm, \u001b[39m\"\u001b[39;49m\u001b[39mstorage_map\u001b[39;49m\u001b[39m\"\u001b[39;49m, \u001b[39mNone\u001b[39;49;00m),\n\u001b[1;32m    993\u001b[0m     )\n\u001b[1;32m    994\u001b[0m \u001b[39melse\u001b[39;00m:\n\u001b[1;32m    995\u001b[0m     \u001b[39m# old-style linkers raise their own exceptions\u001b[39;00m\n\u001b[1;32m    996\u001b[0m     \u001b[39mraise\u001b[39;00m\n",
      "File \u001b[0;32m~/opt/anaconda3/envs/privugger_environment/lib/python3.10/site-packages/aesara/link/utils.py:534\u001b[0m, in \u001b[0;36mraise_with_op\u001b[0;34m(fgraph, node, thunk, exc_info, storage_map)\u001b[0m\n\u001b[1;32m    529\u001b[0m     warnings\u001b[39m.\u001b[39mwarn(\n\u001b[1;32m    530\u001b[0m         \u001b[39mf\u001b[39m\u001b[39m\"\u001b[39m\u001b[39m{\u001b[39;00mexc_type\u001b[39m}\u001b[39;00m\u001b[39m error does not allow us to add an extra error message\u001b[39m\u001b[39m\"\u001b[39m\n\u001b[1;32m    531\u001b[0m     )\n\u001b[1;32m    532\u001b[0m     \u001b[39m# Some exception need extra parameter in inputs. So forget the\u001b[39;00m\n\u001b[1;32m    533\u001b[0m     \u001b[39m# extra long error message in that case.\u001b[39;00m\n\u001b[0;32m--> 534\u001b[0m \u001b[39mraise\u001b[39;00m exc_value\u001b[39m.\u001b[39mwith_traceback(exc_trace)\n",
      "File \u001b[0;32m~/opt/anaconda3/envs/privugger_environment/lib/python3.10/site-packages/aesara/compile/function/types.py:975\u001b[0m, in \u001b[0;36mFunction.__call__\u001b[0;34m(self, *args, **kwargs)\u001b[0m\n\u001b[1;32m    972\u001b[0m t0_fn \u001b[39m=\u001b[39m time\u001b[39m.\u001b[39mtime()\n\u001b[1;32m    973\u001b[0m \u001b[39mtry\u001b[39;00m:\n\u001b[1;32m    974\u001b[0m     outputs \u001b[39m=\u001b[39m (\n\u001b[0;32m--> 975\u001b[0m         \u001b[39mself\u001b[39;49m\u001b[39m.\u001b[39;49mvm()\n\u001b[1;32m    976\u001b[0m         \u001b[39mif\u001b[39;00m output_subset \u001b[39mis\u001b[39;00m \u001b[39mNone\u001b[39;00m\n\u001b[1;32m    977\u001b[0m         \u001b[39melse\u001b[39;00m \u001b[39mself\u001b[39m\u001b[39m.\u001b[39mvm(output_subset\u001b[39m=\u001b[39moutput_subset)\n\u001b[1;32m    978\u001b[0m     )\n\u001b[1;32m    979\u001b[0m \u001b[39mexcept\u001b[39;00m \u001b[39mException\u001b[39;00m:\n\u001b[1;32m    980\u001b[0m     restore_defaults()\n",
      "File \u001b[0;32m~/opt/anaconda3/envs/privugger_environment/lib/python3.10/site-packages/aesara/graph/op.py:524\u001b[0m, in \u001b[0;36mOp.make_py_thunk.<locals>.rval\u001b[0;34m(p, i, o, n, params)\u001b[0m\n\u001b[1;32m    520\u001b[0m \u001b[39m@is_thunk_type\u001b[39m\n\u001b[1;32m    521\u001b[0m \u001b[39mdef\u001b[39;00m \u001b[39mrval\u001b[39m(\n\u001b[1;32m    522\u001b[0m     p\u001b[39m=\u001b[39mp, i\u001b[39m=\u001b[39mnode_input_storage, o\u001b[39m=\u001b[39mnode_output_storage, n\u001b[39m=\u001b[39mnode, params\u001b[39m=\u001b[39m\u001b[39mNone\u001b[39;00m\n\u001b[1;32m    523\u001b[0m ):\n\u001b[0;32m--> 524\u001b[0m     r \u001b[39m=\u001b[39m p(n, [x[\u001b[39m0\u001b[39;49m] \u001b[39mfor\u001b[39;49;00m x \u001b[39min\u001b[39;49;00m i], o)\n\u001b[1;32m    525\u001b[0m     \u001b[39mfor\u001b[39;00m o \u001b[39min\u001b[39;00m node\u001b[39m.\u001b[39moutputs:\n\u001b[1;32m    526\u001b[0m         compute_map[o][\u001b[39m0\u001b[39m] \u001b[39m=\u001b[39m \u001b[39mTrue\u001b[39;00m\n",
      "File \u001b[0;32m~/opt/anaconda3/envs/privugger_environment/lib/python3.10/site-packages/aesara/compile/ops.py:259\u001b[0m, in \u001b[0;36mFromFunctionOp.perform\u001b[0;34m(self, node, inputs, outputs)\u001b[0m\n\u001b[1;32m    258\u001b[0m \u001b[39mdef\u001b[39;00m \u001b[39mperform\u001b[39m(\u001b[39mself\u001b[39m, node, inputs, outputs):\n\u001b[0;32m--> 259\u001b[0m     outs \u001b[39m=\u001b[39m \u001b[39mself\u001b[39;49m\u001b[39m.\u001b[39;49m__fn(\u001b[39m*\u001b[39;49minputs)\n\u001b[1;32m    260\u001b[0m     \u001b[39mif\u001b[39;00m \u001b[39mnot\u001b[39;00m \u001b[39misinstance\u001b[39m(outs, (\u001b[39mlist\u001b[39m, \u001b[39mtuple\u001b[39m)):\n\u001b[1;32m    261\u001b[0m         outs \u001b[39m=\u001b[39m (outs,)\n",
      "\u001b[0;31mTypeError\u001b[0m: method() takes 6 positional arguments but 7 were given\nApply node that caused the error: FromFunctionOp{method}(age, sex, educ, race, income, married, N{150})\nToposort index: 6\nInputs types: [TensorType(int64, (None,)), TensorType(int64, (None,)), TensorType(int64, (None,)), TensorType(int64, (None,)), TensorType(float64, (None,)), TensorType(int64, (None,)), TensorType(int64, ())]\nInputs shapes: [(150,), (150,), (150,), (150,), (150,), (150,), ()]\nInputs strides: [(8,), (8,), (8,), (8,), (8,), (8,), ()]\nInputs values: ['not shown', 'not shown', 'not shown', 'not shown', 'not shown', 'not shown', array(150)]\nOutputs clients: [['output']]\n\nBacktrace when the node is created (use Aesara flag traceback__limit=N to make it longer):\n  File \"/Users/corentinphilippe-taylor/opt/anaconda3/envs/privugger_environment/lib/python3.10/site-packages/IPython/core/interactiveshell.py\", line 2881, in run_cell\n    result = self._run_cell(\n  File \"/Users/corentinphilippe-taylor/opt/anaconda3/envs/privugger_environment/lib/python3.10/site-packages/IPython/core/interactiveshell.py\", line 2936, in _run_cell\n    return runner(coro)\n  File \"/Users/corentinphilippe-taylor/opt/anaconda3/envs/privugger_environment/lib/python3.10/site-packages/IPython/core/async_helpers.py\", line 129, in _pseudo_sync_runner\n    coro.send(None)\n  File \"/Users/corentinphilippe-taylor/opt/anaconda3/envs/privugger_environment/lib/python3.10/site-packages/IPython/core/interactiveshell.py\", line 3135, in run_cell_async\n    has_raised = await self.run_ast_nodes(code_ast.body, cell_name,\n  File \"/Users/corentinphilippe-taylor/opt/anaconda3/envs/privugger_environment/lib/python3.10/site-packages/IPython/core/interactiveshell.py\", line 3338, in run_ast_nodes\n    if await self.run_code(code, result, async_=asy):\n  File \"/Users/corentinphilippe-taylor/opt/anaconda3/envs/privugger_environment/lib/python3.10/site-packages/IPython/core/interactiveshell.py\", line 3398, in run_code\n    exec(code_obj, self.user_global_ns, self.user_ns)\n  File \"/var/folders/kt/j5_kx9ds0j56mb6w00h6s1wh0000gn/T/ipykernel_93838/2930343463.py\", line 1, in <cell line: 1>\n    trace = pv.infer(program, cores=4, chains=2, draws=2000, method='pymc3')\n  File \"/Users/corentinphilippe-taylor/Downloads/privugger-master/docs/tutorials/../../privugger/inference/inference.py\", line 286, in infer\n    output = pm.Deterministic(prog.name, l.method(*global_priors))\n\nHINT: Use the Aesara flag `exception_verbosity=high` for a debug print-out and storage map footprint of this Apply node."
     ]
    }
   ],
   "source": [
    "trace = pv.infer(program, cores=4, chains=2, draws=2000, method='pymc3')"
   ]
  },
  {
   "cell_type": "markdown",
   "metadata": {},
   "source": [
    "## Privacy Risk Analysis\n",
    "\n",
    "### Mutual Information\n",
    "\n",
    "To quantify privacy risks, in this tutorial we are using mutual information (though we remark here that privugger can be used to compute many more leakage measures).\n",
    "\n",
    "We study the risks for the individual in the first record. We compute the mutual information between the output of the program (mean income + laplace noise) and each of the other attributes in the dataset.\n",
    "\n",
    "Since the mutual informaiton estimator we use is not exact, we compute 100 estimates and use box plots to get an impresison of the accuracy of the estimates."
   ]
  },
  {
   "cell_type": "code",
   "execution_count": null,
   "metadata": {},
   "outputs": [
    {
     "ename": "KeyError",
     "evalue": "'output'",
     "output_type": "error",
     "traceback": [
      "\u001b[0;31m---------------------------------------------------------------------------\u001b[0m",
      "\u001b[0;31mKeyError\u001b[0m                                  Traceback (most recent call last)",
      "File \u001b[0;32m~/opt/anaconda3/envs/privugger_environment/lib/python3.10/site-packages/xarray/core/dataset.py:1394\u001b[0m, in \u001b[0;36mDataset._construct_dataarray\u001b[0;34m(self, name)\u001b[0m\n\u001b[1;32m   1393\u001b[0m \u001b[39mtry\u001b[39;00m:\n\u001b[0;32m-> 1394\u001b[0m     variable \u001b[39m=\u001b[39m \u001b[39mself\u001b[39;49m\u001b[39m.\u001b[39;49m_variables[name]\n\u001b[1;32m   1395\u001b[0m \u001b[39mexcept\u001b[39;00m \u001b[39mKeyError\u001b[39;00m:\n",
      "\u001b[0;31mKeyError\u001b[0m: 'output'",
      "\nDuring handling of the above exception, another exception occurred:\n",
      "\u001b[0;31mKeyError\u001b[0m                                  Traceback (most recent call last)",
      "\u001b[1;32m/Users/corentinphilippe-taylor/Downloads/privugger-master/docs/tutorials/Open-dp-Tutorial.ipynb Cell 14'\u001b[0m in \u001b[0;36m<cell line: 1>\u001b[0;34m()\u001b[0m\n\u001b[0;32m----> <a href='vscode-notebook-cell:/Users/corentinphilippe-taylor/Downloads/privugger-master/docs/tutorials/Open-dp-Tutorial.ipynb#ch0000013?line=0'>1</a>\u001b[0m output \u001b[39m=\u001b[39m trace\u001b[39m.\u001b[39;49mposterior[\u001b[39m'\u001b[39;49m\u001b[39moutput\u001b[39;49m\u001b[39m'\u001b[39;49m]\u001b[39m.\u001b[39mvalues\u001b[39m.\u001b[39mflatten()\n\u001b[1;32m      <a href='vscode-notebook-cell:/Users/corentinphilippe-taylor/Downloads/privugger-master/docs/tutorials/Open-dp-Tutorial.ipynb#ch0000013?line=2'>3</a>\u001b[0m \u001b[39m\"\"\"trace_length=20000\u001b[39;00m\n\u001b[1;32m      <a href='vscode-notebook-cell:/Users/corentinphilippe-taylor/Downloads/privugger-master/docs/tutorials/Open-dp-Tutorial.ipynb#ch0000013?line=3'>4</a>\u001b[0m \u001b[39mattrs=['age','sex','race','educ','married','income']\u001b[39;00m\n\u001b[1;32m      <a href='vscode-notebook-cell:/Users/corentinphilippe-taylor/Downloads/privugger-master/docs/tutorials/Open-dp-Tutorial.ipynb#ch0000013?line=4'>5</a>\u001b[0m \n\u001b[0;32m   (...)\u001b[0m\n\u001b[1;32m     <a href='vscode-notebook-cell:/Users/corentinphilippe-taylor/Downloads/privugger-master/docs/tutorials/Open-dp-Tutorial.ipynb#ch0000013?line=20'>21</a>\u001b[0m \u001b[39mplt.title(\"Mutual information between income, and other attributes\")\u001b[39;00m\n\u001b[1;32m     <a href='vscode-notebook-cell:/Users/corentinphilippe-taylor/Downloads/privugger-master/docs/tutorials/Open-dp-Tutorial.ipynb#ch0000013?line=21'>22</a>\u001b[0m \u001b[39mplt.show();\"\"\"\u001b[39;00m\n",
      "File \u001b[0;32m~/opt/anaconda3/envs/privugger_environment/lib/python3.10/site-packages/xarray/core/dataset.py:1498\u001b[0m, in \u001b[0;36mDataset.__getitem__\u001b[0;34m(self, key)\u001b[0m\n\u001b[1;32m   1495\u001b[0m     \u001b[39mreturn\u001b[39;00m \u001b[39mself\u001b[39m\u001b[39m.\u001b[39misel(\u001b[39m*\u001b[39m\u001b[39m*\u001b[39mcast(Mapping, key))\n\u001b[1;32m   1497\u001b[0m \u001b[39mif\u001b[39;00m hashable(key):\n\u001b[0;32m-> 1498\u001b[0m     \u001b[39mreturn\u001b[39;00m \u001b[39mself\u001b[39;49m\u001b[39m.\u001b[39;49m_construct_dataarray(key)\n\u001b[1;32m   1499\u001b[0m \u001b[39melse\u001b[39;00m:\n\u001b[1;32m   1500\u001b[0m     \u001b[39mreturn\u001b[39;00m \u001b[39mself\u001b[39m\u001b[39m.\u001b[39m_copy_listed(key)\n",
      "File \u001b[0;32m~/opt/anaconda3/envs/privugger_environment/lib/python3.10/site-packages/xarray/core/dataset.py:1396\u001b[0m, in \u001b[0;36mDataset._construct_dataarray\u001b[0;34m(self, name)\u001b[0m\n\u001b[1;32m   1394\u001b[0m     variable \u001b[39m=\u001b[39m \u001b[39mself\u001b[39m\u001b[39m.\u001b[39m_variables[name]\n\u001b[1;32m   1395\u001b[0m \u001b[39mexcept\u001b[39;00m \u001b[39mKeyError\u001b[39;00m:\n\u001b[0;32m-> 1396\u001b[0m     _, name, variable \u001b[39m=\u001b[39m _get_virtual_variable(\n\u001b[1;32m   1397\u001b[0m         \u001b[39mself\u001b[39;49m\u001b[39m.\u001b[39;49m_variables, name, \u001b[39mself\u001b[39;49m\u001b[39m.\u001b[39;49m_level_coords, \u001b[39mself\u001b[39;49m\u001b[39m.\u001b[39;49mdims\n\u001b[1;32m   1398\u001b[0m     )\n\u001b[1;32m   1400\u001b[0m needed_dims \u001b[39m=\u001b[39m \u001b[39mset\u001b[39m(variable\u001b[39m.\u001b[39mdims)\n\u001b[1;32m   1402\u001b[0m coords: \u001b[39mdict\u001b[39m[Hashable, Variable] \u001b[39m=\u001b[39m {}\n",
      "File \u001b[0;32m~/opt/anaconda3/envs/privugger_environment/lib/python3.10/site-packages/xarray/core/dataset.py:169\u001b[0m, in \u001b[0;36m_get_virtual_variable\u001b[0;34m(variables, key, level_vars, dim_sizes)\u001b[0m\n\u001b[1;32m    167\u001b[0m     ref_var \u001b[39m=\u001b[39m dim_var\u001b[39m.\u001b[39mto_index_variable()\u001b[39m.\u001b[39mget_level_variable(ref_name)\n\u001b[1;32m    168\u001b[0m \u001b[39melse\u001b[39;00m:\n\u001b[0;32m--> 169\u001b[0m     ref_var \u001b[39m=\u001b[39m variables[ref_name]\n\u001b[1;32m    171\u001b[0m \u001b[39mif\u001b[39;00m var_name \u001b[39mis\u001b[39;00m \u001b[39mNone\u001b[39;00m:\n\u001b[1;32m    172\u001b[0m     virtual_var \u001b[39m=\u001b[39m ref_var\n",
      "\u001b[0;31mKeyError\u001b[0m: 'output'"
     ]
    }
   ],
   "source": [
    "trace_length=20000\n",
    "attrs=['age','sex','race','educ','married','income']\n",
    "\n",
    "trace_attr = lambda attr : np.concatenate(trace.posterior[attr],axis=0)\n",
    "\n",
    "y=[[pv.mi_sklearn([trace_attr(attr)[:trace_length,0], trace_attr('output')[:trace_length]],\n",
    "                  n_neigh=40,input_inferencedata=True)[0]\n",
    "   for attr in attrs] for i in range(0,100)]\n",
    "\n",
    "for i in range (0,100):\n",
    "   for attr in attrs:\n",
    "      y = pv.mi_sklearn(trace, var_names=[trace_attr(attr)[:trace_length,0], trace_attr('output')[:trace_length,0]], n_neigh=40,input_inferencedata=True)\n",
    "\n",
    "plt.boxplot(np.array(y),attrs,\n",
    "            showmeans=False, showfliers=False, patch_artist=True, vert=True)\n",
    "plt.xticks(range(0,len(attrs)), attrs)\n",
    "plt.xlabel('attr')\n",
    "plt.ylabel('$I(attr_0;income)$')\n",
    "plt.title(\"Mutual information between income, and other attributes\")\n",
    "plt.show()"
   ]
  },
  {
   "cell_type": "markdown",
   "metadata": {},
   "source": [
    "In the figure above, we observe that the mutual information between the output and any of the attributes is very low $I(\\mathit{attr};\\mathit{output})\\leq 0.005$ for all attributes ($\\mathit{attr}$)."
   ]
  }
 ],
 "metadata": {
  "kernelspec": {
   "display_name": "Python 3.9.0 ('privugger_environment')",
   "language": "python",
   "name": "python3"
  },
  "language_info": {
   "codemirror_mode": {
    "name": "ipython",
    "version": 3
   },
   "file_extension": ".py",
   "mimetype": "text/x-python",
   "name": "python",
   "nbconvert_exporter": "python",
   "pygments_lexer": "ipython3",
   "version": "3.10.6"
  },
  "vscode": {
   "interpreter": {
    "hash": "ead01f34da02679ce3852bdbdb51f16b97d4b75626f761dacfb86d0793faee05"
   }
  }
 },
 "nbformat": 4,
 "nbformat_minor": 4
}
