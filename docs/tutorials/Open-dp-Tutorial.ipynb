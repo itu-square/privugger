{
 "cells": [
  {
   "cell_type": "code",
   "execution_count": 1,
   "metadata": {},
   "outputs": [
    {
     "ename": "Exception",
     "evalue": "Wrong Architecture: opendp.smartnoise.core library is not available on ARM64 architecture",
     "output_type": "error",
     "traceback": [
      "\u001b[0;31m---------------------------------------------------------------------------\u001b[0m",
      "\u001b[0;31mException\u001b[0m                                 Traceback (most recent call last)",
      "\u001b[1;32m/Users/corentinphilippe-taylor/Downloads/privugger-master/docs/tutorials/Open-dp-Tutorial.ipynb Cell 1'\u001b[0m in \u001b[0;36m<cell line: 10>\u001b[0;34m()\u001b[0m\n\u001b[1;32m      <a href='vscode-notebook-cell:/Users/corentinphilippe-taylor/Downloads/privugger-master/docs/tutorials/Open-dp-Tutorial.ipynb#ch0000000?line=7'>8</a>\u001b[0m sys\u001b[39m.\u001b[39mpath\u001b[39m.\u001b[39mappend(os\u001b[39m.\u001b[39mpath\u001b[39m.\u001b[39mjoin(\u001b[39m\"\u001b[39m\u001b[39m../../\u001b[39m\u001b[39m\"\u001b[39m))\n\u001b[1;32m     <a href='vscode-notebook-cell:/Users/corentinphilippe-taylor/Downloads/privugger-master/docs/tutorials/Open-dp-Tutorial.ipynb#ch0000000?line=9'>10</a>\u001b[0m \u001b[39mif\u001b[39;00m os\u001b[39m.\u001b[39muname()\u001b[39m.\u001b[39mmachine \u001b[39m==\u001b[39m \u001b[39m'\u001b[39m\u001b[39marm64\u001b[39m\u001b[39m'\u001b[39m:\n\u001b[0;32m---> <a href='vscode-notebook-cell:/Users/corentinphilippe-taylor/Downloads/privugger-master/docs/tutorials/Open-dp-Tutorial.ipynb#ch0000000?line=10'>11</a>\u001b[0m     \u001b[39mraise\u001b[39;00m \u001b[39mException\u001b[39;00m(\u001b[39m\"\u001b[39m\u001b[39mWrong Architecture: opendp.smartnoise.core library is not available on ARM64 architecture\u001b[39m\u001b[39m\"\u001b[39m)\n\u001b[1;32m     <a href='vscode-notebook-cell:/Users/corentinphilippe-taylor/Downloads/privugger-master/docs/tutorials/Open-dp-Tutorial.ipynb#ch0000000?line=12'>13</a>\u001b[0m \u001b[39mimport\u001b[39;00m \u001b[39mprivugger\u001b[39;00m \u001b[39mas\u001b[39;00m \u001b[39mpv\u001b[39;00m\n",
      "\u001b[0;31mException\u001b[0m: Wrong Architecture: opendp.smartnoise.core library is not available on ARM64 architecture"
     ]
    }
   ],
   "source": [
    "import matplotlib.pyplot as plt\n",
    "import arviz as az\n",
    "import numpy as np\n",
    "import pymc as pm\n",
    "\n",
    "# move to previouse directory to access the privugger code\n",
    "import os, sys\n",
    "sys.path.append(os.path.join(\"../../\"))\n",
    "\n",
    "if os.uname().machine == 'arm64':\n",
    "    raise Exception(\"Wrong Architecture: opendp.smartnoise.core library is not available on ARM64 architecture\")\n",
    "\n",
    "import privugger as pv"
   ]
  },
  {
   "cell_type": "markdown",
   "metadata": {},
   "source": [
    "# Example of using Privugger on OpenDP "
   ]
  },
  {
   "cell_type": "markdown",
   "metadata": {},
   "source": [
    "This tutorial shows the use of privugger on a program using the differential privacy libray [OpenDP](https://github.com/opendp).\n",
    "\n",
    "## OpenDP program\n",
    "\n",
    "We consider a program that takes as input a dataset with attributes: age, sex, education, race, income and marriage status. The program outputs the mean of the incomes and adds Laplacian noise to protects the individuals privacy.\n",
    "\n",
    "For each attribute, the program takes a parameter of type array (int or float) with the attribute value for each individual in the dataset. For example, to model a dataset of size 2 where the first individual is 20 and the second is 40, we set the `age` input parameter as `age=[20,40]`. The remaining parameters are defined in the same way. The last parameter `N` indicates the number of records in the dataset.\n",
    "\n",
    "This way of defining the input may seem unnatural, but, as we will see below, it allows for a structured manner to specify the prior of the program.\n",
    "\n",
    "Furthermore, note that the first lines of `dp_program` simply defined a pandas dataframe. This snippet of code can be adapted to other programs. The part of the code after the comment `## After here the...` can contain arbitrary code working on a pandas dataframe with the attributes defined in the parameters of the program."
   ]
  },
  {
   "cell_type": "code",
   "execution_count": null,
   "metadata": {},
   "outputs": [],
   "source": [
    "def dp_program(age, sex, educ, race, income, married):\n",
    "    import opendp.smartnoise.core as sn\n",
    "    import pandas as pd\n",
    "\n",
    "    # assert that all vectors are have the same size\n",
    "    assert age.size == sex.size == educ.size == race.size == income.size == married.size\n",
    "    \n",
    "    N = age.size\n",
    "    ## Dataframe definition (can be automatized)\n",
    "    temp_file='temp.csv'\n",
    "    var_names = [\"age\", \"sex\", \"educ\", \"race\", \"income\", \"married\"]\n",
    "    data = {\n",
    "        \"age\":     age,\n",
    "        \"sex\":     sex,\n",
    "        \"educ\":    educ,\n",
    "        \"race\":    race,\n",
    "        \"income\":  income,\n",
    "        \"married\": married\n",
    "    }\n",
    "    df = pd.DataFrame(data,columns=var_names)\n",
    "    \n",
    "    ## After here the program works on a pandas dataframe\n",
    "    df.to_csv(temp_file)\n",
    "    with sn.Analysis() as analysis:\n",
    "        # load data\n",
    "        data = sn.Dataset(path=temp_file,column_names=var_names)\n",
    "\n",
    "        # get mean income with laplacian noise (epsilon=.1 arbitrarily chosen)\n",
    "        age_mean = sn.dp_mean(data = sn.to_float(data['income']),\n",
    "                              privacy_usage = {'epsilon': .1},\n",
    "                              data_lower = 0., # min income\n",
    "                              data_upper = 200., # max income                   \n",
    "                              data_rows = N\n",
    "                             )\n",
    "    analysis.release()\n",
    "    return np.float64(age_mean.value)   "
   ]
  },
  {
   "cell_type": "markdown",
   "metadata": {},
   "source": [
    "## Input specification\n",
    "\n",
    "The next step is to specify the prior knowledge of the attacker using probability distributions (i.e., they are defined as _random variables_). In this example, we show specify each of the attributes that conform the dataset.\n",
    "\n",
    "The variable `N` defines the size of the dataset (`N_rv` is a point distribution with all probability mass concentrated at `N`, this is necessary because the input specification must be composed by random variables). In this example, we consider a dataset of size 150.\n",
    "\n",
    "For non-numeric attributes such as `sex`, `educ` or `race` we use distribution over natural numbers with each number denoting a category. We treat them as nominal values (i.e., we assume there is not order relation, $\\leq$ among them). For these attributes (and `married`) we specify a uniform distribution over all possible categories.\n",
    "\n",
    "For `age`, we set a binomial distribution prior with support 0 to 120; this distribution gives highest probability to ages close to 60 years old. We remak here that this prior may be refined by using statistical data about age data.\n",
    "\n",
    "Finally, `income` is distributed according to a Normal distribution with mean 100 and standard deviation 5. This gives high probability to values close to 100 (i.e., 100k DKK)."
   ]
  },
  {
   "cell_type": "code",
   "execution_count": null,
   "metadata": {},
   "outputs": [],
   "source": [
    "N         = 150\n",
    "N_rv      = pv.TensorConstant('N', N)\n",
    "age       = pv.Binomial('age', p=0.5, n=120, num_elements=N)\n",
    "sex       = pv.DiscreteUniform('sex', 0,2,num_elements=N)\n",
    "educ      = pv.DiscreteUniform('educ', 0,10, num_elements=N)\n",
    "race      = pv.DiscreteUniform('race', 0,50, num_elements=N)\n",
    "income    = pv.Normal('income', mu=100, std=5, num_elements=N)\n",
    "married   = pv.DiscreteUniform('married', 0,1,num_elements=N)"
   ]
  },
  {
   "cell_type": "markdown",
   "metadata": {},
   "source": [
    "## Dataset & Program specification  \n",
    "\n",
    "The input specification above is always wrapped into a `Dataset` object. This object is used as the input for the program."
   ]
  },
  {
   "cell_type": "code",
   "execution_count": null,
   "metadata": {},
   "outputs": [],
   "source": [
    "ds       = pv.Dataset(input_specs = [age, sex, educ, race, income, married, N_rv])"
   ]
  },
  {
   "cell_type": "markdown",
   "metadata": {},
   "source": [
    "## Program specification\n",
    "\n",
    "The program specification takes the `Dataset` above and the program to analyze. To this end, we define a `Program` object including the `Dataset`, a python function corresponding to the program to analyze (the input parameters of the function must match those of the `Dataset`). Finally, it is necessary to specify the type of the output of the program. In this case, since we are analyzing a program compute the mean income it is a float. The first parameter of the `Program` constructor is the name of the output distribution (i.e., the distribution of the output of the program under analysis).\n",
    "\n",
    " output type specifies the output type of the program, in this case it is a floating point number as the program calulates the mean. The function is the program specified above. "
   ]
  },
  {
   "cell_type": "code",
   "execution_count": null,
   "metadata": {},
   "outputs": [],
   "source": [
    "program = pv.Program('output',dataset=ds, output_type=pv.Float, function=dp_program)"
   ]
  },
  {
   "cell_type": "markdown",
   "metadata": {},
   "source": [
    "## Inference\n",
    "\n",
    "Lastly we use the privug interface to perform the inference. This is done by calling `infer` and specifying the `program`, number of cores, number of chains, number of draws, and the backend (which is pymc3 in this example)."
   ]
  },
  {
   "cell_type": "code",
   "execution_count": null,
   "metadata": {},
   "outputs": [
    {
     "name": "stderr",
     "output_type": "stream",
     "text": [
      "Multiprocess sampling (2 chains in 4 jobs)\n",
      "CompoundStep\n",
      ">CompoundStep\n",
      ">>Metropolis: [age]\n",
      ">>Metropolis: [sex]\n",
      ">>Metropolis: [educ]\n",
      ">>Metropolis: [race]\n",
      ">>Metropolis: [married]\n",
      ">NUTS: [income]\n"
     ]
    },
    {
     "data": {
      "text/html": [
       "\n",
       "<style>\n",
       "    /* Turns off some styling */\n",
       "    progress {\n",
       "        /* gets rid of default border in Firefox and Opera. */\n",
       "        border: none;\n",
       "        /* Needs to be in here for Safari polyfill so background images work as expected. */\n",
       "        background-size: auto;\n",
       "    }\n",
       "    .progress-bar-interrupted, .progress-bar-interrupted::-webkit-progress-bar {\n",
       "        background: #F44336;\n",
       "    }\n",
       "</style>\n"
      ],
      "text/plain": [
       "<IPython.core.display.HTML object>"
      ]
     },
     "metadata": {},
     "output_type": "display_data"
    },
    {
     "data": {
      "text/html": [
       "\n",
       "    <div>\n",
       "      <progress value='6000' class='' max='6000' style='width:300px; height:20px; vertical-align: middle;'></progress>\n",
       "      100.00% [6000/6000 00:50<00:00 Sampling 2 chains, 0 divergences]\n",
       "    </div>\n",
       "    "
      ],
      "text/plain": [
       "<IPython.core.display.HTML object>"
      ]
     },
     "metadata": {},
     "output_type": "display_data"
    },
    {
     "name": "stderr",
     "output_type": "stream",
     "text": [
      "Sampling 2 chains for 1_000 tune and 2_000 draw iterations (2_000 + 4_000 draws total) took 56 seconds.\n"
     ]
    }
   ],
   "source": [
    "trace = pv.infer(program, cores=4, chains=2, draws=2000, method='pymc3')"
   ]
  },
  {
   "cell_type": "markdown",
   "metadata": {},
   "source": [
    "## Privacy Risk Analysis\n",
    "\n",
    "### Mutual Information\n",
    "\n",
    "To quantify privacy risks, in this tutorial we are using mutual information (though we remark here that privugger can be used to compute many more leakage measures).\n",
    "\n",
    "We study the risks for the individual in the first record. We compute the mutual information between the output of the program (mean income + laplace noise) and each of the other attributes in the dataset.\n",
    "\n",
    "Since the mutual informaiton estimator we use is not exact, we compute 100 estimates and use box plots to get an impresison of the accuracy of the estimates."
   ]
  },
  {
   "cell_type": "code",
   "execution_count": null,
   "metadata": {},
   "outputs": [
    {
     "ename": "KeyError",
     "evalue": "'output'",
     "output_type": "error",
     "traceback": [
      "\u001b[0;31m---------------------------------------------------------------------------\u001b[0m",
      "\u001b[0;31mKeyError\u001b[0m                                  Traceback (most recent call last)",
      "File \u001b[0;32m~/opt/anaconda3/envs/privugger_environment/lib/python3.10/site-packages/xarray/core/dataset.py:1394\u001b[0m, in \u001b[0;36mDataset._construct_dataarray\u001b[0;34m(self, name)\u001b[0m\n\u001b[1;32m   1393\u001b[0m \u001b[39mtry\u001b[39;00m:\n\u001b[0;32m-> 1394\u001b[0m     variable \u001b[39m=\u001b[39m \u001b[39mself\u001b[39;49m\u001b[39m.\u001b[39;49m_variables[name]\n\u001b[1;32m   1395\u001b[0m \u001b[39mexcept\u001b[39;00m \u001b[39mKeyError\u001b[39;00m:\n",
      "\u001b[0;31mKeyError\u001b[0m: 'output'",
      "\nDuring handling of the above exception, another exception occurred:\n",
      "\u001b[0;31mKeyError\u001b[0m                                  Traceback (most recent call last)",
      "\u001b[1;32m/Users/corentinphilippe-taylor/Downloads/privugger-master/docs/tutorials/Open-dp-Tutorial.ipynb Cell 14'\u001b[0m in \u001b[0;36m<cell line: 1>\u001b[0;34m()\u001b[0m\n\u001b[0;32m----> <a href='vscode-notebook-cell:/Users/corentinphilippe-taylor/Downloads/privugger-master/docs/tutorials/Open-dp-Tutorial.ipynb#ch0000013?line=0'>1</a>\u001b[0m output \u001b[39m=\u001b[39m trace\u001b[39m.\u001b[39;49mposterior[\u001b[39m'\u001b[39;49m\u001b[39moutput\u001b[39;49m\u001b[39m'\u001b[39;49m]\u001b[39m.\u001b[39mvalues\u001b[39m.\u001b[39mflatten()\n\u001b[1;32m      <a href='vscode-notebook-cell:/Users/corentinphilippe-taylor/Downloads/privugger-master/docs/tutorials/Open-dp-Tutorial.ipynb#ch0000013?line=2'>3</a>\u001b[0m \u001b[39m\"\"\"trace_length=20000\u001b[39;00m\n\u001b[1;32m      <a href='vscode-notebook-cell:/Users/corentinphilippe-taylor/Downloads/privugger-master/docs/tutorials/Open-dp-Tutorial.ipynb#ch0000013?line=3'>4</a>\u001b[0m \u001b[39mattrs=['age','sex','race','educ','married','income']\u001b[39;00m\n\u001b[1;32m      <a href='vscode-notebook-cell:/Users/corentinphilippe-taylor/Downloads/privugger-master/docs/tutorials/Open-dp-Tutorial.ipynb#ch0000013?line=4'>5</a>\u001b[0m \n\u001b[0;32m   (...)\u001b[0m\n\u001b[1;32m     <a href='vscode-notebook-cell:/Users/corentinphilippe-taylor/Downloads/privugger-master/docs/tutorials/Open-dp-Tutorial.ipynb#ch0000013?line=20'>21</a>\u001b[0m \u001b[39mplt.title(\"Mutual information between income, and other attributes\")\u001b[39;00m\n\u001b[1;32m     <a href='vscode-notebook-cell:/Users/corentinphilippe-taylor/Downloads/privugger-master/docs/tutorials/Open-dp-Tutorial.ipynb#ch0000013?line=21'>22</a>\u001b[0m \u001b[39mplt.show();\"\"\"\u001b[39;00m\n",
      "File \u001b[0;32m~/opt/anaconda3/envs/privugger_environment/lib/python3.10/site-packages/xarray/core/dataset.py:1498\u001b[0m, in \u001b[0;36mDataset.__getitem__\u001b[0;34m(self, key)\u001b[0m\n\u001b[1;32m   1495\u001b[0m     \u001b[39mreturn\u001b[39;00m \u001b[39mself\u001b[39m\u001b[39m.\u001b[39misel(\u001b[39m*\u001b[39m\u001b[39m*\u001b[39mcast(Mapping, key))\n\u001b[1;32m   1497\u001b[0m \u001b[39mif\u001b[39;00m hashable(key):\n\u001b[0;32m-> 1498\u001b[0m     \u001b[39mreturn\u001b[39;00m \u001b[39mself\u001b[39;49m\u001b[39m.\u001b[39;49m_construct_dataarray(key)\n\u001b[1;32m   1499\u001b[0m \u001b[39melse\u001b[39;00m:\n\u001b[1;32m   1500\u001b[0m     \u001b[39mreturn\u001b[39;00m \u001b[39mself\u001b[39m\u001b[39m.\u001b[39m_copy_listed(key)\n",
      "File \u001b[0;32m~/opt/anaconda3/envs/privugger_environment/lib/python3.10/site-packages/xarray/core/dataset.py:1396\u001b[0m, in \u001b[0;36mDataset._construct_dataarray\u001b[0;34m(self, name)\u001b[0m\n\u001b[1;32m   1394\u001b[0m     variable \u001b[39m=\u001b[39m \u001b[39mself\u001b[39m\u001b[39m.\u001b[39m_variables[name]\n\u001b[1;32m   1395\u001b[0m \u001b[39mexcept\u001b[39;00m \u001b[39mKeyError\u001b[39;00m:\n\u001b[0;32m-> 1396\u001b[0m     _, name, variable \u001b[39m=\u001b[39m _get_virtual_variable(\n\u001b[1;32m   1397\u001b[0m         \u001b[39mself\u001b[39;49m\u001b[39m.\u001b[39;49m_variables, name, \u001b[39mself\u001b[39;49m\u001b[39m.\u001b[39;49m_level_coords, \u001b[39mself\u001b[39;49m\u001b[39m.\u001b[39;49mdims\n\u001b[1;32m   1398\u001b[0m     )\n\u001b[1;32m   1400\u001b[0m needed_dims \u001b[39m=\u001b[39m \u001b[39mset\u001b[39m(variable\u001b[39m.\u001b[39mdims)\n\u001b[1;32m   1402\u001b[0m coords: \u001b[39mdict\u001b[39m[Hashable, Variable] \u001b[39m=\u001b[39m {}\n",
      "File \u001b[0;32m~/opt/anaconda3/envs/privugger_environment/lib/python3.10/site-packages/xarray/core/dataset.py:169\u001b[0m, in \u001b[0;36m_get_virtual_variable\u001b[0;34m(variables, key, level_vars, dim_sizes)\u001b[0m\n\u001b[1;32m    167\u001b[0m     ref_var \u001b[39m=\u001b[39m dim_var\u001b[39m.\u001b[39mto_index_variable()\u001b[39m.\u001b[39mget_level_variable(ref_name)\n\u001b[1;32m    168\u001b[0m \u001b[39melse\u001b[39;00m:\n\u001b[0;32m--> 169\u001b[0m     ref_var \u001b[39m=\u001b[39m variables[ref_name]\n\u001b[1;32m    171\u001b[0m \u001b[39mif\u001b[39;00m var_name \u001b[39mis\u001b[39;00m \u001b[39mNone\u001b[39;00m:\n\u001b[1;32m    172\u001b[0m     virtual_var \u001b[39m=\u001b[39m ref_var\n",
      "\u001b[0;31mKeyError\u001b[0m: 'output'"
     ]
    }
   ],
   "source": [
    "trace_length=20000\n",
    "attrs=['age','sex','race','educ','married','income']\n",
    "\n",
    "trace_attr = lambda attr : np.concatenate(trace.posterior[attr],axis=0)\n",
    "\n",
    "y=[[pv.mi_sklearn([trace_attr(attr)[:trace_length,0], trace_attr('output')[:trace_length]],\n",
    "                  n_neigh=40,input_inferencedata=True)[0]\n",
    "   for attr in attrs] for i in range(0,100)]\n",
    "\n",
    "for i in range (0,100):\n",
    "   for attr in attrs:\n",
    "      y = pv.mi_sklearn(trace, var_names=[trace_attr(attr)[:trace_length,0], trace_attr('output')[:trace_length,0]], n_neigh=40,input_inferencedata=True)\n",
    "\n",
    "plt.boxplot(np.array(y),attrs,\n",
    "            showmeans=False, showfliers=False, patch_artist=True, vert=True)\n",
    "plt.xticks(range(0,len(attrs)), attrs)\n",
    "plt.xlabel('attr')\n",
    "plt.ylabel('$I(attr_0;income)$')\n",
    "plt.title(\"Mutual information between income, and other attributes\")\n",
    "plt.show()"
   ]
  },
  {
   "cell_type": "markdown",
   "metadata": {},
   "source": [
    "In the figure above, we observe that the mutual information between the output and any of the attributes is very low $I(\\mathit{attr};\\mathit{output})\\leq 0.005$ for all attributes ($\\mathit{attr}$)."
   ]
  }
 ],
 "metadata": {
  "kernelspec": {
   "display_name": "Python 3.9.0 ('privugger_environment')",
   "language": "python",
   "name": "python3"
  },
  "language_info": {
   "codemirror_mode": {
    "name": "ipython",
    "version": 3
   },
   "file_extension": ".py",
   "mimetype": "text/x-python",
   "name": "python",
   "nbconvert_exporter": "python",
   "pygments_lexer": "ipython3",
   "version": "3.10.5"
  },
  "vscode": {
   "interpreter": {
    "hash": "ead01f34da02679ce3852bdbdb51f16b97d4b75626f761dacfb86d0793faee05"
   }
  }
 },
 "nbformat": 4,
 "nbformat_minor": 4
}
