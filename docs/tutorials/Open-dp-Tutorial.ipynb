{
 "cells": [
  {
   "cell_type": "code",
   "execution_count": 1,
   "metadata": {},
   "outputs": [],
   "source": [
    "import matplotlib.pyplot as plt\n",
    "import arviz as az\n",
    "import numpy as np\n",
    "import pymc as pm\n",
    "\n",
    "# move to previouse directory to access the privugger code\n",
    "import os, sys\n",
    "sys.path.append(os.path.join(\"../../\"))\n",
    "\n",
    "if os.uname().machine == 'arm64':\n",
    "    raise Exception(\"Wrong Architecture: opendp.smartnoise.core library is not available on ARM64 architecture\")\n",
    "\n",
    "import privugger as pv"
   ]
  },
  {
   "cell_type": "markdown",
   "metadata": {},
   "source": [
    "# Example of using Privugger on OpenDP "
   ]
  },
  {
   "cell_type": "markdown",
   "metadata": {},
   "source": [
    "This tutorial shows the use of privugger on a program using the differential privacy libray [OpenDP](https://github.com/opendp).\n",
    "\n",
    "## OpenDP program\n",
    "\n",
    "We consider a program that takes as input a dataset with attributes: age, sex, education, race, income and marriage status. The program outputs the mean of the incomes and adds Laplacian noise to protect the individuals privacy.\n",
    "\n",
    "For each attribute, the program takes a parameter of type array (int or float) with the attribute value for each individual in the dataset. For example, to model a dataset of size 2 where the first individual is 20 and the second is 40, we set the `age` input parameter as `age=[20,40]`. The remaining parameters are defined in the same way. The last parameter `N` indicates the number of records in the dataset.\n",
    "\n",
    "This way of defining the input may seem unnatural, but, as we will see below, it allows for a structured manner to specify the prior of the program.\n",
    "\n",
    "Below we show two programs that compute the differentially private mean income. The programs are equivalent, but they illustrate different ways of using opendp:\n",
    "\n",
    "* `dp_program` - It uses directly the input array `income`. In this program, we only need to use `opendp` to clamp and set the size of the data.\n",
    "\n",
    "* `dp_program_csv` - The program illustrates the use of privugger for programs working on a `pandas` dataframe. First, it uses the input parameters to build a pandas dataframe (lines before `## Aftr here the...`). Then the program works directly on the dataframe. This program uses three extra `opendp` functions to parse the dataset.\n",
    "\n",
    "  Note that `dp_program_csv` illustrates the use of `privugger` for any program working on a dataset. The part of the code after the comment `## After here the...` can contain arbitrary code working on a pandas dataframe.\n",
    "\n",
    "Note that both programs include the opendp imports inside the function definition. This is required for any program using external libraries."
   ]
  },
  {
   "cell_type": "code",
   "execution_count": 2,
   "metadata": {},
   "outputs": [],
   "source": [
    "# TODO: rewrite the explanation above (if this programs work)\n",
    "def dp_program(age, sex, educ, race, income, married):\n",
    "    from opendp.trans import make_sized_bounded_mean, make_clamp, make_bounded_resize\n",
    "    from opendp.meas import make_base_laplace\n",
    "    from opendp.mod import enable_features\n",
    "    enable_features(\"floating-point\", \"contrib\")\n",
    "\n",
    "    Δ = 10000./income.size\n",
    "    ϵ = .1\n",
    "    \n",
    "    query = make_clamp((0., 10000.)) >> \\\n",
    "            make_bounded_resize(size=100, bounds=(0.,10000.), constant=0.0) >> \\\n",
    "            make_sized_bounded_mean(size=100, bounds=(0.,10000.)) >> \\\n",
    "            make_base_laplace(scale=Δ/ϵ)\n",
    "\n",
    "    return np.float64(query(income))\n",
    "\n",
    "def dp_program_csv(age, sex, educ, race, income, married):\n",
    "    from opendp.trans import make_sized_bounded_mean, make_bounded_resize, \\\n",
    "                            make_clamp, make_split_dataframe, \\\n",
    "                            make_select_column, make_cast_default\n",
    "    from opendp.meas import make_base_laplace\n",
    "    from opendp.mod import enable_features\n",
    "    enable_features(\"floating-point\", \"contrib\")\n",
    "    import pandas as pd\n",
    "\n",
    "    # building .csv file with data in parameters\n",
    "    # each sample generates a dataset\n",
    "    temp_file='temp.csv'\n",
    "    var_names = [\"age\", \"sex\", \"educ\", \"race\", \"income\", \"married\"]\n",
    "    data = {\n",
    "        \"age\":     age,\n",
    "        \"sex\":     sex,\n",
    "        \"educ\":    educ,\n",
    "        \"race\":    race,\n",
    "        \"income\":  income,\n",
    "        \"married\": married\n",
    "    }\n",
    "    df = pd.DataFrame(data,columns=var_names)\n",
    "    df.to_csv(temp_file,header=None,index=False)\n",
    "    \n",
    "    # After here the program works on a pandas dataframe\n",
    "    \n",
    "    \n",
    "    ## preparing string for opendp parsing\n",
    "    with open(temp_file) as input_file:\n",
    "        data = input_file.read()\n",
    "\n",
    "    Δ = 10000./income.size\n",
    "    ϵ = .1\n",
    "        \n",
    "    ## opendp parsing/casting/query\n",
    "    query = make_split_dataframe(separator=\",\", col_names=var_names) >> \\\n",
    "            make_select_column(key=\"income\", TOA=str) >> \\\n",
    "            make_cast_default(TIA=str, TOA=float) >> \\\n",
    "            make_clamp((0., 10000.)) >> \\\n",
    "            make_bounded_resize(size=income.size, bounds=(0.,10000.), constant=0.0) >> \\\n",
    "            make_sized_bounded_mean(size=income.size, bounds=(0.,10000.)) >> \\\n",
    "            make_base_laplace(scale=Δ/ϵ)\n",
    "    \n",
    "    return np.float64(query(data))"
   ]
  },
  {
   "cell_type": "markdown",
   "metadata": {},
   "source": [
    "## Input specification\n",
    "\n",
    "The next step is to specify the prior knowledge of the attacker using probability distributions (i.e., they are defined as _random variables_). In this example, we show specify each of the attributes that conform the dataset.\n",
    "\n",
    "The variable `N` defines the size of the dataset. In this example, we consider a dataset of size 150.\n",
    "\n",
    "For non-numeric attributes such as `sex`, `educ` or `race` we use distribution over natural numbers with each number denoting a category. We treat them as nominal values (i.e., we assume there is not order relation, $\\leq$ among them). For these attributes (and `married`) we specify a uniform distribution over all possible categories.\n",
    "\n",
    "For `age`, we set a binomial distribution prior with support 0 to 120; this distribution gives highest probability to ages close to 60 years old. We remark here that this prior may be refined by using statistical data about age data.\n",
    "\n",
    "Finally, `income` is distributed according to a Normal distribution with mean 100 and standard deviation 5. This gives high probability to values close to 100 (i.e., 100k DKK)."
   ]
  },
  {
   "cell_type": "code",
   "execution_count": 3,
   "metadata": {},
   "outputs": [],
   "source": [
    "N         = 150\n",
    "age       = pv.Binomial('age', p=0.5, n=120, num_elements=N)\n",
    "sex       = pv.DiscreteUniform('sex', 0,2,num_elements=N)\n",
    "educ      = pv.DiscreteUniform('educ', 0,10, num_elements=N)\n",
    "race      = pv.DiscreteUniform('race', 0,50, num_elements=N)\n",
    "income    = pv.Normal('income', mu=100, std=5, num_elements=N)\n",
    "married   = pv.DiscreteUniform('married', 0,1,num_elements=N)"
   ]
  },
  {
   "cell_type": "markdown",
   "metadata": {},
   "source": [
    "## Dataset & Program specification  \n",
    "\n",
    "The input specification above is always wrapped into a `Dataset` object. This object is used as the input for the program."
   ]
  },
  {
   "cell_type": "code",
   "execution_count": 4,
   "metadata": {},
   "outputs": [],
   "source": [
    "ds = pv.Dataset(input_specs = [age, sex, educ, race, income, married])"
   ]
  },
  {
   "cell_type": "markdown",
   "metadata": {},
   "source": [
    "## Program specification\n",
    "\n",
    "The program specification takes the `Dataset` above and the program to analyze. To this end, we define a `Program` object including the `Dataset`, a python function corresponding to the program to analyze (the input parameters of the function must match those of the `Dataset`). Finally, it is necessary to specify the type of the output of the program. In this case, since we are analyzing a program compute the mean income, it is a float. The first parameter of the `Program` constructor is the name of the output distribution (i.e., the distribution of the output of the program under analysis).\n",
    "\n",
    "We run the analysis for `dp_program_csv`. But feel free to re-run the analysis with `dp_program`, the results should not vary."
   ]
  },
  {
   "cell_type": "code",
   "execution_count": 5,
   "metadata": {},
   "outputs": [],
   "source": [
    "program = pv.Program('output',dataset=ds, output_type=pv.Float, function=dp_program_csv)"
   ]
  },
  {
   "cell_type": "markdown",
   "metadata": {},
   "source": [
    "## Inference\n",
    "\n",
    "Lastly we use the privug interface to perform the inference. This is done by calling `infer` and specifying the `program`, number of cores, number of chains, number of draws, and the backend (which is pymc3 in this example)."
   ]
  },
  {
   "cell_type": "code",
   "execution_count": 6,
   "metadata": {},
   "outputs": [
    {
     "name": "stderr",
     "output_type": "stream",
     "text": [
      "Multiprocess sampling (2 chains in 4 jobs)\n",
      "CompoundStep\n",
      ">CompoundStep\n",
      ">>Metropolis: [age]\n",
      ">>Metropolis: [sex]\n",
      ">>Metropolis: [educ]\n",
      ">>Metropolis: [race]\n",
      ">>Metropolis: [married]\n",
      ">NUTS: [income]\n"
     ]
    },
    {
     "data": {
      "text/html": [
       "\n",
       "<style>\n",
       "    /* Turns off some styling */\n",
       "    progress {\n",
       "        /* gets rid of default border in Firefox and Opera. */\n",
       "        border: none;\n",
       "        /* Needs to be in here for Safari polyfill so background images work as expected. */\n",
       "        background-size: auto;\n",
       "    }\n",
       "    progress:not([value]), progress:not([value])::-webkit-progress-bar {\n",
       "        background: repeating-linear-gradient(45deg, #7e7e7e, #7e7e7e 10px, #5c5c5c 10px, #5c5c5c 20px);\n",
       "    }\n",
       "    .progress-bar-interrupted, .progress-bar-interrupted::-webkit-progress-bar {\n",
       "        background: #F44336;\n",
       "    }\n",
       "</style>\n"
      ],
      "text/plain": [
       "<IPython.core.display.HTML object>"
      ]
     },
     "metadata": {},
     "output_type": "display_data"
    },
    {
     "data": {
      "text/html": [
       "\n",
       "    <div>\n",
       "      <progress value='6000' class='' max='6000' style='width:300px; height:20px; vertical-align: middle;'></progress>\n",
       "      100.00% [6000/6000 02:17&lt;00:00 Sampling 2 chains, 0 divergences]\n",
       "    </div>\n",
       "    "
      ],
      "text/plain": [
       "<IPython.core.display.HTML object>"
      ]
     },
     "metadata": {},
     "output_type": "display_data"
    },
    {
     "name": "stderr",
     "output_type": "stream",
     "text": [
      "Sampling 2 chains for 1_000 tune and 2_000 draw iterations (2_000 + 4_000 draws total) took 139 seconds.\n"
     ]
    }
   ],
   "source": [
    "trace = pv.infer(program, cores=4, chains=2, draws=2000, method='pymc3')"
   ]
  },
  {
   "cell_type": "markdown",
   "metadata": {},
   "source": [
    "## Privacy Risk Analysis\n",
    "\n",
    "### Mutual Information\n",
    "\n",
    "To quantify privacy risks, in this tutorial we are using mutual information (though we remark here that privugger can be used to compute many more leakage measures).\n",
    "\n",
    "We study the risks for the individual in the first record. We compute the mutual information between the output of the program (mean income + laplace noise) and each of the other attributes in the dataset.\n",
    "\n",
    "Since the mutual informaiton estimator we use is not exact, we compute 100 estimates and use box plots to get an impresison of the accuracy of the estimates."
   ]
  },
  {
   "cell_type": "code",
   "execution_count": 7,
   "metadata": {},
   "outputs": [
    {
     "data": {
      "image/png": "[encoded data removed]",
      "text/plain": [
       "<Figure size 640x480 with 1 Axes>"
      ]
     },
     "metadata": {},
     "output_type": "display_data"
    }
   ],
   "source": [
    "attrs=['age','sex','race','educ','married']\n",
    "\n",
    "y=[[pv.mi_sklearn(trace, var_names=[attr,'income'],n_neigh=40,input_inferencedata=True)[0]\n",
    "    for attr in attrs] for i in range(0,10)]\n",
    "\n",
    "plt.boxplot(np.array(y),attrs,showmeans=False, showfliers=False, patch_artist=True,vert=True)\n",
    "plt.xticks(range(1,len(attrs)+1), attrs)\n",
    "plt.xlabel('$attr$')\n",
    "plt.ylabel('$I(attr;income)$')\n",
    "plt.title(\"Mutual information between income, and other attributes\")\n",
    "plt.show()"
   ]
  },
  {
   "cell_type": "markdown",
   "metadata": {},
   "source": [
    "In the figure above, we observe that the mutual information between the output and any of the attributes is very low $I(\\mathit{attr};\\mathit{output})\\leq 0.0002$ for all attributes ($\\mathit{attr}$)."
   ]
  }
 ],
 "metadata": {
  "kernelspec": {
   "display_name": "Python 3 (ipykernel)",
   "language": "python",
   "name": "python3"
  },
  "language_info": {
   "codemirror_mode": {
    "name": "ipython",
    "version": 3
   },
   "file_extension": ".py",
   "mimetype": "text/x-python",
   "name": "python",
   "nbconvert_exporter": "python",
   "pygments_lexer": "ipython3",
   "version": "3.9.12"
  },
  "vscode": {
   "interpreter": {
    "hash": "ead01f34da02679ce3852bdbdb51f16b97d4b75626f761dacfb86d0793faee05"
   }
  }
 },
 "nbformat": 4,
 "nbformat_minor": 4
}
