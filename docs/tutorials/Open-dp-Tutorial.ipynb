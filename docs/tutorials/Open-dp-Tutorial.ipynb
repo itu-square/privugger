{
 "cells": [
  {
   "cell_type": "code",
   "execution_count": 2,
   "metadata": {},
   "outputs": [
    {
     "name": "stderr",
     "output_type": "stream",
     "text": [
      "WARNING (theano.configdefaults): g++ not available, if using conda: `conda install m2w64-toolchain`\n",
      "WARNING (theano.configdefaults): g++ not detected ! Theano will be unable to execute optimized C-implementations (for both CPU and GPU) and will default to Python implementations. Performance will be severely degraded. To remove this warning, set Theano flags cxx to an empty string.\n",
      "WARNING (theano.tensor.blas): Using NumPy C-API based implementation for BLAS functions.\n"
     ]
    }
   ],
   "source": [
    "import os, sys\n",
    "sys.path.append(os.path.join(\"../..\"))\n",
    "\n",
    "\n",
    "import matplotlib.pyplot as plt\n",
    "import arviz as az\n",
    "import numpy as np\n",
    "import privugger as pv\n"
   ]
  },
  {
   "cell_type": "markdown",
   "metadata": {},
   "source": [
    "# Example of using Privugger on OpenDP "
   ]
  },
  {
   "cell_type": "markdown",
   "metadata": {},
   "source": [
    "In this first example we use the differential privacy libray *open dp* on a program with information about *age, sex, education, race, income and marriage status*. The program computes the mean of the ages and add Laplacian noise to it. \n",
    "\n",
    "(explain sensativity)\n",
    "\n",
    "Below we show the program with it's imports embedded in the function body. "
   ]
  },
  {
   "cell_type": "code",
   "execution_count": 3,
   "metadata": {},
   "outputs": [],
   "source": [
    "def dp_program(age,sex,educ,race,income,married,N):\n",
    "    import opendp.smartnoise.core as sn\n",
    "    import pandas as pd\n",
    "\n",
    "\n",
    "    \n",
    "    ## Dataframe definition (can be automatized)\n",
    "    temp_file='temp.csv'\n",
    "    var_names = [\"age\", \"sex\", \"educ\", \"race\", \"income\", \"married\"]\n",
    "    data = {\n",
    "        \"age\":     age,\n",
    "        \"sex\":     sex,\n",
    "        \"educ\":    educ,\n",
    "        \"race\":    race,\n",
    "        \"income\":  income,\n",
    "        \"married\": married\n",
    "    }\n",
    "    df = pd.DataFrame(data,columns=var_names)\n",
    "    \n",
    "    ## After here the program works on a pandas dataframe\n",
    "    df.to_csv(temp_file)\n",
    "    with sn.Analysis() as analysis:\n",
    "        # load data\n",
    "        data = sn.Dataset(path=temp_file,column_names=var_names)\n",
    "\n",
    "        # get mean of age\n",
    "        age_mean = sn.dp_mean(data = sn.to_float(data['income']),\n",
    "                              privacy_usage = {'epsilon': .1},\n",
    "                              data_lower = 0., # min income\n",
    "                              data_upper = 200., # max income                   \n",
    "                              data_rows = N\n",
    "                             )\n",
    "    analysis.release()\n",
    "    return np.float64(age_mean.value)   "
   ]
  },
  {
   "cell_type": "markdown",
   "metadata": {},
   "source": [
    "We model an attackers knowledge about the information as probability distributions using the Privugger interface. Privug allows for both discrete and continuous distributions. "
   ]
  },
  {
   "cell_type": "code",
   "execution_count": 4,
   "metadata": {},
   "outputs": [],
   "source": [
    "N         = 150\n",
    "N_rv      = pv.Constant('N', N)\n",
    "age       = pv.DiscreteUniform('age', 0,150,num_elements=N)\n",
    "sex       = pv.DiscreteUniform('sex', 0,2,num_elements=N)\n",
    "educ      = pv.DiscreteUniform('educ', 0,10,num_elements=N)\n",
    "race      = pv.DiscreteUniform('race', 0,50,num_elements=N)\n",
    "income    = pv.Normal('income', mu=educ,std=5,num_elements=N)\n",
    "married   = pv.DiscreteUniform('married', 0,1,num_elements=N)"
   ]
  },
  {
   "cell_type": "markdown",
   "metadata": {},
   "source": [
    "Next we create the two constructs:\n",
    "    - dataset\n",
    "    - program  \n",
    "The dataset collects the attackers *prior* knowledge about the input to the program. The program is a set of a *dataset, output type and a program*. The output type specifies the output type of the program, in this case it is a floating point number as the program calulates the mean. The function is the program specified above. Lastly we use the privug interface to make inference. This is done by calling *infer* and specifying the *program, number of cores, number of chains, number of draws, and the backend which is pymc3 in this example* "
   ]
  },
  {
   "cell_type": "code",
   "execution_count": 4,
   "metadata": {},
   "outputs": [
    {
     "name": "stderr",
     "output_type": "stream",
     "text": [
      "Multiprocess sampling (2 chains in 4 jobs)\n",
      "CompoundStep\n",
      ">CompoundStep\n",
      ">>Metropolis: [N]\n",
      ">>Metropolis: [married]\n",
      ">>Metropolis: [race]\n",
      ">>Metropolis: [educ]\n",
      ">>Metropolis: [sex]\n",
      ">>Metropolis: [age]\n",
      ">NUTS: [income]\n"
     ]
    },
    {
     "data": {
      "text/html": [
       "\n",
       "    <div>\n",
       "        <style>\n",
       "            /* Turns off some styling */\n",
       "            progress {\n",
       "                /* gets rid of default border in Firefox and Opera. */\n",
       "                border: none;\n",
       "                /* Needs to be in here for Safari polyfill so background images work as expected. */\n",
       "                background-size: auto;\n",
       "            }\n",
       "            .progress-bar-interrupted, .progress-bar-interrupted::-webkit-progress-bar {\n",
       "                background: #F44336;\n",
       "            }\n",
       "        </style>\n",
       "      <progress value='42000' class='' max='42000' style='width:300px; height:20px; vertical-align: middle;'></progress>\n",
       "      100.00% [42000/42000 02:51<00:00 Sampling 2 chains, 0 divergences]\n",
       "    </div>\n",
       "    "
      ],
      "text/plain": [
       "<IPython.core.display.HTML object>"
      ]
     },
     "metadata": {},
     "output_type": "display_data"
    },
    {
     "name": "stderr",
     "output_type": "stream",
     "text": [
      "Sampling 2 chains for 1_000 tune and 20_000 draw iterations (2_000 + 40_000 draws total) took 172 seconds.\n",
      "/home/rasmuscarl/.local/lib/python3.8/site-packages/xarray/core/nputils.py:215: RuntimeWarning: All-NaN slice encountered\n",
      "  result = getattr(npmodule, name)(values, axis=axis, **kwargs)\n",
      "The rhat statistic is larger than 1.4 for some parameters. The sampler did not converge.\n",
      "The estimated number of effective samples is smaller than 200 for some parameters.\n"
     ]
    }
   ],
   "source": [
    "ds        = pv.Dataset(input_specs = [age, sex, educ, race, income, married, N_rv])\n",
    "program   = pv.Program(dataset=ds, output_type=pv.Float, function=dp_program)\n",
    "trace     = pv.infer(program, cores=4, chains=2, draws=20000, method='pymc3')"
   ]
  },
  {
   "cell_type": "markdown",
   "metadata": {},
   "source": [
    "Lastly we can use Privugger to calculate different leakage measures. We do it by using the trace that was produced by the calling infer. In this case we calculate *mutual information*. Note that the output of the program can be accessed in the trace by refering to 'output'. "
   ]
  },
  {
   "cell_type": "code",
   "execution_count": 12,
   "metadata": {},
   "outputs": [
    {
     "data": {
      "image/png": "[encoded data removed]",
      "text/plain": [
       "<Figure size 432x288 with 1 Axes>"
      ]
     },
     "metadata": {
      "needs_background": "light"
     },
     "output_type": "display_data"
    }
   ],
   "source": [
    "\n",
    "#NOTE that we should not use this but our own binding in the future\n",
    "from sklearn.feature_selection import mutual_info_regression\n",
    "\n",
    "\n",
    "trace_length=15000\n",
    "attrs=['age','sex','race','educ','married']\n",
    "\n",
    "y=[mutual_info_regression(np.concatenate(trace.posterior[attr],axis=0)[:trace_length,0].reshape(-1,1),\n",
    "                          np.concatenate(trace.posterior['income'],axis=0)[:trace_length,0])[0] \n",
    "   for attr in ['age','sex','race','educ','married'] ]\n",
    "# additionally we show the mutual information between the income of the first individual in the dataset and the different attributes\n",
    "y1=[mutual_info_regression(np.concatenate(trace.posterior[attr],axis=0)[:trace_length,0].reshape(-1,1),\n",
    "                          np.concatenate(trace.posterior['output'],axis=0)[:trace_length])[0]\n",
    "   for attr in ['age','sex','race','educ','married'] ]\n",
    "\n",
    "\n",
    "plt.bar(attrs,y, alpha=0.5,label=\"$I(attr;income)$\")\n",
    "plt.bar(attrs,y1,alpha=0.5,label=\"$I(attr;output)$\")\n",
    "plt.xlabel('attr')\n",
    "plt.ylabel('$I(income;attr)$')\n",
    "plt.title(\"Mutual information between income, and other attributes\")\n",
    "plt.legend(loc=\"best\")\n",
    "plt.show()"
   ]
  }
 ],
 "metadata": {
  "kernelspec": {
   "display_name": "Python 3",
   "language": "python",
   "name": "python3"
  },
  "language_info": {
   "codemirror_mode": {
    "name": "ipython",
    "version": 3
   },
   "file_extension": ".py",
   "mimetype": "text/x-python",
   "name": "python",
   "nbconvert_exporter": "python",
   "pygments_lexer": "ipython3",
   "version": "3.8.10"
  }
 },
 "nbformat": 4,
 "nbformat_minor": 4
}
