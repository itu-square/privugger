{
 "cells": [
  {
   "cell_type": "code",
   "execution_count": 1,
   "metadata": {},
   "outputs": [],
   "source": [
    "import numpy as np\n",
    "import pymc as pm\n",
    "import os, sys\n",
    "import random as rd\n",
    "\n",
    "sys.path.append(os.path.join(\"../../\"))\n",
    "import privugger as pv"
   ]
  },
  {
   "cell_type": "code",
   "execution_count": 2,
   "metadata": {},
   "outputs": [],
   "source": [
    "def programme(SECRET):\n",
    "    X = SECRET\n",
    "    Y = np.random.randint(100)\n",
    "    x = X + Y\n",
    "    return x"
   ]
  },
  {
   "cell_type": "code",
   "execution_count": 3,
   "metadata": {},
   "outputs": [],
   "source": [
    "SECRET = pv.Constant('SECRET', np.int64(42))"
   ]
  },
  {
   "cell_type": "code",
   "execution_count": 4,
   "metadata": {},
   "outputs": [],
   "source": [
    "ds = pv.Dataset(input_specs = [SECRET])"
   ]
  },
  {
   "cell_type": "code",
   "execution_count": 5,
   "metadata": {},
   "outputs": [],
   "source": [
    "program   = pv.Program('randint_program', dataset=ds, output_type=pv.Int, function=programme)"
   ]
  },
  {
   "cell_type": "code",
   "execution_count": 6,
   "metadata": {},
   "outputs": [
    {
     "name": "stderr",
     "output_type": "stream",
     "text": [
      "Multiprocess sampling (2 chains in 4 jobs)\n",
      "CompoundStep\n",
      ">Metropolis: [SECRET]\n",
      ">Metropolis: [var20]\n"
     ]
    },
    {
     "data": {
      "text/html": [
       "\n",
       "<style>\n",
       "    /* Turns off some styling */\n",
       "    progress {\n",
       "        /* gets rid of default border in Firefox and Opera. */\n",
       "        border: none;\n",
       "        /* Needs to be in here for Safari polyfill so background images work as expected. */\n",
       "        background-size: auto;\n",
       "    }\n",
       "    progress:not([value]), progress:not([value])::-webkit-progress-bar {\n",
       "        background: repeating-linear-gradient(45deg, #7e7e7e, #7e7e7e 10px, #5c5c5c 10px, #5c5c5c 20px);\n",
       "    }\n",
       "    .progress-bar-interrupted, .progress-bar-interrupted::-webkit-progress-bar {\n",
       "        background: #F44336;\n",
       "    }\n",
       "</style>\n"
      ],
      "text/plain": [
       "<IPython.core.display.HTML object>"
      ]
     },
     "metadata": {},
     "output_type": "display_data"
    },
    {
     "data": {
      "text/html": [
       "\n",
       "    <div>\n",
       "      <progress value='22000' class='' max='22000' style='width:300px; height:20px; vertical-align: middle;'></progress>\n",
       "      100.00% [22000/22000 00:01&lt;00:00 Sampling 2 chains, 0 divergences]\n",
       "    </div>\n",
       "    "
      ],
      "text/plain": [
       "<IPython.core.display.HTML object>"
      ]
     },
     "metadata": {},
     "output_type": "display_data"
    },
    {
     "name": "stderr",
     "output_type": "stream",
     "text": [
      "Sampling 2 chains for 1_000 tune and 10_000 draw iterations (2_000 + 20_000 draws total) took 5 seconds.\n"
     ]
    }
   ],
   "source": [
    "trace = pv.infer(program, cores=4, draws=10000, method='pymc_whitebox', return_model=False, observation=True)"
   ]
  },
  {
   "cell_type": "code",
   "execution_count": 7,
   "metadata": {},
   "outputs": [
    {
     "name": "stdout",
     "output_type": "stream",
     "text": [
      "<xarray.Dataset>\n",
      "Dimensions:          (chain: 2, draw: 10000)\n",
      "Coordinates:\n",
      "  * chain            (chain) int64 0 1\n",
      "  * draw             (draw) int64 0 1 2 3 4 5 ... 9994 9995 9996 9997 9998 9999\n",
      "Data variables:\n",
      "    SECRET           (chain, draw) int64 42 42 42 42 42 42 ... 42 42 42 42 42 42\n",
      "    var20            (chain, draw) int64 100 100 100 100 100 ... 100 100 100 100\n",
      "    lign1            (chain, draw) int64 42 42 42 42 42 42 ... 42 42 42 42 42 42\n",
      "    lign2            (chain, draw) int64 58 73 94 7 83 90 ... 5 45 89 25 70 70\n",
      "    lign3            (chain, draw) int64 100 115 136 49 125 ... 131 67 112 112\n",
      "    randint_program  (chain, draw) int64 100 115 136 49 125 ... 131 67 112 112\n",
      "Attributes:\n",
      "    created_at:                 2022-08-26T13:47:31.467161\n",
      "    arviz_version:              0.12.1\n",
      "    inference_library:          pymc\n",
      "    inference_library_version:  4.1.5\n",
      "    sampling_time:              5.286848068237305\n",
      "    tuning_steps:               1000\n"
     ]
    }
   ],
   "source": [
    "print(trace.posterior)"
   ]
  }
 ],
 "metadata": {
  "kernelspec": {
   "display_name": "Python 3.10.5 ('privugger_environment')",
   "language": "python",
   "name": "python3"
  },
  "language_info": {
   "codemirror_mode": {
    "name": "ipython",
    "version": 3
   },
   "file_extension": ".py",
   "mimetype": "text/x-python",
   "name": "python",
   "nbconvert_exporter": "python",
   "pygments_lexer": "ipython3",
   "version": "3.10.6"
  },
  "orig_nbformat": 4,
  "vscode": {
   "interpreter": {
    "hash": "ead01f34da02679ce3852bdbdb51f16b97d4b75626f761dacfb86d0793faee05"
   }
  }
 },
 "nbformat": 4,
 "nbformat_minor": 2
}
