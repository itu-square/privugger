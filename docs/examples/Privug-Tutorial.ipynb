{
 "cells": [
  {
   "cell_type": "code",
   "execution_count": null,
   "metadata": {},
   "outputs": [],
   "source": [
    "import os, sys\n",
    "\n",
    "sys.path.append(os.path.join(\"../..\"))\n",
    "\n",
    "import matplotlib.pyplot as plt\n",
    "import arviz as az\n",
    "import numpy as np\n",
    "\n",
    "import privugger as pv\n"
   ]
  },
  {
   "cell_type": "markdown",
   "metadata": {},
   "source": [
    "# Examples of privacy risk analysis using Privugger"
   ]
  },
  {
   "cell_type": "markdown",
   "metadata": {},
   "source": [
    "## Differential privacy"
   ]
  },
  {
   "cell_type": "markdown",
   "metadata": {},
   "source": [
    "In this first example we use the differential privacy libray *open dp* on a program with information about *age, sex, education, race, income and marriage status*. The program computes the mean of the ages and add Laplacian noise to it. Below we show the program with it's imports embedded in the function body. "
   ]
  },
  {
   "cell_type": "code",
   "execution_count": null,
   "metadata": {},
   "outputs": [],
   "source": [
    "def dp_program(age,sex,educ,race,income,married,N):\n",
    "    import opendp.smartnoise.core as sn\n",
    "    import pandas as pd\n",
    "\n",
    "\n",
    "    \n",
    "    ## Dataframe definition (can be automatized)\n",
    "    temp_file='temp.csv'\n",
    "    var_names = [\"age\", \"sex\", \"educ\", \"race\", \"income\", \"married\"]\n",
    "    data = {\n",
    "        \"age\":     age,\n",
    "        \"sex\":     sex,\n",
    "        \"educ\":    educ,\n",
    "        \"race\":    race,\n",
    "        \"income\":  income,\n",
    "        \"married\": married\n",
    "    }\n",
    "    df = pd.DataFrame(data,columns=var_names)\n",
    "    \n",
    "    ## After here the program works on a pandas dataframe\n",
    "    df.to_csv(temp_file)\n",
    "    with sn.Analysis() as analysis:\n",
    "        # load data\n",
    "        data = sn.Dataset(path=temp_file,column_names=var_names)\n",
    "\n",
    "        # get mean of age\n",
    "        age_mean = sn.dp_mean(data = sn.to_float(data['income']),\n",
    "                              privacy_usage = {'epsilon': .1},\n",
    "                              data_lower = 0., # min income\n",
    "                              data_upper = 200., # max income                   \n",
    "                              data_rows = N\n",
    "                             )\n",
    "    analysis.release()\n",
    "    return np.float64(age_mean.value)   "
   ]
  },
  {
   "cell_type": "markdown",
   "metadata": {},
   "source": [
    "We model an attackers knowledge about the information as probability distributions using the Privugger interface. Privug allows for both discrete and continuous distributions. "
   ]
  },
  {
   "cell_type": "code",
   "execution_count": null,
   "metadata": {},
   "outputs": [],
   "source": [
    "N         = 150\n",
    "N_rv      = pv.Constant('N', N)\n",
    "age       = pv.DiscreteUniform('age', 0,150,num_elements=N)\n",
    "sex       = pv.DiscreteUniform('sex', 0,2,num_elements=N)\n",
    "educ      = pv.DiscreteUniform('educ', 0,10,num_elements=N)\n",
    "race      = pv.DiscreteUniform('race', 0,50,num_elements=N)\n",
    "income    = pv.Normal('income', mu=100,std=5,num_elements=N)\n",
    "married   = pv.DiscreteUniform('married', 0,1,num_elements=N)"
   ]
  },
  {
   "cell_type": "markdown",
   "metadata": {},
   "source": [
    "Next we create the two constructs:\n",
    "    - dataset\n",
    "    - program  \n",
    "The dataset collects the attackers *prior* knowledge about the input to the program. The program is a set of a *dataset, output type and a program*. The output type specifies the output type of the program, in this case it is a floating point number as the program calulates the mean. The function is the program specified above. Lastly we use the privug interface to make inference. This is done by calling *infer* and specifying the *program, number of cores, number of chains, number of draws, and the backend which is pymc3 in this example* "
   ]
  },
  {
   "cell_type": "code",
   "execution_count": null,
   "metadata": {},
   "outputs": [],
   "source": [
    "ds        = pv.Dataset(input_specs = [age, sex, educ, race, income, married, N_rv])\n",
    "program   = pv.Program(dataset=ds, output_type=pv.Float, function=dp_program)\n",
    "trace     = pv.infer(program, cores=4, chains=2 draws=20000, method='pymc3')"
   ]
  },
  {
   "cell_type": "markdown",
   "metadata": {},
   "source": [
    "Lastly we can use Privugger to calculate different leakage measures. We do it by using the trace that was produced by the calling infer. In this case we calculate *mutual information*. Note that the output of the program can be accessed in the trace by refering to 'output'. "
   ]
  },
  {
   "cell_type": "code",
   "execution_count": null,
   "metadata": {},
   "outputs": [],
   "source": [
    "trace_length=15000\n",
    "attrs=['age','sex','race','educ','married']\n",
    "y=[pv.mi_sklearn(np.concatenate(trace.posterior[attr],axis=0)[:trace_length,0].reshape(-1,1),\n",
    "                          np.concatenate(trace.posterior['income'],axis=0)[:trace_length,0])[0] \n",
    "   for attr in ['age','sex','race','educ','married'] ]\n",
    "# additionally we show the mutual information between the income of the first individual in the dataset and the different attributes\n",
    "y1=[pv.mi_sklearn(np.concatenate(trace.posterior[attr],axis=0)[:trace_length,0].reshape(-1,1),\n",
    "                          np.concatenate(trace.posterior['output'],axis=0)[:trace_length])[0]\n",
    "   for attr in ['age','sex','race','educ','married'] ]\n",
    "plt.bar(attrs,y, alpha=0.5,label=\"$I(attr;income)$\")\n",
    "plt.bar(attrs,y1,alpha=0.5,label=\"$I(attr;output)$\")\n",
    "plt.xlabel('attr')\n",
    "plt.ylabel('$I(income;attr)$')\n",
    "plt.title(\"Mutual information between income, and other attributes\")\n",
    "plt.legend(loc=\"best\")\n",
    "plt.show()"
   ]
  }
 ],
 "metadata": {
  "kernelspec": {
   "display_name": "Python 3",
   "language": "python",
   "name": "python3"
  },
  "language_info": {
   "codemirror_mode": {
    "name": "ipython",
    "version": 3
   },
   "file_extension": ".py",
   "mimetype": "text/x-python",
   "name": "python",
   "nbconvert_exporter": "python",
   "pygments_lexer": "ipython3",
   "version": "3.8.10"
  }
 },
 "nbformat": 4,
 "nbformat_minor": 4
}
