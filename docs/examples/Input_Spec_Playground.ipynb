{
 "cells": [
  {
   "cell_type": "code",
   "execution_count": 6,
   "metadata": {},
   "outputs": [
    {
     "name": "stderr",
     "output_type": "stream",
     "text": [
      "WARNING (theano.tensor.blas): Using NumPy C-API based implementation for BLAS functions.\n"
     ]
    }
   ],
   "source": [
    "import os, sys\n",
    "sys.path.append(os.path.join(\"../..\"))\n",
    "\n",
    "import privugger.transformer.datastructures as pvds\n",
    "from privugger.transformer.discrete import *\n",
    "from privugger.transformer.continuous import *\n",
    "\n",
    "from privugger.transformer.method import *\n",
    "\n",
    "import arviz as az\n",
    "\n",
    "\n",
    "import pymc3 as pm"
   ]
  },
  {
   "cell_type": "code",
   "execution_count": 2,
   "metadata": {},
   "outputs": [],
   "source": [
    "#####################\n",
    "# PATH TO PROGRAM ##\n",
    "###################\n",
    "program = \"program_to_analyze.py\""
   ]
  },
  {
   "cell_type": "code",
   "execution_count": 5,
   "metadata": {},
   "outputs": [
    {
     "name": "stdout",
     "output_type": "stream",
     "text": [
      "import theano\n",
      "import theano.tensor as tt\n",
      "import numpy as np\n",
      "\n",
      "\n",
      "def method(db):\n",
      "\n",
      "    @theano.compile.ops.as_op(itypes=[tt.dvector], otypes=[tt.dscalar])\n",
      "    def alpha(db):\n",
      "        return np.array(sum(db) / len(db))\n",
      "    return alpha(db)\n",
      "\n",
      "[age, alice_age, name]\n"
     ]
    },
    {
     "name": "stderr",
     "output_type": "stream",
     "text": [
      "Multiprocess sampling (4 chains in 4 jobs)\n",
      "CompoundStep\n",
      ">NUTS: [alice_age, age]\n",
      ">Metropolis: [name]\n"
     ]
    },
    {
     "data": {
      "text/html": [
       "\n",
       "    <div>\n",
       "        <style>\n",
       "            /* Turns off some styling */\n",
       "            progress {\n",
       "                /* gets rid of default border in Firefox and Opera. */\n",
       "                border: none;\n",
       "                /* Needs to be in here for Safari polyfill so background images work as expected. */\n",
       "                background-size: auto;\n",
       "            }\n",
       "            .progress-bar-interrupted, .progress-bar-interrupted::-webkit-progress-bar {\n",
       "                background: #F44336;\n",
       "            }\n",
       "        </style>\n",
       "      <progress value='8000' class='' max='8000' style='width:300px; height:20px; vertical-align: middle;'></progress>\n",
       "      100.00% [8000/8000 00:02<00:00 Sampling 4 chains, 0 divergences]\n",
       "    </div>\n",
       "    "
      ],
      "text/plain": [
       "<IPython.core.display.HTML object>"
      ]
     },
     "metadata": {},
     "output_type": "display_data"
    },
    {
     "name": "stderr",
     "output_type": "stream",
     "text": [
      "Sampling 4 chains for 1_000 tune and 1_000 draw iterations (4_000 + 4_000 draws total) took 3 seconds.\n",
      "The rhat statistic is larger than 1.05 for some parameters. This indicates slight problems during sampling.\n",
      "The estimated number of effective samples is smaller than 200 for some parameters.\n"
     ]
    }
   ],
   "source": [
    "\n",
    "##################\n",
    "## AGE EXAMPLE ##\n",
    "#################\n",
    "\n",
    "N    = 10\n",
    "age  = Normal(mu=55.2, std=3.5, num_elements=N)\n",
    "name = DiscreteUniform(0, 5, num_elements=N)\n",
    "    \n",
    "age_alice  = Uniform(lower=0, upper=100, num_elements=1)\n",
    "name_alice = Constant(0)  \n",
    "\n",
    "\n",
    "ds = pvds.Dataset(input_specs = [age, age_alice, name],\n",
    "                  var_names   = [\"age\", \"alice_age\", \"name\"])\n",
    "\n",
    "\n",
    "trace = infer(ds, program, concat=True)"
   ]
  },
  {
   "cell_type": "code",
   "execution_count": 4,
   "metadata": {},
   "outputs": [
    {
     "name": "stdout",
     "output_type": "stream",
     "text": [
      "[names, ages, zips, genders, diagnoses]\n",
      "names\n",
      "ages\n",
      "zips\n",
      "genders\n",
      "diagnoses\n"
     ]
    },
    {
     "name": "stderr",
     "output_type": "stream",
     "text": [
      "Multiprocess sampling (4 chains in 4 jobs)\n",
      "CompoundStep\n",
      ">CompoundStep\n",
      ">>Metropolis: [zips]\n",
      ">>Metropolis: [names]\n",
      ">NUTS: [ages]\n",
      ">BinaryGibbsMetropolis: [genders, diagnoses]\n"
     ]
    },
    {
     "data": {
      "text/html": [
       "\n",
       "    <div>\n",
       "        <style>\n",
       "            /* Turns off some styling */\n",
       "            progress {\n",
       "                /* gets rid of default border in Firefox and Opera. */\n",
       "                border: none;\n",
       "                /* Needs to be in here for Safari polyfill so background images work as expected. */\n",
       "                background-size: auto;\n",
       "            }\n",
       "            .progress-bar-interrupted, .progress-bar-interrupted::-webkit-progress-bar {\n",
       "                background: #F44336;\n",
       "            }\n",
       "        </style>\n",
       "      <progress value='8000' class='' max='8000' style='width:300px; height:20px; vertical-align: middle;'></progress>\n",
       "      100.00% [8000/8000 00:04<00:00 Sampling 4 chains, 0 divergences]\n",
       "    </div>\n",
       "    "
      ],
      "text/plain": [
       "<IPython.core.display.HTML object>"
      ]
     },
     "metadata": {},
     "output_type": "display_data"
    },
    {
     "name": "stderr",
     "output_type": "stream",
     "text": [
      "Sampling 4 chains for 1_000 tune and 1_000 draw iterations (4_000 + 4_000 draws total) took 5 seconds.\n",
      "The rhat statistic is larger than 1.05 for some parameters. This indicates slight problems during sampling.\n",
      "The estimated number of effective samples is smaller than 200 for some parameters.\n"
     ]
    }
   ],
   "source": [
    "\n",
    "N = 10\n",
    "\n",
    "#alice_name      = Constant(0)\n",
    "#alice_age       = Constant(25)\n",
    "#alice_zip       = Constant(50)\n",
    "#alice_gender    = Constant(1) \n",
    "#alice_diagnosis = Constant(1) \n",
    "    \n",
    "    \n",
    "names = DiscreteUniform(0, 5, num_elements=N)\n",
    "ages  = Normal(mu=55.2, std=3.5, num_elements=N)\n",
    "\n",
    "zips = DiscreteUniform(0, 100, num_elements=N)\n",
    "\n",
    "genders = Bernoulli(p=.5, num_elements=N)   \n",
    "diagnoses = Bernoulli(p=.2,num_elements=N)\n",
    "\n",
    "ds = pvds.Dataset(input_specs = [names, ages, zips, genders, diagnoses], \n",
    "                  var_names=[\"names\", \"ages\", \"zips\", \"genders\", \"diagnoses\"])\n",
    "\n",
    "\n",
    "trace = infer(ds, stack=True)"
   ]
  }
 ],
 "metadata": {
  "kernelspec": {
   "display_name": "Python 3",
   "language": "python",
   "name": "python3"
  },
  "language_info": {
   "codemirror_mode": {
    "name": "ipython",
    "version": 3
   },
   "file_extension": ".py",
   "mimetype": "text/x-python",
   "name": "python",
   "nbconvert_exporter": "python",
   "pygments_lexer": "ipython3",
   "version": "3.8.5"
  }
 },
 "nbformat": 4,
 "nbformat_minor": 4
}
