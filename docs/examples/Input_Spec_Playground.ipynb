{
 "cells": [
  {
   "cell_type": "code",
   "execution_count": 1,
   "metadata": {},
   "outputs": [
    {
     "name": "stderr",
     "output_type": "stream",
     "text": [
      "WARNING (theano.tensor.blas): Using NumPy C-API based implementation for BLAS functions.\n"
     ]
    }
   ],
   "source": [
    "import os, sys\n",
    "sys.path.append(os.path.join(\"../..\"))\n",
    "\n",
    "import privugger.transformer.datastructures as pvds\n",
    "from privugger.transformer.discrete import *\n",
    "from privugger.transformer.continuous import *\n",
    "from privugger.transformer.program_output import *\n",
    "\n",
    "from privugger.transformer.method import *\n",
    "from privugger.measures.mutual_information import *\n",
    "\n",
    "import arviz as az\n",
    "\n",
    "\n",
    "import pymc3 as pm"
   ]
  },
  {
   "cell_type": "code",
   "execution_count": 2,
   "metadata": {},
   "outputs": [],
   "source": [
    "#####################\n",
    "# PATH TO PROGRAM ##\n",
    "###################\n",
    "program = \"program_to_analyze.py\"\n",
    "\n",
    "def alpha(age, name, alice_name):\n",
    "    return (age.sum()) / (age.size)"
   ]
  },
  {
   "cell_type": "code",
   "execution_count": 3,
   "metadata": {},
   "outputs": [
    {
     "name": "stdout",
     "output_type": "stream",
     "text": [
      "import theano\n",
      "import theano.tensor as tt\n",
      "import numpy as np\n",
      "\n",
      "\n",
      "def method(age, name, alice_name):\n",
      "\n",
      "    @theano.compile.ops.as_op(itypes=[tt.dvector, tt.lvector, tt.\n",
      "        TensorType('int64', (True,))], otypes=[tt.dscalar])\n",
      "    def alpha(age, name, alice_name):\n",
      "        return np.array(age.sum() / age.size)\n",
      "    return alpha(age, name, alice_name)\n",
      "\n",
      "[age, name, name_alice]\n"
     ]
    },
    {
     "name": "stderr",
     "output_type": "stream",
     "text": [
      "Multiprocess sampling (2 chains in 2 jobs)\n",
      "CompoundStep\n",
      ">NUTS: [age]\n",
      ">CompoundStep\n",
      ">>Metropolis: [name_alice]\n",
      ">>Metropolis: [name]\n"
     ]
    },
    {
     "data": {
      "text/html": [
       "\n",
       "    <div>\n",
       "        <style>\n",
       "            /* Turns off some styling */\n",
       "            progress {\n",
       "                /* gets rid of default border in Firefox and Opera. */\n",
       "                border: none;\n",
       "                /* Needs to be in here for Safari polyfill so background images work as expected. */\n",
       "                background-size: auto;\n",
       "            }\n",
       "            .progress-bar-interrupted, .progress-bar-interrupted::-webkit-progress-bar {\n",
       "                background: #F44336;\n",
       "            }\n",
       "        </style>\n",
       "      <progress value='4000' class='' max='4000' style='width:300px; height:20px; vertical-align: middle;'></progress>\n",
       "      100.00% [4000/4000 00:01<00:00 Sampling 2 chains, 0 divergences]\n",
       "    </div>\n",
       "    "
      ],
      "text/plain": [
       "<IPython.core.display.HTML object>"
      ]
     },
     "metadata": {},
     "output_type": "display_data"
    },
    {
     "name": "stderr",
     "output_type": "stream",
     "text": [
      "Sampling 2 chains for 1_000 tune and 1_000 draw iterations (2_000 + 2_000 draws total) took 3 seconds.\n",
      "The rhat statistic is larger than 1.05 for some parameters. This indicates slight problems during sampling.\n",
      "The estimated number of effective samples is smaller than 200 for some parameters.\n"
     ]
    }
   ],
   "source": [
    "\n",
    "##################\n",
    "## AGE EXAMPLE ##\n",
    "#################\n",
    "\n",
    "N    = 10\n",
    "\n",
    "# Specify distributions\n",
    "age  = Normal(mu=55.2, std=3.5, num_elements=N)\n",
    "name = DiscreteUniform(0, 5, num_elements=N)\n",
    "    \n",
    "age_alice  = Uniform(lower=0, upper=100, num_elements=1)\n",
    "name_alice = DiscreteUniform(0, 5, num_elements=1) \n",
    "\n",
    "\n",
    "dist_stack_1 = Normal(mu=0, std=15, num_elements=N)\n",
    "dist_stack_2 = Normal(mu=1, std=5, num_elements=N)\n",
    "dist_stack_3 = Normal(mu=2, std=1, num_elements=N)\n",
    "\n",
    "\n",
    "#This is an example of how to concatenate\n",
    "con  = concatenate(age_alice, age)\n",
    "\n",
    "#This is not used in the program, just an example to illustrate how to use\n",
    "stacked = stack([dist_stack_1, dist_stack_2, dist_stack_3], axis=0)\n",
    "\n",
    "# Create dataset. Refer to \"age_alice\" as \"age1\" in the trace and \"age\" as \"age2\" in the trace. This is the general naming convention. \n",
    "ds   = pvds.Dataset(input_specs = [con, stacked, name, name_alice],\n",
    "                  var_names   = [\"age\", \"stacked\", \"name\", \"name_alice\"])\n",
    "\n",
    "# Call infer and specify program output\n",
    "# For now output type can be: Int, Float, List(Float), List(Int)\n",
    "trace = infer(ds, Float,  alpha, cores=2, draws=1000)"
   ]
  },
  {
   "cell_type": "code",
   "execution_count": 19,
   "metadata": {},
   "outputs": [
    {
     "data": {
      "text/plain": [
       "{'age1_interval__': array([-1.77085666]),\n",
       " 'age2': array([58.03911816, 54.4445012 , 55.41451912, 60.42400327, 58.04198223,\n",
       "        58.71457342, 51.54331872, 54.08231318, 58.98070821, 63.80370524]),\n",
       " 'name': array([2, 3, 2, 5, 1, 3, 4, 3, 5, 0]),\n",
       " 'name_alice': array([5]),\n",
       " 'age1': array([14.54358271]),\n",
       " 'output': 53.457484130756036}"
      ]
     },
     "execution_count": 19,
     "metadata": {},
     "output_type": "execute_result"
    }
   ],
   "source": [
    "#age = trace['b, a']\n",
    "#age\n",
    "#out = trace['output']\n",
    "#trace[0]\n",
    "#mi_sklearn(age, out, n_neigh=5)"
   ]
  },
  {
   "cell_type": "code",
   "execution_count": 4,
   "metadata": {},
   "outputs": [
    {
     "name": "stdout",
     "output_type": "stream",
     "text": [
      "[names, ages, zips, genders, diagnoses]\n",
      "names\n",
      "ages\n",
      "zips\n",
      "genders\n",
      "diagnoses\n"
     ]
    },
    {
     "name": "stderr",
     "output_type": "stream",
     "text": [
      "Multiprocess sampling (2 chains in 2 jobs)\n",
      "CompoundStep\n",
      ">CompoundStep\n",
      ">>Metropolis: [zips]\n",
      ">>Metropolis: [names]\n",
      ">NUTS: [ages]\n",
      ">BinaryGibbsMetropolis: [genders, diagnoses]\n"
     ]
    },
    {
     "data": {
      "text/html": [
       "\n",
       "    <div>\n",
       "        <style>\n",
       "            /* Turns off some styling */\n",
       "            progress {\n",
       "                /* gets rid of default border in Firefox and Opera. */\n",
       "                border: none;\n",
       "                /* Needs to be in here for Safari polyfill so background images work as expected. */\n",
       "                background-size: auto;\n",
       "            }\n",
       "            .progress-bar-interrupted, .progress-bar-interrupted::-webkit-progress-bar {\n",
       "                background: #F44336;\n",
       "            }\n",
       "        </style>\n",
       "      <progress value='3000' class='' max='3000' style='width:300px; height:20px; vertical-align: middle;'></progress>\n",
       "      100.00% [3000/3000 00:02<00:00 Sampling 2 chains, 0 divergences]\n",
       "    </div>\n",
       "    "
      ],
      "text/plain": [
       "<IPython.core.display.HTML object>"
      ]
     },
     "metadata": {},
     "output_type": "display_data"
    },
    {
     "name": "stderr",
     "output_type": "stream",
     "text": [
      "Sampling 2 chains for 1_000 tune and 500 draw iterations (2_000 + 1_000 draws total) took 3 seconds.\n",
      "The rhat statistic is larger than 1.2 for some parameters.\n",
      "The estimated number of effective samples is smaller than 200 for some parameters.\n"
     ]
    }
   ],
   "source": [
    "\n",
    "N = 10\n",
    "\n",
    "#alice_name      = Constant(0)\n",
    "#alice_age       = Constant(25)\n",
    "#alice_zip       = Constant(50)\n",
    "#alice_gender    = Constant(1) \n",
    "#alice_diagnosis = Constant(1) \n",
    "    \n",
    "    \n",
    "names = DiscreteUniform(0, 5, num_elements=N)\n",
    "ages  = Normal(mu=55.2, std=3.5, num_elements=N)\n",
    "\n",
    "zips = DiscreteUniform(0, 100, num_elements=N)\n",
    "\n",
    "genders = Bernoulli(p=.5, num_elements=N)   \n",
    "diagnoses = Bernoulli(p=.2,num_elements=N)\n",
    "\n",
    "ds = pvds.Dataset(input_specs = [names, ages, zips, genders, diagnoses], \n",
    "                  var_names=[\"names\", \"ages\", \"zips\", \"genders\", \"diagnoses\"])\n",
    "\n",
    "\n",
    "trace = infer(ds, stack=True)"
   ]
  }
 ],
 "metadata": {
  "kernelspec": {
   "display_name": "Python 3",
   "language": "python",
   "name": "python3"
  },
  "language_info": {
   "codemirror_mode": {
    "name": "ipython",
    "version": 3
   },
   "file_extension": ".py",
   "mimetype": "text/x-python",
   "name": "python",
   "nbconvert_exporter": "python",
   "pygments_lexer": "ipython3",
   "version": "3.8.10"
  }
 },
 "nbformat": 4,
 "nbformat_minor": 4
}
