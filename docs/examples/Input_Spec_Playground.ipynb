{
 "cells": [
  {
   "cell_type": "code",
   "execution_count": 8,
   "metadata": {
    "collapsed": false,
    "jupyter": {
     "outputs_hidden": false
    }
   },
   "outputs": [
    {
     "ename": "AttributeError",
     "evalue": "module 'fastprogress' has no attribute 'force_console_behavior'",
     "output_type": "error",
     "traceback": [
      "\u001b[0;31m\u001b[0m",
      "\u001b[0;31mAttributeError\u001b[0mTraceback (most recent call last)",
      "\u001b[0;32m<ipython-input-8-27bac7f861df>\u001b[0m in \u001b[0;36m<module>\u001b[0;34m\u001b[0m\n\u001b[1;32m     14\u001b[0m \u001b[0;34m\u001b[0m\u001b[0m\n\u001b[1;32m     15\u001b[0m \u001b[0;32mimport\u001b[0m \u001b[0mfastprogress\u001b[0m\u001b[0;34m\u001b[0m\u001b[0;34m\u001b[0m\u001b[0m\n\u001b[0;32m---> 16\u001b[0;31m \u001b[0mmaster_bar\u001b[0m\u001b[0;34m,\u001b[0m\u001b[0mprogress_bar\u001b[0m \u001b[0;34m=\u001b[0m \u001b[0mfastprogress\u001b[0m\u001b[0;34m.\u001b[0m\u001b[0mforce_console_behavior\u001b[0m\u001b[0;34m(\u001b[0m\u001b[0;34m)\u001b[0m\u001b[0;34m\u001b[0m\u001b[0;34m\u001b[0m\u001b[0m\n\u001b[0m",
      "\u001b[0;31mAttributeError\u001b[0m: module 'fastprogress' has no attribute 'force_console_behavior'"
     ]
    }
   ],
   "source": [
    "import os, sys\n",
    "sys.path.append(os.path.join(\"../..\"))\n",
    "\n",
    "import privugger.transformer.datastructures as pvds\n",
    "from privugger.transformer.discrete import *\n",
    "from privugger.transformer.continuous import *\n",
    "from privugger.transformer.program_output import *\n",
    "\n",
    "from privugger.transformer.method import *\n",
    "from privugger.measures.mutual_information import *\n",
    "\n",
    "import arviz as az\n",
    "import pymc3 as pm\n",
    "\n",
    "import fastprogress\n",
    "master_bar,progress_bar = fastprogress.force_console_behavior()"
   ]
  },
  {
   "cell_type": "code",
   "execution_count": 2,
   "metadata": {
    "collapsed": false,
    "jupyter": {
     "outputs_hidden": false
    }
   },
   "outputs": [],
   "source": [
    "#####################\n",
    "## PATH TO PROGRAM ##\n",
    "#####################\n",
    "program = \"program_to_analyze.py\""
   ]
  },
  {
   "cell_type": "code",
   "execution_count": 5,
   "metadata": {
    "collapsed": false,
    "jupyter": {
     "outputs_hidden": false
    }
   },
   "outputs": [
    {
     "name": "stdout",
     "output_type": "stream",
     "text": [
      "import theano\n",
      "import theano.tensor as tt\n",
      "import numpy as np\n",
      "\n",
      "\n",
      "def method(age, age_alice, name, name_alice):\n",
      "\n",
      "    @theano.compile.ops.as_op(itypes=[tt.dvector, tt.dscalar, tt.lvector,\n",
      "        tt.lscalar], otypes=[tt.dscalar])\n",
      "    def alpha(age, age_alice, name, name_alice):\n",
      "        return np.array((sum(age) + age_alice) / (age.size + 1))\n",
      "    return alpha(age, age_alice, name, name_alice)\n",
      "\n"
     ]
    },
    {
     "name": "stdout",
     "output_type": "stream",
     "text": [
      "[age ~ Normal, alice_age ~ Uniform, name ~ DiscreteUniform, name_alice ~ DiscreteUniform]\n"
     ]
    },
    {
     "name": "stderr",
     "output_type": "stream",
     "text": [
      "../../privugger/transformer/method.py:149: FutureWarning: In v4.0, pm.sample will return an `arviz.InferenceData` object instead of a `MultiTrace` by default. You can pass return_inferencedata=True or return_inferencedata=False to be safe and silence this warning.\n",
      "  trace = pm.sample(draws=draws, chains=chains, cores=cores)\n"
     ]
    },
    {
     "name": "stderr",
     "output_type": "stream",
     "text": [
      "Multiprocess sampling (2 chains in 4 jobs)\n"
     ]
    },
    {
     "name": "stderr",
     "output_type": "stream",
     "text": [
      "CompoundStep\n"
     ]
    },
    {
     "name": "stderr",
     "output_type": "stream",
     "text": [
      ">NUTS: [alice_age, age]\n"
     ]
    },
    {
     "name": "stderr",
     "output_type": "stream",
     "text": [
      ">CompoundStep\n"
     ]
    },
    {
     "name": "stderr",
     "output_type": "stream",
     "text": [
      ">>Metropolis: [name_alice]\n"
     ]
    },
    {
     "name": "stderr",
     "output_type": "stream",
     "text": [
      ">>Metropolis: [name]\n"
     ]
    },
    {
     "data": {
      "text/html": [
       "\n",
       "    <div>\n",
       "        <style>\n",
       "            /* Turns off some styling */\n",
       "            progress {\n",
       "                /* gets rid of default border in Firefox and Opera. */\n",
       "                border: none;\n",
       "                /* Needs to be in here for Safari polyfill so background images work as expected. */\n",
       "                background-size: auto;\n",
       "            }\n",
       "            .progress-bar-interrupted, .progress-bar-interrupted::-webkit-progress-bar {\n",
       "                background: #F44336;\n",
       "            }\n",
       "        </style>\n",
       "      <progress value='0' class='' max='4000' style='width:300px; height:20px; vertical-align: middle;'></progress>\n",
       "      \n",
       "    </div>\n",
       "    "
      ],
      "text/plain": [
       "<IPython.core.display.HTML object>"
      ]
     },
     "metadata": {},
     "output_type": "display_data"
    },
    {
     "name": "stderr",
     "output_type": "stream",
     "text": [
      "Sampling 2 chains for 1_000 tune and 1_000 draw iterations (2_000 + 2_000 draws total) took 2 seconds.\n"
     ]
    },
    {
     "name": "stderr",
     "output_type": "stream",
     "text": [
      "The rhat statistic is larger than 1.05 for some parameters. This indicates slight problems during sampling.\n"
     ]
    },
    {
     "name": "stderr",
     "output_type": "stream",
     "text": [
      "The estimated number of effective samples is smaller than 200 for some parameters.\n"
     ]
    }
   ],
   "source": [
    "#################\n",
    "## AGE EXAMPLE ##\n",
    "#################\n",
    "\n",
    "# Database size\n",
    "N    = 10\n",
    "\n",
    "# Specify distributions\n",
    "age  = Normal(mu=55.2, std=3.5, num_elements=N)\n",
    "name = DiscreteUniform(0, 5, num_elements=N)\n",
    "    \n",
    "age_alice  = Uniform(lower=0, upper=100)\n",
    "name_alice = DiscreteUniform(0, 5) \n",
    "\n",
    "\n",
    "# Create dataset and specify program output\n",
    "# For now output type can be: Int, Float, List(Float), List(Int)\n",
    "ds = pvds.Dataset(input_specs = [age, age_alice, name, name_alice],\n",
    "                  var_names   = [\"age\", \"alice_age\", \"name\", \"name_alice\"],\n",
    "                  program_output = Float)\n",
    "\n",
    "# Call infer\n",
    "trace = infer(ds,  program, draws=1000, cores=4)"
   ]
  },
  {
   "cell_type": "code",
   "execution_count": 5,
   "metadata": {
    "collapsed": false,
    "jupyter": {
     "outputs_hidden": false
    }
   },
   "outputs": [
    {
     "data": {
      "text/plain": [
       "array([1.48835712])"
      ]
     },
     "execution_count": 5,
     "metadata": {},
     "output_type": "execute_result"
    }
   ],
   "source": [
    "age = trace['alice_age']\n",
    "out = trace['output']\n",
    "\n",
    "mi_sklearn(age, out, n_neigh=40)"
   ]
  },
  {
   "cell_type": "code",
   "execution_count": 4,
   "metadata": {
    "collapsed": false,
    "jupyter": {
     "outputs_hidden": false
    }
   },
   "outputs": [
    {
     "name": "stdout",
     "output_type": "stream",
     "text": [
      "[names, ages, zips, genders, diagnoses]\n",
      "names\n",
      "ages\n",
      "zips\n",
      "genders\n",
      "diagnoses\n"
     ]
    },
    {
     "name": "stderr",
     "output_type": "stream",
     "text": [
      "Multiprocess sampling (2 chains in 2 jobs)\n",
      "CompoundStep\n",
      ">CompoundStep\n",
      ">>Metropolis: [zips]\n",
      ">>Metropolis: [names]\n",
      ">NUTS: [ages]\n",
      ">BinaryGibbsMetropolis: [genders, diagnoses]\n"
     ]
    },
    {
     "data": {
      "text/html": [
       "\n",
       "    <div>\n",
       "        <style>\n",
       "            /* Turns off some styling */\n",
       "            progress {\n",
       "                /* gets rid of default border in Firefox and Opera. */\n",
       "                border: none;\n",
       "                /* Needs to be in here for Safari polyfill so background images work as expected. */\n",
       "                background-size: auto;\n",
       "            }\n",
       "            .progress-bar-interrupted, .progress-bar-interrupted::-webkit-progress-bar {\n",
       "                background: #F44336;\n",
       "            }\n",
       "        </style>\n",
       "      <progress value='3000' class='' max='3000' style='width:300px; height:20px; vertical-align: middle;'></progress>\n",
       "      100.00% [3000/3000 00:02<00:00 Sampling 2 chains, 0 divergences]\n",
       "    </div>\n",
       "    "
      ],
      "text/plain": [
       "<IPython.core.display.HTML object>"
      ]
     },
     "metadata": {},
     "output_type": "display_data"
    },
    {
     "name": "stderr",
     "output_type": "stream",
     "text": [
      "Sampling 2 chains for 1_000 tune and 500 draw iterations (2_000 + 1_000 draws total) took 3 seconds.\n",
      "The rhat statistic is larger than 1.2 for some parameters.\n",
      "The estimated number of effective samples is smaller than 200 for some parameters.\n"
     ]
    }
   ],
   "source": [
    "\n",
    "N = 10\n",
    "\n",
    "#alice_name      = Constant(0)\n",
    "#alice_age       = Constant(25)\n",
    "#alice_zip       = Constant(50)\n",
    "#alice_gender    = Constant(1) \n",
    "#alice_diagnosis = Constant(1) \n",
    "    \n",
    "    \n",
    "names = DiscreteUniform(0, 5, num_elements=N)\n",
    "ages  = Normal(mu=55.2, std=3.5, num_elements=N)\n",
    "\n",
    "zips = DiscreteUniform(0, 100, num_elements=N)\n",
    "\n",
    "genders = Bernoulli(p=.5, num_elements=N)   \n",
    "diagnoses = Bernoulli(p=.2,num_elements=N)\n",
    "\n",
    "ds = pvds.Dataset(input_specs = [names, ages, zips, genders, diagnoses], \n",
    "                  var_names=[\"names\", \"ages\", \"zips\", \"genders\", \"diagnoses\"])\n",
    "\n",
    "\n",
    "trace = infer(ds, stack=True)"
   ]
  }
 ],
 "metadata": {
  "kernelspec": {
   "argv": [
    "python",
    "-m",
    "ipykernel_launcher",
    "-f",
    "{connection_file}"
   ],
   "display_name": "Python 3",
   "env": null,
   "interrupt_mode": "signal",
   "language": "python",
   "metadata": null,
   "name": "python3"
  },
  "language_info": {
   "codemirror_mode": {
    "name": "ipython",
    "version": 3
   },
   "file_extension": ".py",
   "mimetype": "text/x-python",
   "name": "python",
   "nbconvert_exporter": "python",
   "pygments_lexer": "ipython3",
   "version": "3.8.5"
  },
  "name": "Input_Spec_Playground.ipynb"
 },
 "nbformat": 4,
 "nbformat_minor": 4
}
